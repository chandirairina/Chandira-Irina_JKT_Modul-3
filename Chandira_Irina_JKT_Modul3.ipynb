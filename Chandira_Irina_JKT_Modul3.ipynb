{
  "nbformat": 4,
  "nbformat_minor": 0,
  "metadata": {
    "colab": {
      "name": "Chandira Irina_JKT_Modul3",
      "provenance": [],
      "collapsed_sections": [],
      "toc_visible": true
    },
    "kernelspec": {
      "name": "python3",
      "display_name": "Python 3"
    }
  },
  "cells": [
    {
      "cell_type": "markdown",
      "metadata": {
        "id": "WILFty4Pe1Le",
        "colab_type": "text"
      },
      "source": [
        "# Telecom Customer Churn"
      ]
    },
    {
      "cell_type": "markdown",
      "metadata": {
        "id": "2-0XhdEOe1Lf",
        "colab_type": "text"
      },
      "source": [
        "WELCOME TO EXAM MODULE 3! :) You're super great that you're here already. Now, buckle up!"
      ]
    },
    {
      "cell_type": "markdown",
      "metadata": {
        "id": "4rB0-tpBe1Lg",
        "colab_type": "text"
      },
      "source": [
        "Data yang digunakan pada exam ini adalah data Customer Churn dari suatu perusahaan telekomunikasi.\n",
        "\n",
        "Customer Churn adalah fenomena ketika customer pergi meninggalkan produk kita. Tentu kita tidak menginginkan customer untuk berhenti menggunakan produk kita, kan? \n",
        "\n",
        "Inilah tantangannya! Kita akan mencoba memprediksi apakah customer akan churn atau tidak. "
      ]
    },
    {
      "cell_type": "markdown",
      "metadata": {
        "id": "Bf1Y0XSIe1Li",
        "colab_type": "text"
      },
      "source": [
        "The data set includes information about:\n",
        "\n",
        "- Customers who left within the last month – the column is called Churn\n",
        "- Services that each customer has signed up for – phone, multiple lines, internet, online security, online backup, device protection, tech support, and streaming TV and movies\n",
        "- Customer account information – how long they’ve been a customer, contract, payment method, paperless billing, monthly charges, and total charges\n",
        "- Demographic info about customers – gender, age range, and if they have partners and dependents"
      ]
    },
    {
      "cell_type": "markdown",
      "metadata": {
        "id": "ZW519E8ae1Lj",
        "colab_type": "text"
      },
      "source": [
        "<b> Coloumns Descriptions  </b>\n",
        "- customerID = Customer ID\n",
        "- gender = Whether the customer is a male or a female\n",
        "- SeniorCitizen = Whether the customer is a senior citizen or not (1, 0)\n",
        "- Partner = Whether the customer has a partner or not (Yes, No)\n",
        "- Dependents = Whether the customer has dependents or not (Yes, No)\n",
        "- tenure = Number of months the customer has stayed with the company\n",
        "- PhoneService = Whether the customer has a phone service or not (Yes, No)\n",
        "- MultipleLines = Whether the customer has multiple lines or not (Yes, No, No phone service)\n",
        "- InternetService = Customer’s internet service provider (DSL, Fiber optic, No)\n",
        "- OnlineSecurity = Whether the customer has online security or not (Yes, No, No internet service)\n",
        "- OnlineBackup = Whether the customer has online backup or not (Yes, No, No internet service)\n",
        "- DeviceProtection = Whether the customer has device protection or not (Yes, No, No internet service)\n",
        "- TechSupport = Whether the customer has tech support or not (Yes, No, No internet service)\n",
        "- StreamingTV = Whether the customer has streaming TV or not (Yes, No, No internet service)\n",
        "- StreamingMovies = Whether the customer has streaming movies or not (Yes, No, No internet service)\n",
        "- Contract = The contract term of the customer (Month-to-month, One year, Two year)\n",
        "- PaperlessBilling = Whether the customer has paperless billing or not (Yes, No)\n",
        "- PaymentMethod = The customer’s payment method (Electronic check, Mailed check, Bank transfer (automatic), Credit card (automatic))\n",
        "- MonthlyCharges = The amount charged to the customer monthly\n",
        "- TotalCharges = The total amount charged to the customer\n",
        "- Churn = Whether the customer churned or not (Yes or No)"
      ]
    },
    {
      "cell_type": "markdown",
      "metadata": {
        "id": "Y43g08_xe1Lk",
        "colab_type": "text"
      },
      "source": [
        "In this exam, the maximum point is 100 with the criterion is shown below:\n",
        "- Q1 Data Preparation: 15 point\n",
        "- Q2 Data Visualization: 35 point\n",
        "- Q3 Classification Modelling: 20 point\n",
        "- Q4 Perbaikan Modelling: 30 point"
      ]
    },
    {
      "cell_type": "code",
      "metadata": {
        "ExecuteTime": {
          "end_time": "2020-03-15T16:44:31.874205Z",
          "start_time": "2020-03-15T16:44:30.830297Z"
        },
        "id": "aGpd3LEve1Lm",
        "colab_type": "code",
        "colab": {}
      },
      "source": [
        "import pandas as pd\n",
        "import matplotlib.pyplot as plt\n",
        "import seaborn as sns\n",
        "import numpy as np"
      ],
      "execution_count": 186,
      "outputs": []
    },
    {
      "cell_type": "code",
      "metadata": {
        "id": "K91nKBqTK4AC",
        "colab_type": "code",
        "colab": {}
      },
      "source": [
        "from sklearn.linear_model import LogisticRegression\n",
        "from sklearn.tree import DecisionTreeClassifier\n",
        "from sklearn.neighbors import KNeighborsClassifier\n",
        "from sklearn.ensemble import RandomForestClassifier, GradientBoostingClassifier\n",
        "\n",
        "from statsmodels.stats.outliers_influence import variance_inflation_factor\n",
        "from sklearn.preprocessing import LabelEncoder\n",
        "from sklearn.preprocessing import RobustScaler, MinMaxScaler, StandardScaler\n",
        "from imblearn.over_sampling import SMOTE\n",
        "\n",
        "from sklearn.model_selection import train_test_split, GridSearchCV, RandomizedSearchCV\n",
        "\n",
        "from sklearn.metrics import classification_report, confusion_matrix, accuracy_score, recall_score, f1_score, precision_score"
      ],
      "execution_count": 187,
      "outputs": []
    },
    {
      "cell_type": "code",
      "metadata": {
        "ExecuteTime": {
          "end_time": "2020-03-15T16:44:31.901146Z",
          "start_time": "2020-03-15T16:44:31.875187Z"
        },
        "id": "DPlZSTBae1Ls",
        "colab_type": "code",
        "colab": {}
      },
      "source": [
        "df = pd.read_csv('Churn_ujian.csv')"
      ],
      "execution_count": 188,
      "outputs": []
    },
    {
      "cell_type": "code",
      "metadata": {
        "id": "O_oLJ_cnFlTC",
        "colab_type": "code",
        "colab": {}
      },
      "source": [
        "df=pd.read_csv(r\"/content/Churn_ujian.csv\")"
      ],
      "execution_count": 189,
      "outputs": []
    },
    {
      "cell_type": "code",
      "metadata": {
        "id": "szrvfjLVFoJ3",
        "colab_type": "code",
        "colab": {
          "base_uri": "https://localhost:8080/",
          "height": 301
        },
        "outputId": "d26c0f71-1e02-45cd-a97b-b4299c938c1f"
      },
      "source": [
        "df.head()"
      ],
      "execution_count": 171,
      "outputs": [
        {
          "output_type": "execute_result",
          "data": {
            "text/html": [
              "<div>\n",
              "<style scoped>\n",
              "    .dataframe tbody tr th:only-of-type {\n",
              "        vertical-align: middle;\n",
              "    }\n",
              "\n",
              "    .dataframe tbody tr th {\n",
              "        vertical-align: top;\n",
              "    }\n",
              "\n",
              "    .dataframe thead th {\n",
              "        text-align: right;\n",
              "    }\n",
              "</style>\n",
              "<table border=\"1\" class=\"dataframe\">\n",
              "  <thead>\n",
              "    <tr style=\"text-align: right;\">\n",
              "      <th></th>\n",
              "      <th>customerID</th>\n",
              "      <th>gender</th>\n",
              "      <th>SeniorCitizen</th>\n",
              "      <th>Partner</th>\n",
              "      <th>Dependents</th>\n",
              "      <th>tenure</th>\n",
              "      <th>PhoneService</th>\n",
              "      <th>MultipleLines</th>\n",
              "      <th>InternetService</th>\n",
              "      <th>OnlineSecurity</th>\n",
              "      <th>OnlineBackup</th>\n",
              "      <th>DeviceProtection</th>\n",
              "      <th>TechSupport</th>\n",
              "      <th>StreamingTV</th>\n",
              "      <th>StreamingMovies</th>\n",
              "      <th>Contract</th>\n",
              "      <th>PaperlessBilling</th>\n",
              "      <th>PaymentMethod</th>\n",
              "      <th>MonthlyCharges</th>\n",
              "      <th>TotalCharges</th>\n",
              "      <th>Churn</th>\n",
              "    </tr>\n",
              "  </thead>\n",
              "  <tbody>\n",
              "    <tr>\n",
              "      <th>0</th>\n",
              "      <td>7590-VHVEG</td>\n",
              "      <td>Female</td>\n",
              "      <td>0</td>\n",
              "      <td>Yes</td>\n",
              "      <td>No</td>\n",
              "      <td>1</td>\n",
              "      <td>No</td>\n",
              "      <td>No phone service</td>\n",
              "      <td>DSL</td>\n",
              "      <td>No</td>\n",
              "      <td>Yes</td>\n",
              "      <td>No</td>\n",
              "      <td>No</td>\n",
              "      <td>No</td>\n",
              "      <td>No</td>\n",
              "      <td>Month-to-month</td>\n",
              "      <td>Yes</td>\n",
              "      <td>Electronic check</td>\n",
              "      <td>29.85</td>\n",
              "      <td>29.85</td>\n",
              "      <td>No</td>\n",
              "    </tr>\n",
              "    <tr>\n",
              "      <th>1</th>\n",
              "      <td>5575-GNVDE</td>\n",
              "      <td>Male</td>\n",
              "      <td>0</td>\n",
              "      <td>No</td>\n",
              "      <td>No</td>\n",
              "      <td>34</td>\n",
              "      <td>Yes</td>\n",
              "      <td>No</td>\n",
              "      <td>DSL</td>\n",
              "      <td>Yes</td>\n",
              "      <td>No</td>\n",
              "      <td>Yes</td>\n",
              "      <td>No</td>\n",
              "      <td>No</td>\n",
              "      <td>No</td>\n",
              "      <td>One year</td>\n",
              "      <td>No</td>\n",
              "      <td>Mailed check</td>\n",
              "      <td>56.95</td>\n",
              "      <td>1889.5</td>\n",
              "      <td>No</td>\n",
              "    </tr>\n",
              "    <tr>\n",
              "      <th>2</th>\n",
              "      <td>3668-QPYBK</td>\n",
              "      <td>Male</td>\n",
              "      <td>0</td>\n",
              "      <td>No</td>\n",
              "      <td>No</td>\n",
              "      <td>2</td>\n",
              "      <td>Yes</td>\n",
              "      <td>No</td>\n",
              "      <td>DSL</td>\n",
              "      <td>Yes</td>\n",
              "      <td>Yes</td>\n",
              "      <td>No</td>\n",
              "      <td>No</td>\n",
              "      <td>No</td>\n",
              "      <td>No</td>\n",
              "      <td>Month-to-month</td>\n",
              "      <td>Yes</td>\n",
              "      <td>Mailed check</td>\n",
              "      <td>53.85</td>\n",
              "      <td>108.15</td>\n",
              "      <td>Yes</td>\n",
              "    </tr>\n",
              "    <tr>\n",
              "      <th>3</th>\n",
              "      <td>7795-CFOCW</td>\n",
              "      <td>Male</td>\n",
              "      <td>0</td>\n",
              "      <td>No</td>\n",
              "      <td>No</td>\n",
              "      <td>45</td>\n",
              "      <td>No</td>\n",
              "      <td>No phone service</td>\n",
              "      <td>DSL</td>\n",
              "      <td>Yes</td>\n",
              "      <td>No</td>\n",
              "      <td>Yes</td>\n",
              "      <td>Yes</td>\n",
              "      <td>No</td>\n",
              "      <td>No</td>\n",
              "      <td>One year</td>\n",
              "      <td>No</td>\n",
              "      <td>Bank transfer (automatic)</td>\n",
              "      <td>42.30</td>\n",
              "      <td>1840.75</td>\n",
              "      <td>No</td>\n",
              "    </tr>\n",
              "    <tr>\n",
              "      <th>4</th>\n",
              "      <td>9237-HQITU</td>\n",
              "      <td>Female</td>\n",
              "      <td>0</td>\n",
              "      <td>No</td>\n",
              "      <td>No</td>\n",
              "      <td>2</td>\n",
              "      <td>Yes</td>\n",
              "      <td>No</td>\n",
              "      <td>Fiber optic</td>\n",
              "      <td>No</td>\n",
              "      <td>No</td>\n",
              "      <td>No</td>\n",
              "      <td>No</td>\n",
              "      <td>No</td>\n",
              "      <td>No</td>\n",
              "      <td>Month-to-month</td>\n",
              "      <td>Yes</td>\n",
              "      <td>Electronic check</td>\n",
              "      <td>70.70</td>\n",
              "      <td>151.65</td>\n",
              "      <td>Yes</td>\n",
              "    </tr>\n",
              "  </tbody>\n",
              "</table>\n",
              "</div>"
            ],
            "text/plain": [
              "   customerID  gender  SeniorCitizen  ... MonthlyCharges TotalCharges  Churn\n",
              "0  7590-VHVEG  Female              0  ...          29.85        29.85     No\n",
              "1  5575-GNVDE    Male              0  ...          56.95       1889.5     No\n",
              "2  3668-QPYBK    Male              0  ...          53.85       108.15    Yes\n",
              "3  7795-CFOCW    Male              0  ...          42.30      1840.75     No\n",
              "4  9237-HQITU  Female              0  ...          70.70       151.65    Yes\n",
              "\n",
              "[5 rows x 21 columns]"
            ]
          },
          "metadata": {
            "tags": []
          },
          "execution_count": 171
        }
      ]
    },
    {
      "cell_type": "code",
      "metadata": {
        "ExecuteTime": {
          "end_time": "2020-03-15T16:44:31.922033Z",
          "start_time": "2020-03-15T16:44:31.902106Z"
        },
        "id": "pcyKjl18e1Lx",
        "colab_type": "code",
        "colab": {},
        "outputId": "99199a54-9530-4481-dc77-a3e53b98d4dd"
      },
      "source": [
        "# tulislah code yang mengeluarkan output seperti di bawah ini"
      ],
      "execution_count": null,
      "outputs": [
        {
          "output_type": "execute_result",
          "data": {
            "text/html": [
              "<div>\n",
              "<style scoped>\n",
              "    .dataframe tbody tr th:only-of-type {\n",
              "        vertical-align: middle;\n",
              "    }\n",
              "\n",
              "    .dataframe tbody tr th {\n",
              "        vertical-align: top;\n",
              "    }\n",
              "\n",
              "    .dataframe thead th {\n",
              "        text-align: right;\n",
              "    }\n",
              "</style>\n",
              "<table border=\"1\" class=\"dataframe\">\n",
              "  <thead>\n",
              "    <tr style=\"text-align: right;\">\n",
              "      <th></th>\n",
              "      <th>customerID</th>\n",
              "      <th>gender</th>\n",
              "      <th>SeniorCitizen</th>\n",
              "      <th>Partner</th>\n",
              "      <th>Dependents</th>\n",
              "      <th>tenure</th>\n",
              "      <th>PhoneService</th>\n",
              "      <th>MultipleLines</th>\n",
              "      <th>InternetService</th>\n",
              "      <th>OnlineSecurity</th>\n",
              "      <th>OnlineBackup</th>\n",
              "      <th>DeviceProtection</th>\n",
              "      <th>TechSupport</th>\n",
              "      <th>StreamingTV</th>\n",
              "      <th>StreamingMovies</th>\n",
              "      <th>Contract</th>\n",
              "      <th>PaperlessBilling</th>\n",
              "      <th>PaymentMethod</th>\n",
              "      <th>MonthlyCharges</th>\n",
              "      <th>TotalCharges</th>\n",
              "      <th>Churn</th>\n",
              "    </tr>\n",
              "  </thead>\n",
              "  <tbody>\n",
              "    <tr>\n",
              "      <th>0</th>\n",
              "      <td>7590-VHVEG</td>\n",
              "      <td>Female</td>\n",
              "      <td>0</td>\n",
              "      <td>Yes</td>\n",
              "      <td>No</td>\n",
              "      <td>1</td>\n",
              "      <td>No</td>\n",
              "      <td>No phone service</td>\n",
              "      <td>DSL</td>\n",
              "      <td>No</td>\n",
              "      <td>Yes</td>\n",
              "      <td>No</td>\n",
              "      <td>No</td>\n",
              "      <td>No</td>\n",
              "      <td>No</td>\n",
              "      <td>Month-to-month</td>\n",
              "      <td>Yes</td>\n",
              "      <td>Electronic check</td>\n",
              "      <td>29.85</td>\n",
              "      <td>29.85</td>\n",
              "      <td>No</td>\n",
              "    </tr>\n",
              "    <tr>\n",
              "      <th>1</th>\n",
              "      <td>5575-GNVDE</td>\n",
              "      <td>Male</td>\n",
              "      <td>0</td>\n",
              "      <td>No</td>\n",
              "      <td>No</td>\n",
              "      <td>34</td>\n",
              "      <td>Yes</td>\n",
              "      <td>No</td>\n",
              "      <td>DSL</td>\n",
              "      <td>Yes</td>\n",
              "      <td>No</td>\n",
              "      <td>Yes</td>\n",
              "      <td>No</td>\n",
              "      <td>No</td>\n",
              "      <td>No</td>\n",
              "      <td>One year</td>\n",
              "      <td>No</td>\n",
              "      <td>Mailed check</td>\n",
              "      <td>56.95</td>\n",
              "      <td>1889.5</td>\n",
              "      <td>No</td>\n",
              "    </tr>\n",
              "    <tr>\n",
              "      <th>2</th>\n",
              "      <td>3668-QPYBK</td>\n",
              "      <td>Male</td>\n",
              "      <td>0</td>\n",
              "      <td>No</td>\n",
              "      <td>No</td>\n",
              "      <td>2</td>\n",
              "      <td>Yes</td>\n",
              "      <td>No</td>\n",
              "      <td>DSL</td>\n",
              "      <td>Yes</td>\n",
              "      <td>Yes</td>\n",
              "      <td>No</td>\n",
              "      <td>No</td>\n",
              "      <td>No</td>\n",
              "      <td>No</td>\n",
              "      <td>Month-to-month</td>\n",
              "      <td>Yes</td>\n",
              "      <td>Mailed check</td>\n",
              "      <td>53.85</td>\n",
              "      <td>108.15</td>\n",
              "      <td>Yes</td>\n",
              "    </tr>\n",
              "    <tr>\n",
              "      <th>3</th>\n",
              "      <td>7795-CFOCW</td>\n",
              "      <td>Male</td>\n",
              "      <td>0</td>\n",
              "      <td>No</td>\n",
              "      <td>No</td>\n",
              "      <td>45</td>\n",
              "      <td>No</td>\n",
              "      <td>No phone service</td>\n",
              "      <td>DSL</td>\n",
              "      <td>Yes</td>\n",
              "      <td>No</td>\n",
              "      <td>Yes</td>\n",
              "      <td>Yes</td>\n",
              "      <td>No</td>\n",
              "      <td>No</td>\n",
              "      <td>One year</td>\n",
              "      <td>No</td>\n",
              "      <td>Bank transfer (automatic)</td>\n",
              "      <td>42.30</td>\n",
              "      <td>1840.75</td>\n",
              "      <td>No</td>\n",
              "    </tr>\n",
              "    <tr>\n",
              "      <th>4</th>\n",
              "      <td>9237-HQITU</td>\n",
              "      <td>Female</td>\n",
              "      <td>0</td>\n",
              "      <td>No</td>\n",
              "      <td>No</td>\n",
              "      <td>2</td>\n",
              "      <td>Yes</td>\n",
              "      <td>No</td>\n",
              "      <td>Fiber optic</td>\n",
              "      <td>No</td>\n",
              "      <td>No</td>\n",
              "      <td>No</td>\n",
              "      <td>No</td>\n",
              "      <td>No</td>\n",
              "      <td>No</td>\n",
              "      <td>Month-to-month</td>\n",
              "      <td>Yes</td>\n",
              "      <td>Electronic check</td>\n",
              "      <td>70.70</td>\n",
              "      <td>151.65</td>\n",
              "      <td>Yes</td>\n",
              "    </tr>\n",
              "  </tbody>\n",
              "</table>\n",
              "</div>"
            ],
            "text/plain": [
              "   customerID  gender  SeniorCitizen Partner Dependents  tenure PhoneService  \\\n",
              "0  7590-VHVEG  Female              0     Yes         No       1           No   \n",
              "1  5575-GNVDE    Male              0      No         No      34          Yes   \n",
              "2  3668-QPYBK    Male              0      No         No       2          Yes   \n",
              "3  7795-CFOCW    Male              0      No         No      45           No   \n",
              "4  9237-HQITU  Female              0      No         No       2          Yes   \n",
              "\n",
              "      MultipleLines InternetService OnlineSecurity OnlineBackup  \\\n",
              "0  No phone service             DSL             No          Yes   \n",
              "1                No             DSL            Yes           No   \n",
              "2                No             DSL            Yes          Yes   \n",
              "3  No phone service             DSL            Yes           No   \n",
              "4                No     Fiber optic             No           No   \n",
              "\n",
              "  DeviceProtection TechSupport StreamingTV StreamingMovies        Contract  \\\n",
              "0               No          No          No              No  Month-to-month   \n",
              "1              Yes          No          No              No        One year   \n",
              "2               No          No          No              No  Month-to-month   \n",
              "3              Yes         Yes          No              No        One year   \n",
              "4               No          No          No              No  Month-to-month   \n",
              "\n",
              "  PaperlessBilling              PaymentMethod  MonthlyCharges TotalCharges  \\\n",
              "0              Yes           Electronic check           29.85        29.85   \n",
              "1               No               Mailed check           56.95       1889.5   \n",
              "2              Yes               Mailed check           53.85       108.15   \n",
              "3               No  Bank transfer (automatic)           42.30      1840.75   \n",
              "4              Yes           Electronic check           70.70       151.65   \n",
              "\n",
              "  Churn  \n",
              "0    No  \n",
              "1    No  \n",
              "2   Yes  \n",
              "3    No  \n",
              "4   Yes  "
            ]
          },
          "metadata": {
            "tags": []
          },
          "execution_count": 3
        }
      ]
    },
    {
      "cell_type": "code",
      "metadata": {
        "id": "vZ0B8x6kFqut",
        "colab_type": "code",
        "colab": {
          "base_uri": "https://localhost:8080/",
          "height": 483
        },
        "outputId": "ab196831-be0b-4dc0-cba4-5146be0449da"
      },
      "source": [
        "df.info()"
      ],
      "execution_count": 4,
      "outputs": [
        {
          "output_type": "stream",
          "text": [
            "<class 'pandas.core.frame.DataFrame'>\n",
            "RangeIndex: 7043 entries, 0 to 7042\n",
            "Data columns (total 21 columns):\n",
            " #   Column            Non-Null Count  Dtype  \n",
            "---  ------            --------------  -----  \n",
            " 0   customerID        7043 non-null   object \n",
            " 1   gender            7043 non-null   object \n",
            " 2   SeniorCitizen     7043 non-null   int64  \n",
            " 3   Partner           7043 non-null   object \n",
            " 4   Dependents        7043 non-null   object \n",
            " 5   tenure            7043 non-null   int64  \n",
            " 6   PhoneService      7043 non-null   object \n",
            " 7   MultipleLines     7043 non-null   object \n",
            " 8   InternetService   7043 non-null   object \n",
            " 9   OnlineSecurity    7043 non-null   object \n",
            " 10  OnlineBackup      7043 non-null   object \n",
            " 11  DeviceProtection  7043 non-null   object \n",
            " 12  TechSupport       7043 non-null   object \n",
            " 13  StreamingTV       7043 non-null   object \n",
            " 14  StreamingMovies   7043 non-null   object \n",
            " 15  Contract          7043 non-null   object \n",
            " 16  PaperlessBilling  7043 non-null   object \n",
            " 17  PaymentMethod     7043 non-null   object \n",
            " 18  MonthlyCharges    7043 non-null   float64\n",
            " 19  TotalCharges      7043 non-null   object \n",
            " 20  Churn             7043 non-null   object \n",
            "dtypes: float64(1), int64(2), object(18)\n",
            "memory usage: 1.1+ MB\n"
          ],
          "name": "stdout"
        }
      ]
    },
    {
      "cell_type": "code",
      "metadata": {
        "ExecuteTime": {
          "end_time": "2020-03-15T16:44:31.937304Z",
          "start_time": "2020-03-15T16:44:31.923030Z"
        },
        "id": "gIXhJZ5qe1L3",
        "colab_type": "code",
        "colab": {},
        "outputId": "3de89a6a-33a3-45bb-928e-3905eddca30d"
      },
      "source": [
        "# tulislah code yang mengeluarkan output seperti di bawah ini"
      ],
      "execution_count": null,
      "outputs": [
        {
          "output_type": "stream",
          "text": [
            "<class 'pandas.core.frame.DataFrame'>\n",
            "RangeIndex: 7043 entries, 0 to 7042\n",
            "Data columns (total 21 columns):\n",
            "customerID          7043 non-null object\n",
            "gender              7043 non-null object\n",
            "SeniorCitizen       7043 non-null int64\n",
            "Partner             7043 non-null object\n",
            "Dependents          7043 non-null object\n",
            "tenure              7043 non-null int64\n",
            "PhoneService        7043 non-null object\n",
            "MultipleLines       7043 non-null object\n",
            "InternetService     7043 non-null object\n",
            "OnlineSecurity      7043 non-null object\n",
            "OnlineBackup        7043 non-null object\n",
            "DeviceProtection    7043 non-null object\n",
            "TechSupport         7043 non-null object\n",
            "StreamingTV         7043 non-null object\n",
            "StreamingMovies     7043 non-null object\n",
            "Contract            7043 non-null object\n",
            "PaperlessBilling    7043 non-null object\n",
            "PaymentMethod       7043 non-null object\n",
            "MonthlyCharges      7043 non-null float64\n",
            "TotalCharges        7043 non-null object\n",
            "Churn               7043 non-null object\n",
            "dtypes: float64(1), int64(2), object(18)\n",
            "memory usage: 1.1+ MB\n"
          ],
          "name": "stdout"
        }
      ]
    },
    {
      "cell_type": "code",
      "metadata": {
        "id": "Ot4qMHgoFte5",
        "colab_type": "code",
        "colab": {
          "base_uri": "https://localhost:8080/",
          "height": 287
        },
        "outputId": "85f5fc78-ac74-4698-b30f-1ed7c4afec8b"
      },
      "source": [
        "df.describe()"
      ],
      "execution_count": 5,
      "outputs": [
        {
          "output_type": "execute_result",
          "data": {
            "text/html": [
              "<div>\n",
              "<style scoped>\n",
              "    .dataframe tbody tr th:only-of-type {\n",
              "        vertical-align: middle;\n",
              "    }\n",
              "\n",
              "    .dataframe tbody tr th {\n",
              "        vertical-align: top;\n",
              "    }\n",
              "\n",
              "    .dataframe thead th {\n",
              "        text-align: right;\n",
              "    }\n",
              "</style>\n",
              "<table border=\"1\" class=\"dataframe\">\n",
              "  <thead>\n",
              "    <tr style=\"text-align: right;\">\n",
              "      <th></th>\n",
              "      <th>SeniorCitizen</th>\n",
              "      <th>tenure</th>\n",
              "      <th>MonthlyCharges</th>\n",
              "    </tr>\n",
              "  </thead>\n",
              "  <tbody>\n",
              "    <tr>\n",
              "      <th>count</th>\n",
              "      <td>7043.000000</td>\n",
              "      <td>7043.000000</td>\n",
              "      <td>7043.000000</td>\n",
              "    </tr>\n",
              "    <tr>\n",
              "      <th>mean</th>\n",
              "      <td>0.162147</td>\n",
              "      <td>32.371149</td>\n",
              "      <td>64.761692</td>\n",
              "    </tr>\n",
              "    <tr>\n",
              "      <th>std</th>\n",
              "      <td>0.368612</td>\n",
              "      <td>24.559481</td>\n",
              "      <td>30.090047</td>\n",
              "    </tr>\n",
              "    <tr>\n",
              "      <th>min</th>\n",
              "      <td>0.000000</td>\n",
              "      <td>0.000000</td>\n",
              "      <td>18.250000</td>\n",
              "    </tr>\n",
              "    <tr>\n",
              "      <th>25%</th>\n",
              "      <td>0.000000</td>\n",
              "      <td>9.000000</td>\n",
              "      <td>35.500000</td>\n",
              "    </tr>\n",
              "    <tr>\n",
              "      <th>50%</th>\n",
              "      <td>0.000000</td>\n",
              "      <td>29.000000</td>\n",
              "      <td>70.350000</td>\n",
              "    </tr>\n",
              "    <tr>\n",
              "      <th>75%</th>\n",
              "      <td>0.000000</td>\n",
              "      <td>55.000000</td>\n",
              "      <td>89.850000</td>\n",
              "    </tr>\n",
              "    <tr>\n",
              "      <th>max</th>\n",
              "      <td>1.000000</td>\n",
              "      <td>72.000000</td>\n",
              "      <td>118.750000</td>\n",
              "    </tr>\n",
              "  </tbody>\n",
              "</table>\n",
              "</div>"
            ],
            "text/plain": [
              "       SeniorCitizen       tenure  MonthlyCharges\n",
              "count    7043.000000  7043.000000     7043.000000\n",
              "mean        0.162147    32.371149       64.761692\n",
              "std         0.368612    24.559481       30.090047\n",
              "min         0.000000     0.000000       18.250000\n",
              "25%         0.000000     9.000000       35.500000\n",
              "50%         0.000000    29.000000       70.350000\n",
              "75%         0.000000    55.000000       89.850000\n",
              "max         1.000000    72.000000      118.750000"
            ]
          },
          "metadata": {
            "tags": []
          },
          "execution_count": 5
        }
      ]
    },
    {
      "cell_type": "code",
      "metadata": {
        "ExecuteTime": {
          "end_time": "2020-03-15T16:44:31.954497Z",
          "start_time": "2020-03-15T16:44:31.938565Z"
        },
        "id": "UWqgtl1le1L7",
        "colab_type": "code",
        "colab": {},
        "outputId": "507b689f-5127-4467-c56a-fafcb3c67d0a"
      },
      "source": [
        "# tulislah code yang mengeluarkan output seperti di bawah ini"
      ],
      "execution_count": null,
      "outputs": [
        {
          "output_type": "execute_result",
          "data": {
            "text/html": [
              "<div>\n",
              "<style scoped>\n",
              "    .dataframe tbody tr th:only-of-type {\n",
              "        vertical-align: middle;\n",
              "    }\n",
              "\n",
              "    .dataframe tbody tr th {\n",
              "        vertical-align: top;\n",
              "    }\n",
              "\n",
              "    .dataframe thead th {\n",
              "        text-align: right;\n",
              "    }\n",
              "</style>\n",
              "<table border=\"1\" class=\"dataframe\">\n",
              "  <thead>\n",
              "    <tr style=\"text-align: right;\">\n",
              "      <th></th>\n",
              "      <th>SeniorCitizen</th>\n",
              "      <th>tenure</th>\n",
              "      <th>MonthlyCharges</th>\n",
              "    </tr>\n",
              "  </thead>\n",
              "  <tbody>\n",
              "    <tr>\n",
              "      <th>count</th>\n",
              "      <td>7043.000000</td>\n",
              "      <td>7043.000000</td>\n",
              "      <td>7043.000000</td>\n",
              "    </tr>\n",
              "    <tr>\n",
              "      <th>mean</th>\n",
              "      <td>0.162147</td>\n",
              "      <td>32.371149</td>\n",
              "      <td>64.761692</td>\n",
              "    </tr>\n",
              "    <tr>\n",
              "      <th>std</th>\n",
              "      <td>0.368612</td>\n",
              "      <td>24.559481</td>\n",
              "      <td>30.090047</td>\n",
              "    </tr>\n",
              "    <tr>\n",
              "      <th>min</th>\n",
              "      <td>0.000000</td>\n",
              "      <td>0.000000</td>\n",
              "      <td>18.250000</td>\n",
              "    </tr>\n",
              "    <tr>\n",
              "      <th>25%</th>\n",
              "      <td>0.000000</td>\n",
              "      <td>9.000000</td>\n",
              "      <td>35.500000</td>\n",
              "    </tr>\n",
              "    <tr>\n",
              "      <th>50%</th>\n",
              "      <td>0.000000</td>\n",
              "      <td>29.000000</td>\n",
              "      <td>70.350000</td>\n",
              "    </tr>\n",
              "    <tr>\n",
              "      <th>75%</th>\n",
              "      <td>0.000000</td>\n",
              "      <td>55.000000</td>\n",
              "      <td>89.850000</td>\n",
              "    </tr>\n",
              "    <tr>\n",
              "      <th>max</th>\n",
              "      <td>1.000000</td>\n",
              "      <td>72.000000</td>\n",
              "      <td>118.750000</td>\n",
              "    </tr>\n",
              "  </tbody>\n",
              "</table>\n",
              "</div>"
            ],
            "text/plain": [
              "       SeniorCitizen       tenure  MonthlyCharges\n",
              "count    7043.000000  7043.000000     7043.000000\n",
              "mean        0.162147    32.371149       64.761692\n",
              "std         0.368612    24.559481       30.090047\n",
              "min         0.000000     0.000000       18.250000\n",
              "25%         0.000000     9.000000       35.500000\n",
              "50%         0.000000    29.000000       70.350000\n",
              "75%         0.000000    55.000000       89.850000\n",
              "max         1.000000    72.000000      118.750000"
            ]
          },
          "metadata": {
            "tags": []
          },
          "execution_count": 5
        }
      ]
    },
    {
      "cell_type": "code",
      "metadata": {
        "id": "2mn268a0GtYi",
        "colab_type": "code",
        "colab": {
          "base_uri": "https://localhost:8080/",
          "height": 217
        },
        "outputId": "b2c83acd-dcfa-47e0-c602-694301727a24"
      },
      "source": [
        "df[\"tenure\"].value_counts(ascending=False)"
      ],
      "execution_count": 22,
      "outputs": [
        {
          "output_type": "execute_result",
          "data": {
            "text/plain": [
              "1     613\n",
              "72    362\n",
              "2     238\n",
              "3     200\n",
              "4     176\n",
              "     ... \n",
              "28     57\n",
              "39     56\n",
              "44     51\n",
              "36     50\n",
              "0      11\n",
              "Name: tenure, Length: 73, dtype: int64"
            ]
          },
          "metadata": {
            "tags": []
          },
          "execution_count": 22
        }
      ]
    },
    {
      "cell_type": "code",
      "metadata": {
        "id": "F0VcaFbVFyjZ",
        "colab_type": "code",
        "colab": {
          "base_uri": "https://localhost:8080/",
          "height": 691
        },
        "outputId": "0b4f7f2d-7c23-4ba1-b3b9-02b4fdabf518"
      },
      "source": [
        "customdesc =[]\n",
        "for item in df.columns :\n",
        "    customdesc.append([item,df[item].count(), df[item].nunique(), df[item].value_counts().idxmax(), df[item].value_counts(ascending=False).iloc[0]])\n",
        "pd.DataFrame(customdesc, columns = ['','count','unique', 'top', 'freq']).set_index(\"\")"
      ],
      "execution_count": 177,
      "outputs": [
        {
          "output_type": "execute_result",
          "data": {
            "text/html": [
              "<div>\n",
              "<style scoped>\n",
              "    .dataframe tbody tr th:only-of-type {\n",
              "        vertical-align: middle;\n",
              "    }\n",
              "\n",
              "    .dataframe tbody tr th {\n",
              "        vertical-align: top;\n",
              "    }\n",
              "\n",
              "    .dataframe thead th {\n",
              "        text-align: right;\n",
              "    }\n",
              "</style>\n",
              "<table border=\"1\" class=\"dataframe\">\n",
              "  <thead>\n",
              "    <tr style=\"text-align: right;\">\n",
              "      <th></th>\n",
              "      <th>count</th>\n",
              "      <th>unique</th>\n",
              "      <th>top</th>\n",
              "      <th>freq</th>\n",
              "    </tr>\n",
              "    <tr>\n",
              "      <th></th>\n",
              "      <th></th>\n",
              "      <th></th>\n",
              "      <th></th>\n",
              "      <th></th>\n",
              "    </tr>\n",
              "  </thead>\n",
              "  <tbody>\n",
              "    <tr>\n",
              "      <th>customerID</th>\n",
              "      <td>7043</td>\n",
              "      <td>7043</td>\n",
              "      <td>3874-EQOEP</td>\n",
              "      <td>1</td>\n",
              "    </tr>\n",
              "    <tr>\n",
              "      <th>gender</th>\n",
              "      <td>7043</td>\n",
              "      <td>2</td>\n",
              "      <td>Male</td>\n",
              "      <td>3555</td>\n",
              "    </tr>\n",
              "    <tr>\n",
              "      <th>SeniorCitizen</th>\n",
              "      <td>7043</td>\n",
              "      <td>2</td>\n",
              "      <td>0</td>\n",
              "      <td>5901</td>\n",
              "    </tr>\n",
              "    <tr>\n",
              "      <th>Partner</th>\n",
              "      <td>7043</td>\n",
              "      <td>2</td>\n",
              "      <td>No</td>\n",
              "      <td>3641</td>\n",
              "    </tr>\n",
              "    <tr>\n",
              "      <th>Dependents</th>\n",
              "      <td>7043</td>\n",
              "      <td>2</td>\n",
              "      <td>No</td>\n",
              "      <td>4933</td>\n",
              "    </tr>\n",
              "    <tr>\n",
              "      <th>tenure</th>\n",
              "      <td>7043</td>\n",
              "      <td>73</td>\n",
              "      <td>1</td>\n",
              "      <td>613</td>\n",
              "    </tr>\n",
              "    <tr>\n",
              "      <th>PhoneService</th>\n",
              "      <td>7043</td>\n",
              "      <td>2</td>\n",
              "      <td>Yes</td>\n",
              "      <td>6361</td>\n",
              "    </tr>\n",
              "    <tr>\n",
              "      <th>MultipleLines</th>\n",
              "      <td>7043</td>\n",
              "      <td>3</td>\n",
              "      <td>No</td>\n",
              "      <td>3390</td>\n",
              "    </tr>\n",
              "    <tr>\n",
              "      <th>InternetService</th>\n",
              "      <td>7043</td>\n",
              "      <td>3</td>\n",
              "      <td>Fiber optic</td>\n",
              "      <td>3096</td>\n",
              "    </tr>\n",
              "    <tr>\n",
              "      <th>OnlineSecurity</th>\n",
              "      <td>7043</td>\n",
              "      <td>3</td>\n",
              "      <td>No</td>\n",
              "      <td>3498</td>\n",
              "    </tr>\n",
              "    <tr>\n",
              "      <th>OnlineBackup</th>\n",
              "      <td>7043</td>\n",
              "      <td>3</td>\n",
              "      <td>No</td>\n",
              "      <td>3088</td>\n",
              "    </tr>\n",
              "    <tr>\n",
              "      <th>DeviceProtection</th>\n",
              "      <td>7043</td>\n",
              "      <td>3</td>\n",
              "      <td>No</td>\n",
              "      <td>3095</td>\n",
              "    </tr>\n",
              "    <tr>\n",
              "      <th>TechSupport</th>\n",
              "      <td>7043</td>\n",
              "      <td>3</td>\n",
              "      <td>No</td>\n",
              "      <td>3473</td>\n",
              "    </tr>\n",
              "    <tr>\n",
              "      <th>StreamingTV</th>\n",
              "      <td>7043</td>\n",
              "      <td>3</td>\n",
              "      <td>No</td>\n",
              "      <td>2810</td>\n",
              "    </tr>\n",
              "    <tr>\n",
              "      <th>StreamingMovies</th>\n",
              "      <td>7043</td>\n",
              "      <td>3</td>\n",
              "      <td>No</td>\n",
              "      <td>2785</td>\n",
              "    </tr>\n",
              "    <tr>\n",
              "      <th>Contract</th>\n",
              "      <td>7043</td>\n",
              "      <td>3</td>\n",
              "      <td>Month-to-month</td>\n",
              "      <td>3875</td>\n",
              "    </tr>\n",
              "    <tr>\n",
              "      <th>PaperlessBilling</th>\n",
              "      <td>7043</td>\n",
              "      <td>2</td>\n",
              "      <td>Yes</td>\n",
              "      <td>4171</td>\n",
              "    </tr>\n",
              "    <tr>\n",
              "      <th>PaymentMethod</th>\n",
              "      <td>7043</td>\n",
              "      <td>4</td>\n",
              "      <td>Electronic check</td>\n",
              "      <td>2365</td>\n",
              "    </tr>\n",
              "    <tr>\n",
              "      <th>MonthlyCharges</th>\n",
              "      <td>7043</td>\n",
              "      <td>1585</td>\n",
              "      <td>20.05</td>\n",
              "      <td>61</td>\n",
              "    </tr>\n",
              "    <tr>\n",
              "      <th>TotalCharges</th>\n",
              "      <td>7043</td>\n",
              "      <td>6531</td>\n",
              "      <td>20.2</td>\n",
              "      <td>11</td>\n",
              "    </tr>\n",
              "    <tr>\n",
              "      <th>Churn</th>\n",
              "      <td>7043</td>\n",
              "      <td>2</td>\n",
              "      <td>No</td>\n",
              "      <td>5174</td>\n",
              "    </tr>\n",
              "  </tbody>\n",
              "</table>\n",
              "</div>"
            ],
            "text/plain": [
              "                  count  unique               top  freq\n",
              "                                                       \n",
              "customerID         7043    7043        3874-EQOEP     1\n",
              "gender             7043       2              Male  3555\n",
              "SeniorCitizen      7043       2                 0  5901\n",
              "Partner            7043       2                No  3641\n",
              "Dependents         7043       2                No  4933\n",
              "tenure             7043      73                 1   613\n",
              "PhoneService       7043       2               Yes  6361\n",
              "MultipleLines      7043       3                No  3390\n",
              "InternetService    7043       3       Fiber optic  3096\n",
              "OnlineSecurity     7043       3                No  3498\n",
              "OnlineBackup       7043       3                No  3088\n",
              "DeviceProtection   7043       3                No  3095\n",
              "TechSupport        7043       3                No  3473\n",
              "StreamingTV        7043       3                No  2810\n",
              "StreamingMovies    7043       3                No  2785\n",
              "Contract           7043       3    Month-to-month  3875\n",
              "PaperlessBilling   7043       2               Yes  4171\n",
              "PaymentMethod      7043       4  Electronic check  2365\n",
              "MonthlyCharges     7043    1585             20.05    61\n",
              "TotalCharges       7043    6531              20.2    11\n",
              "Churn              7043       2                No  5174"
            ]
          },
          "metadata": {
            "tags": []
          },
          "execution_count": 177
        }
      ]
    },
    {
      "cell_type": "code",
      "metadata": {
        "ExecuteTime": {
          "end_time": "2020-03-15T16:44:32.011785Z",
          "start_time": "2020-03-15T16:44:31.955439Z"
        },
        "id": "nLbu1P39e1ME",
        "colab_type": "code",
        "colab": {},
        "outputId": "9a51ca43-5dd0-4d15-a415-9b6c76b8cd32"
      },
      "source": [
        "# tulislah code yang mengeluarkan output seperti di bawah ini"
      ],
      "execution_count": null,
      "outputs": [
        {
          "output_type": "execute_result",
          "data": {
            "text/html": [
              "<div>\n",
              "<style scoped>\n",
              "    .dataframe tbody tr th:only-of-type {\n",
              "        vertical-align: middle;\n",
              "    }\n",
              "\n",
              "    .dataframe tbody tr th {\n",
              "        vertical-align: top;\n",
              "    }\n",
              "\n",
              "    .dataframe thead th {\n",
              "        text-align: right;\n",
              "    }\n",
              "</style>\n",
              "<table border=\"1\" class=\"dataframe\">\n",
              "  <thead>\n",
              "    <tr style=\"text-align: right;\">\n",
              "      <th></th>\n",
              "      <th>count</th>\n",
              "      <th>unique</th>\n",
              "      <th>top</th>\n",
              "      <th>freq</th>\n",
              "    </tr>\n",
              "  </thead>\n",
              "  <tbody>\n",
              "    <tr>\n",
              "      <th>customerID</th>\n",
              "      <td>7043</td>\n",
              "      <td>7043</td>\n",
              "      <td>3648-GZPHF</td>\n",
              "      <td>1</td>\n",
              "    </tr>\n",
              "    <tr>\n",
              "      <th>gender</th>\n",
              "      <td>7043</td>\n",
              "      <td>2</td>\n",
              "      <td>Male</td>\n",
              "      <td>3555</td>\n",
              "    </tr>\n",
              "    <tr>\n",
              "      <th>Partner</th>\n",
              "      <td>7043</td>\n",
              "      <td>2</td>\n",
              "      <td>No</td>\n",
              "      <td>3641</td>\n",
              "    </tr>\n",
              "    <tr>\n",
              "      <th>Dependents</th>\n",
              "      <td>7043</td>\n",
              "      <td>2</td>\n",
              "      <td>No</td>\n",
              "      <td>4933</td>\n",
              "    </tr>\n",
              "    <tr>\n",
              "      <th>PhoneService</th>\n",
              "      <td>7043</td>\n",
              "      <td>2</td>\n",
              "      <td>Yes</td>\n",
              "      <td>6361</td>\n",
              "    </tr>\n",
              "    <tr>\n",
              "      <th>MultipleLines</th>\n",
              "      <td>7043</td>\n",
              "      <td>3</td>\n",
              "      <td>No</td>\n",
              "      <td>3390</td>\n",
              "    </tr>\n",
              "    <tr>\n",
              "      <th>InternetService</th>\n",
              "      <td>7043</td>\n",
              "      <td>3</td>\n",
              "      <td>Fiber optic</td>\n",
              "      <td>3096</td>\n",
              "    </tr>\n",
              "    <tr>\n",
              "      <th>OnlineSecurity</th>\n",
              "      <td>7043</td>\n",
              "      <td>3</td>\n",
              "      <td>No</td>\n",
              "      <td>3498</td>\n",
              "    </tr>\n",
              "    <tr>\n",
              "      <th>OnlineBackup</th>\n",
              "      <td>7043</td>\n",
              "      <td>3</td>\n",
              "      <td>No</td>\n",
              "      <td>3088</td>\n",
              "    </tr>\n",
              "    <tr>\n",
              "      <th>DeviceProtection</th>\n",
              "      <td>7043</td>\n",
              "      <td>3</td>\n",
              "      <td>No</td>\n",
              "      <td>3095</td>\n",
              "    </tr>\n",
              "    <tr>\n",
              "      <th>TechSupport</th>\n",
              "      <td>7043</td>\n",
              "      <td>3</td>\n",
              "      <td>No</td>\n",
              "      <td>3473</td>\n",
              "    </tr>\n",
              "    <tr>\n",
              "      <th>StreamingTV</th>\n",
              "      <td>7043</td>\n",
              "      <td>3</td>\n",
              "      <td>No</td>\n",
              "      <td>2810</td>\n",
              "    </tr>\n",
              "    <tr>\n",
              "      <th>StreamingMovies</th>\n",
              "      <td>7043</td>\n",
              "      <td>3</td>\n",
              "      <td>No</td>\n",
              "      <td>2785</td>\n",
              "    </tr>\n",
              "    <tr>\n",
              "      <th>Contract</th>\n",
              "      <td>7043</td>\n",
              "      <td>3</td>\n",
              "      <td>Month-to-month</td>\n",
              "      <td>3875</td>\n",
              "    </tr>\n",
              "    <tr>\n",
              "      <th>PaperlessBilling</th>\n",
              "      <td>7043</td>\n",
              "      <td>2</td>\n",
              "      <td>Yes</td>\n",
              "      <td>4171</td>\n",
              "    </tr>\n",
              "    <tr>\n",
              "      <th>PaymentMethod</th>\n",
              "      <td>7043</td>\n",
              "      <td>4</td>\n",
              "      <td>Electronic check</td>\n",
              "      <td>2365</td>\n",
              "    </tr>\n",
              "    <tr>\n",
              "      <th>TotalCharges</th>\n",
              "      <td>7043</td>\n",
              "      <td>6531</td>\n",
              "      <td></td>\n",
              "      <td>11</td>\n",
              "    </tr>\n",
              "    <tr>\n",
              "      <th>Churn</th>\n",
              "      <td>7043</td>\n",
              "      <td>2</td>\n",
              "      <td>No</td>\n",
              "      <td>5174</td>\n",
              "    </tr>\n",
              "  </tbody>\n",
              "</table>\n",
              "</div>"
            ],
            "text/plain": [
              "                 count unique               top  freq\n",
              "customerID        7043   7043        3648-GZPHF     1\n",
              "gender            7043      2              Male  3555\n",
              "Partner           7043      2                No  3641\n",
              "Dependents        7043      2                No  4933\n",
              "PhoneService      7043      2               Yes  6361\n",
              "MultipleLines     7043      3                No  3390\n",
              "InternetService   7043      3       Fiber optic  3096\n",
              "OnlineSecurity    7043      3                No  3498\n",
              "OnlineBackup      7043      3                No  3088\n",
              "DeviceProtection  7043      3                No  3095\n",
              "TechSupport       7043      3                No  3473\n",
              "StreamingTV       7043      3                No  2810\n",
              "StreamingMovies   7043      3                No  2785\n",
              "Contract          7043      3    Month-to-month  3875\n",
              "PaperlessBilling  7043      2               Yes  4171\n",
              "PaymentMethod     7043      4  Electronic check  2365\n",
              "TotalCharges      7043   6531                      11\n",
              "Churn             7043      2                No  5174"
            ]
          },
          "metadata": {
            "tags": []
          },
          "execution_count": 6
        }
      ]
    },
    {
      "cell_type": "code",
      "metadata": {
        "id": "Hald6Xu1H6xC",
        "colab_type": "code",
        "colab": {
          "base_uri": "https://localhost:8080/",
          "height": 677
        },
        "outputId": "10f773e3-139f-43fb-9680-dc393490db3e"
      },
      "source": [
        "custdesc =[]\n",
        "for item in df.columns :\n",
        "    custdesc.append([item,df[item].dtypes, df[item].isna().sum(), round((df[item].isna().sum()/len(df))*100,2),\n",
        "                  df[item].nunique(),df[item].drop_duplicates().sample(2).values])\n",
        "pd.DataFrame(custdesc, columns = ['dataFeatures','dataType','null','nullPct','unique','uniqueSample'])"
      ],
      "execution_count": 26,
      "outputs": [
        {
          "output_type": "execute_result",
          "data": {
            "text/html": [
              "<div>\n",
              "<style scoped>\n",
              "    .dataframe tbody tr th:only-of-type {\n",
              "        vertical-align: middle;\n",
              "    }\n",
              "\n",
              "    .dataframe tbody tr th {\n",
              "        vertical-align: top;\n",
              "    }\n",
              "\n",
              "    .dataframe thead th {\n",
              "        text-align: right;\n",
              "    }\n",
              "</style>\n",
              "<table border=\"1\" class=\"dataframe\">\n",
              "  <thead>\n",
              "    <tr style=\"text-align: right;\">\n",
              "      <th></th>\n",
              "      <th>dataFeatures</th>\n",
              "      <th>dataType</th>\n",
              "      <th>null</th>\n",
              "      <th>nullPct</th>\n",
              "      <th>unique</th>\n",
              "      <th>uniqueSample</th>\n",
              "    </tr>\n",
              "  </thead>\n",
              "  <tbody>\n",
              "    <tr>\n",
              "      <th>0</th>\n",
              "      <td>customerID</td>\n",
              "      <td>object</td>\n",
              "      <td>0</td>\n",
              "      <td>0.0</td>\n",
              "      <td>7043</td>\n",
              "      <td>[8563-IIOXK, 8966-OIQHG]</td>\n",
              "    </tr>\n",
              "    <tr>\n",
              "      <th>1</th>\n",
              "      <td>gender</td>\n",
              "      <td>object</td>\n",
              "      <td>0</td>\n",
              "      <td>0.0</td>\n",
              "      <td>2</td>\n",
              "      <td>[Male, Female]</td>\n",
              "    </tr>\n",
              "    <tr>\n",
              "      <th>2</th>\n",
              "      <td>SeniorCitizen</td>\n",
              "      <td>int64</td>\n",
              "      <td>0</td>\n",
              "      <td>0.0</td>\n",
              "      <td>2</td>\n",
              "      <td>[0, 1]</td>\n",
              "    </tr>\n",
              "    <tr>\n",
              "      <th>3</th>\n",
              "      <td>Partner</td>\n",
              "      <td>object</td>\n",
              "      <td>0</td>\n",
              "      <td>0.0</td>\n",
              "      <td>2</td>\n",
              "      <td>[Yes, No]</td>\n",
              "    </tr>\n",
              "    <tr>\n",
              "      <th>4</th>\n",
              "      <td>Dependents</td>\n",
              "      <td>object</td>\n",
              "      <td>0</td>\n",
              "      <td>0.0</td>\n",
              "      <td>2</td>\n",
              "      <td>[Yes, No]</td>\n",
              "    </tr>\n",
              "    <tr>\n",
              "      <th>5</th>\n",
              "      <td>tenure</td>\n",
              "      <td>int64</td>\n",
              "      <td>0</td>\n",
              "      <td>0.0</td>\n",
              "      <td>73</td>\n",
              "      <td>[30, 72]</td>\n",
              "    </tr>\n",
              "    <tr>\n",
              "      <th>6</th>\n",
              "      <td>PhoneService</td>\n",
              "      <td>object</td>\n",
              "      <td>0</td>\n",
              "      <td>0.0</td>\n",
              "      <td>2</td>\n",
              "      <td>[No, Yes]</td>\n",
              "    </tr>\n",
              "    <tr>\n",
              "      <th>7</th>\n",
              "      <td>MultipleLines</td>\n",
              "      <td>object</td>\n",
              "      <td>0</td>\n",
              "      <td>0.0</td>\n",
              "      <td>3</td>\n",
              "      <td>[No, Yes]</td>\n",
              "    </tr>\n",
              "    <tr>\n",
              "      <th>8</th>\n",
              "      <td>InternetService</td>\n",
              "      <td>object</td>\n",
              "      <td>0</td>\n",
              "      <td>0.0</td>\n",
              "      <td>3</td>\n",
              "      <td>[No, Fiber optic]</td>\n",
              "    </tr>\n",
              "    <tr>\n",
              "      <th>9</th>\n",
              "      <td>OnlineSecurity</td>\n",
              "      <td>object</td>\n",
              "      <td>0</td>\n",
              "      <td>0.0</td>\n",
              "      <td>3</td>\n",
              "      <td>[No internet service, Yes]</td>\n",
              "    </tr>\n",
              "    <tr>\n",
              "      <th>10</th>\n",
              "      <td>OnlineBackup</td>\n",
              "      <td>object</td>\n",
              "      <td>0</td>\n",
              "      <td>0.0</td>\n",
              "      <td>3</td>\n",
              "      <td>[No internet service, No]</td>\n",
              "    </tr>\n",
              "    <tr>\n",
              "      <th>11</th>\n",
              "      <td>DeviceProtection</td>\n",
              "      <td>object</td>\n",
              "      <td>0</td>\n",
              "      <td>0.0</td>\n",
              "      <td>3</td>\n",
              "      <td>[No, Yes]</td>\n",
              "    </tr>\n",
              "    <tr>\n",
              "      <th>12</th>\n",
              "      <td>TechSupport</td>\n",
              "      <td>object</td>\n",
              "      <td>0</td>\n",
              "      <td>0.0</td>\n",
              "      <td>3</td>\n",
              "      <td>[No internet service, No]</td>\n",
              "    </tr>\n",
              "    <tr>\n",
              "      <th>13</th>\n",
              "      <td>StreamingTV</td>\n",
              "      <td>object</td>\n",
              "      <td>0</td>\n",
              "      <td>0.0</td>\n",
              "      <td>3</td>\n",
              "      <td>[No internet service, No]</td>\n",
              "    </tr>\n",
              "    <tr>\n",
              "      <th>14</th>\n",
              "      <td>StreamingMovies</td>\n",
              "      <td>object</td>\n",
              "      <td>0</td>\n",
              "      <td>0.0</td>\n",
              "      <td>3</td>\n",
              "      <td>[No internet service, Yes]</td>\n",
              "    </tr>\n",
              "    <tr>\n",
              "      <th>15</th>\n",
              "      <td>Contract</td>\n",
              "      <td>object</td>\n",
              "      <td>0</td>\n",
              "      <td>0.0</td>\n",
              "      <td>3</td>\n",
              "      <td>[Two year, Month-to-month]</td>\n",
              "    </tr>\n",
              "    <tr>\n",
              "      <th>16</th>\n",
              "      <td>PaperlessBilling</td>\n",
              "      <td>object</td>\n",
              "      <td>0</td>\n",
              "      <td>0.0</td>\n",
              "      <td>2</td>\n",
              "      <td>[Yes, No]</td>\n",
              "    </tr>\n",
              "    <tr>\n",
              "      <th>17</th>\n",
              "      <td>PaymentMethod</td>\n",
              "      <td>object</td>\n",
              "      <td>0</td>\n",
              "      <td>0.0</td>\n",
              "      <td>4</td>\n",
              "      <td>[Bank transfer (automatic), Mailed check]</td>\n",
              "    </tr>\n",
              "    <tr>\n",
              "      <th>18</th>\n",
              "      <td>MonthlyCharges</td>\n",
              "      <td>float64</td>\n",
              "      <td>0</td>\n",
              "      <td>0.0</td>\n",
              "      <td>1585</td>\n",
              "      <td>[39.0, 71.05]</td>\n",
              "    </tr>\n",
              "    <tr>\n",
              "      <th>19</th>\n",
              "      <td>TotalCharges</td>\n",
              "      <td>object</td>\n",
              "      <td>0</td>\n",
              "      <td>0.0</td>\n",
              "      <td>6531</td>\n",
              "      <td>[5760.65, 697.65]</td>\n",
              "    </tr>\n",
              "    <tr>\n",
              "      <th>20</th>\n",
              "      <td>Churn</td>\n",
              "      <td>object</td>\n",
              "      <td>0</td>\n",
              "      <td>0.0</td>\n",
              "      <td>2</td>\n",
              "      <td>[No, Yes]</td>\n",
              "    </tr>\n",
              "  </tbody>\n",
              "</table>\n",
              "</div>"
            ],
            "text/plain": [
              "        dataFeatures  ...                               uniqueSample\n",
              "0         customerID  ...                   [8563-IIOXK, 8966-OIQHG]\n",
              "1             gender  ...                             [Male, Female]\n",
              "2      SeniorCitizen  ...                                     [0, 1]\n",
              "3            Partner  ...                                  [Yes, No]\n",
              "4         Dependents  ...                                  [Yes, No]\n",
              "5             tenure  ...                                   [30, 72]\n",
              "6       PhoneService  ...                                  [No, Yes]\n",
              "7      MultipleLines  ...                                  [No, Yes]\n",
              "8    InternetService  ...                          [No, Fiber optic]\n",
              "9     OnlineSecurity  ...                 [No internet service, Yes]\n",
              "10      OnlineBackup  ...                  [No internet service, No]\n",
              "11  DeviceProtection  ...                                  [No, Yes]\n",
              "12       TechSupport  ...                  [No internet service, No]\n",
              "13       StreamingTV  ...                  [No internet service, No]\n",
              "14   StreamingMovies  ...                 [No internet service, Yes]\n",
              "15          Contract  ...                 [Two year, Month-to-month]\n",
              "16  PaperlessBilling  ...                                  [Yes, No]\n",
              "17     PaymentMethod  ...  [Bank transfer (automatic), Mailed check]\n",
              "18    MonthlyCharges  ...                              [39.0, 71.05]\n",
              "19      TotalCharges  ...                          [5760.65, 697.65]\n",
              "20             Churn  ...                                  [No, Yes]\n",
              "\n",
              "[21 rows x 6 columns]"
            ]
          },
          "metadata": {
            "tags": []
          },
          "execution_count": 26
        }
      ]
    },
    {
      "cell_type": "code",
      "metadata": {
        "ExecuteTime": {
          "end_time": "2020-03-15T16:44:32.084150Z",
          "start_time": "2020-03-15T16:44:32.012783Z"
        },
        "code_folding": [],
        "id": "Xgjx4BD9e1MJ",
        "colab_type": "code",
        "colab": {},
        "outputId": "913ebc83-10ec-4237-c14e-06f3b19bbecb"
      },
      "source": [
        "# tulislah code yang mengeluarkan output seperti di bawah ini"
      ],
      "execution_count": null,
      "outputs": [
        {
          "output_type": "execute_result",
          "data": {
            "text/html": [
              "<div>\n",
              "<style scoped>\n",
              "    .dataframe tbody tr th:only-of-type {\n",
              "        vertical-align: middle;\n",
              "    }\n",
              "\n",
              "    .dataframe tbody tr th {\n",
              "        vertical-align: top;\n",
              "    }\n",
              "\n",
              "    .dataframe thead th {\n",
              "        text-align: right;\n",
              "    }\n",
              "</style>\n",
              "<table border=\"1\" class=\"dataframe\">\n",
              "  <thead>\n",
              "    <tr style=\"text-align: right;\">\n",
              "      <th></th>\n",
              "      <th>dataFeatures</th>\n",
              "      <th>dataType</th>\n",
              "      <th>null</th>\n",
              "      <th>nullPct</th>\n",
              "      <th>unique</th>\n",
              "      <th>uniqueSample</th>\n",
              "    </tr>\n",
              "  </thead>\n",
              "  <tbody>\n",
              "    <tr>\n",
              "      <th>0</th>\n",
              "      <td>customerID</td>\n",
              "      <td>object</td>\n",
              "      <td>0</td>\n",
              "      <td>0.0</td>\n",
              "      <td>7043</td>\n",
              "      <td>[5149-QYTTU, 4695-WJZUE]</td>\n",
              "    </tr>\n",
              "    <tr>\n",
              "      <th>1</th>\n",
              "      <td>gender</td>\n",
              "      <td>object</td>\n",
              "      <td>0</td>\n",
              "      <td>0.0</td>\n",
              "      <td>2</td>\n",
              "      <td>[Male, Female]</td>\n",
              "    </tr>\n",
              "    <tr>\n",
              "      <th>2</th>\n",
              "      <td>SeniorCitizen</td>\n",
              "      <td>int64</td>\n",
              "      <td>0</td>\n",
              "      <td>0.0</td>\n",
              "      <td>2</td>\n",
              "      <td>[0, 1]</td>\n",
              "    </tr>\n",
              "    <tr>\n",
              "      <th>3</th>\n",
              "      <td>Partner</td>\n",
              "      <td>object</td>\n",
              "      <td>0</td>\n",
              "      <td>0.0</td>\n",
              "      <td>2</td>\n",
              "      <td>[No, Yes]</td>\n",
              "    </tr>\n",
              "    <tr>\n",
              "      <th>4</th>\n",
              "      <td>Dependents</td>\n",
              "      <td>object</td>\n",
              "      <td>0</td>\n",
              "      <td>0.0</td>\n",
              "      <td>2</td>\n",
              "      <td>[Yes, No]</td>\n",
              "    </tr>\n",
              "    <tr>\n",
              "      <th>5</th>\n",
              "      <td>tenure</td>\n",
              "      <td>int64</td>\n",
              "      <td>0</td>\n",
              "      <td>0.0</td>\n",
              "      <td>73</td>\n",
              "      <td>[2, 33]</td>\n",
              "    </tr>\n",
              "    <tr>\n",
              "      <th>6</th>\n",
              "      <td>PhoneService</td>\n",
              "      <td>object</td>\n",
              "      <td>0</td>\n",
              "      <td>0.0</td>\n",
              "      <td>2</td>\n",
              "      <td>[Yes, No]</td>\n",
              "    </tr>\n",
              "    <tr>\n",
              "      <th>7</th>\n",
              "      <td>MultipleLines</td>\n",
              "      <td>object</td>\n",
              "      <td>0</td>\n",
              "      <td>0.0</td>\n",
              "      <td>3</td>\n",
              "      <td>[Yes, No]</td>\n",
              "    </tr>\n",
              "    <tr>\n",
              "      <th>8</th>\n",
              "      <td>InternetService</td>\n",
              "      <td>object</td>\n",
              "      <td>0</td>\n",
              "      <td>0.0</td>\n",
              "      <td>3</td>\n",
              "      <td>[Fiber optic, DSL]</td>\n",
              "    </tr>\n",
              "    <tr>\n",
              "      <th>9</th>\n",
              "      <td>OnlineSecurity</td>\n",
              "      <td>object</td>\n",
              "      <td>0</td>\n",
              "      <td>0.0</td>\n",
              "      <td>3</td>\n",
              "      <td>[No, No internet service]</td>\n",
              "    </tr>\n",
              "    <tr>\n",
              "      <th>10</th>\n",
              "      <td>OnlineBackup</td>\n",
              "      <td>object</td>\n",
              "      <td>0</td>\n",
              "      <td>0.0</td>\n",
              "      <td>3</td>\n",
              "      <td>[Yes, No]</td>\n",
              "    </tr>\n",
              "    <tr>\n",
              "      <th>11</th>\n",
              "      <td>DeviceProtection</td>\n",
              "      <td>object</td>\n",
              "      <td>0</td>\n",
              "      <td>0.0</td>\n",
              "      <td>3</td>\n",
              "      <td>[No internet service, Yes]</td>\n",
              "    </tr>\n",
              "    <tr>\n",
              "      <th>12</th>\n",
              "      <td>TechSupport</td>\n",
              "      <td>object</td>\n",
              "      <td>0</td>\n",
              "      <td>0.0</td>\n",
              "      <td>3</td>\n",
              "      <td>[No internet service, Yes]</td>\n",
              "    </tr>\n",
              "    <tr>\n",
              "      <th>13</th>\n",
              "      <td>StreamingTV</td>\n",
              "      <td>object</td>\n",
              "      <td>0</td>\n",
              "      <td>0.0</td>\n",
              "      <td>3</td>\n",
              "      <td>[No, No internet service]</td>\n",
              "    </tr>\n",
              "    <tr>\n",
              "      <th>14</th>\n",
              "      <td>StreamingMovies</td>\n",
              "      <td>object</td>\n",
              "      <td>0</td>\n",
              "      <td>0.0</td>\n",
              "      <td>3</td>\n",
              "      <td>[No, No internet service]</td>\n",
              "    </tr>\n",
              "    <tr>\n",
              "      <th>15</th>\n",
              "      <td>Contract</td>\n",
              "      <td>object</td>\n",
              "      <td>0</td>\n",
              "      <td>0.0</td>\n",
              "      <td>3</td>\n",
              "      <td>[Two year, Month-to-month]</td>\n",
              "    </tr>\n",
              "    <tr>\n",
              "      <th>16</th>\n",
              "      <td>PaperlessBilling</td>\n",
              "      <td>object</td>\n",
              "      <td>0</td>\n",
              "      <td>0.0</td>\n",
              "      <td>2</td>\n",
              "      <td>[No, Yes]</td>\n",
              "    </tr>\n",
              "    <tr>\n",
              "      <th>17</th>\n",
              "      <td>PaymentMethod</td>\n",
              "      <td>object</td>\n",
              "      <td>0</td>\n",
              "      <td>0.0</td>\n",
              "      <td>4</td>\n",
              "      <td>[Electronic check, Credit card (automatic)]</td>\n",
              "    </tr>\n",
              "    <tr>\n",
              "      <th>18</th>\n",
              "      <td>MonthlyCharges</td>\n",
              "      <td>float64</td>\n",
              "      <td>0</td>\n",
              "      <td>0.0</td>\n",
              "      <td>1585</td>\n",
              "      <td>[70.0, 23.9]</td>\n",
              "    </tr>\n",
              "    <tr>\n",
              "      <th>19</th>\n",
              "      <td>TotalCharges</td>\n",
              "      <td>object</td>\n",
              "      <td>0</td>\n",
              "      <td>0.0</td>\n",
              "      <td>6531</td>\n",
              "      <td>[3723.65, 531.55]</td>\n",
              "    </tr>\n",
              "    <tr>\n",
              "      <th>20</th>\n",
              "      <td>Churn</td>\n",
              "      <td>object</td>\n",
              "      <td>0</td>\n",
              "      <td>0.0</td>\n",
              "      <td>2</td>\n",
              "      <td>[No, Yes]</td>\n",
              "    </tr>\n",
              "  </tbody>\n",
              "</table>\n",
              "</div>"
            ],
            "text/plain": [
              "        dataFeatures dataType  null  nullPct  unique  \\\n",
              "0         customerID   object     0      0.0    7043   \n",
              "1             gender   object     0      0.0       2   \n",
              "2      SeniorCitizen    int64     0      0.0       2   \n",
              "3            Partner   object     0      0.0       2   \n",
              "4         Dependents   object     0      0.0       2   \n",
              "5             tenure    int64     0      0.0      73   \n",
              "6       PhoneService   object     0      0.0       2   \n",
              "7      MultipleLines   object     0      0.0       3   \n",
              "8    InternetService   object     0      0.0       3   \n",
              "9     OnlineSecurity   object     0      0.0       3   \n",
              "10      OnlineBackup   object     0      0.0       3   \n",
              "11  DeviceProtection   object     0      0.0       3   \n",
              "12       TechSupport   object     0      0.0       3   \n",
              "13       StreamingTV   object     0      0.0       3   \n",
              "14   StreamingMovies   object     0      0.0       3   \n",
              "15          Contract   object     0      0.0       3   \n",
              "16  PaperlessBilling   object     0      0.0       2   \n",
              "17     PaymentMethod   object     0      0.0       4   \n",
              "18    MonthlyCharges  float64     0      0.0    1585   \n",
              "19      TotalCharges   object     0      0.0    6531   \n",
              "20             Churn   object     0      0.0       2   \n",
              "\n",
              "                                   uniqueSample  \n",
              "0                      [5149-QYTTU, 4695-WJZUE]  \n",
              "1                                [Male, Female]  \n",
              "2                                        [0, 1]  \n",
              "3                                     [No, Yes]  \n",
              "4                                     [Yes, No]  \n",
              "5                                       [2, 33]  \n",
              "6                                     [Yes, No]  \n",
              "7                                     [Yes, No]  \n",
              "8                            [Fiber optic, DSL]  \n",
              "9                     [No, No internet service]  \n",
              "10                                    [Yes, No]  \n",
              "11                   [No internet service, Yes]  \n",
              "12                   [No internet service, Yes]  \n",
              "13                    [No, No internet service]  \n",
              "14                    [No, No internet service]  \n",
              "15                   [Two year, Month-to-month]  \n",
              "16                                    [No, Yes]  \n",
              "17  [Electronic check, Credit card (automatic)]  \n",
              "18                                 [70.0, 23.9]  \n",
              "19                            [3723.65, 531.55]  \n",
              "20                                    [No, Yes]  "
            ]
          },
          "metadata": {
            "tags": []
          },
          "execution_count": 7
        }
      ]
    },
    {
      "cell_type": "markdown",
      "metadata": {
        "id": "fZkaEDhFe1MY",
        "colab_type": "text"
      },
      "source": [
        "#Q1: Data Preparation (15 point)\n",
        "\n",
        "## 1. Ubahlah format dari kolom yang menurutmu perlu diubah! (Perlu diingat bahwa untuk membuat modelling machine learning diperlukan data yang memiliki format numerik seluruhnya).\n",
        "## 2. Adakah missing value pada data tersebut? Jika ada, apakah perlu dilakukan penghapusan missing value?\n",
        "## 3. Lakukan step data preparation APAPUN yang belum dilakukan di nomor 1 dan 2 di atas.\n"
      ]
    },
    {
      "cell_type": "code",
      "metadata": {
        "id": "EfXQWdvuiJE9",
        "colab_type": "code",
        "colab": {}
      },
      "source": [
        "# Tulis jawaban Q1 di cell ini. TIDAK TERBATAS HANYA 1 CELL SAJA. Jika kurang, silahkan tambah cell sesuai kebutuhan."
      ],
      "execution_count": null,
      "outputs": []
    },
    {
      "cell_type": "markdown",
      "metadata": {
        "id": "06lngvrrN3XY",
        "colab_type": "text"
      },
      "source": [
        "### Q1.1"
      ]
    },
    {
      "cell_type": "markdown",
      "metadata": {
        "id": "Er-vwW6GITNM",
        "colab_type": "text"
      },
      "source": [
        "Cek jenis data mana aja yang numerik mana yang kategorik"
      ]
    },
    {
      "cell_type": "code",
      "metadata": {
        "id": "sa2R2Fd-IkBD",
        "colab_type": "code",
        "colab": {
          "base_uri": "https://localhost:8080/",
          "height": 287
        },
        "outputId": "1ea1073f-18fe-44d5-c06c-4abc265ce4be"
      },
      "source": [
        "df.describe()"
      ],
      "execution_count": 28,
      "outputs": [
        {
          "output_type": "execute_result",
          "data": {
            "text/html": [
              "<div>\n",
              "<style scoped>\n",
              "    .dataframe tbody tr th:only-of-type {\n",
              "        vertical-align: middle;\n",
              "    }\n",
              "\n",
              "    .dataframe tbody tr th {\n",
              "        vertical-align: top;\n",
              "    }\n",
              "\n",
              "    .dataframe thead th {\n",
              "        text-align: right;\n",
              "    }\n",
              "</style>\n",
              "<table border=\"1\" class=\"dataframe\">\n",
              "  <thead>\n",
              "    <tr style=\"text-align: right;\">\n",
              "      <th></th>\n",
              "      <th>SeniorCitizen</th>\n",
              "      <th>tenure</th>\n",
              "      <th>MonthlyCharges</th>\n",
              "    </tr>\n",
              "  </thead>\n",
              "  <tbody>\n",
              "    <tr>\n",
              "      <th>count</th>\n",
              "      <td>7043.000000</td>\n",
              "      <td>7043.000000</td>\n",
              "      <td>7043.000000</td>\n",
              "    </tr>\n",
              "    <tr>\n",
              "      <th>mean</th>\n",
              "      <td>0.162147</td>\n",
              "      <td>32.371149</td>\n",
              "      <td>64.761692</td>\n",
              "    </tr>\n",
              "    <tr>\n",
              "      <th>std</th>\n",
              "      <td>0.368612</td>\n",
              "      <td>24.559481</td>\n",
              "      <td>30.090047</td>\n",
              "    </tr>\n",
              "    <tr>\n",
              "      <th>min</th>\n",
              "      <td>0.000000</td>\n",
              "      <td>0.000000</td>\n",
              "      <td>18.250000</td>\n",
              "    </tr>\n",
              "    <tr>\n",
              "      <th>25%</th>\n",
              "      <td>0.000000</td>\n",
              "      <td>9.000000</td>\n",
              "      <td>35.500000</td>\n",
              "    </tr>\n",
              "    <tr>\n",
              "      <th>50%</th>\n",
              "      <td>0.000000</td>\n",
              "      <td>29.000000</td>\n",
              "      <td>70.350000</td>\n",
              "    </tr>\n",
              "    <tr>\n",
              "      <th>75%</th>\n",
              "      <td>0.000000</td>\n",
              "      <td>55.000000</td>\n",
              "      <td>89.850000</td>\n",
              "    </tr>\n",
              "    <tr>\n",
              "      <th>max</th>\n",
              "      <td>1.000000</td>\n",
              "      <td>72.000000</td>\n",
              "      <td>118.750000</td>\n",
              "    </tr>\n",
              "  </tbody>\n",
              "</table>\n",
              "</div>"
            ],
            "text/plain": [
              "       SeniorCitizen       tenure  MonthlyCharges\n",
              "count    7043.000000  7043.000000     7043.000000\n",
              "mean        0.162147    32.371149       64.761692\n",
              "std         0.368612    24.559481       30.090047\n",
              "min         0.000000     0.000000       18.250000\n",
              "25%         0.000000     9.000000       35.500000\n",
              "50%         0.000000    29.000000       70.350000\n",
              "75%         0.000000    55.000000       89.850000\n",
              "max         1.000000    72.000000      118.750000"
            ]
          },
          "metadata": {
            "tags": []
          },
          "execution_count": 28
        }
      ]
    },
    {
      "cell_type": "markdown",
      "metadata": {
        "id": "rDobODYFImgM",
        "colab_type": "text"
      },
      "source": [
        "dari data describe, maka bisa mengetahui yang mana saja yang saat ini tercatat sebagai data numerik. namun, saya hendak mengetahui lebih lanjut apakah penentuan datatype ini sudah sesuai dengan seharusnya."
      ]
    },
    {
      "cell_type": "code",
      "metadata": {
        "id": "QjIFacL2iJh6",
        "colab_type": "code",
        "colab": {
          "base_uri": "https://localhost:8080/",
          "height": 450
        },
        "outputId": "814152d7-028a-42fc-b861-e8cfe2fcd4dd"
      },
      "source": [
        "for i in df.columns:\n",
        "    print (i,\"---\",df[i].nunique(),\"---\",df[i].unique())"
      ],
      "execution_count": 27,
      "outputs": [
        {
          "output_type": "stream",
          "text": [
            "customerID --- 7043 --- ['7590-VHVEG' '5575-GNVDE' '3668-QPYBK' ... '4801-JZAZL' '8361-LTMKD'\n",
            " '3186-AJIEK']\n",
            "gender --- 2 --- ['Female' 'Male']\n",
            "SeniorCitizen --- 2 --- [0 1]\n",
            "Partner --- 2 --- ['Yes' 'No']\n",
            "Dependents --- 2 --- ['No' 'Yes']\n",
            "tenure --- 73 --- [ 1 34  2 45  8 22 10 28 62 13 16 58 49 25 69 52 71 21 12 30 47 72 17 27\n",
            "  5 46 11 70 63 43 15 60 18 66  9  3 31 50 64 56  7 42 35 48 29 65 38 68\n",
            " 32 55 37 36 41  6  4 33 67 23 57 61 14 20 53 40 59 24 44 19 54 51 26  0\n",
            " 39]\n",
            "PhoneService --- 2 --- ['No' 'Yes']\n",
            "MultipleLines --- 3 --- ['No phone service' 'No' 'Yes']\n",
            "InternetService --- 3 --- ['DSL' 'Fiber optic' 'No']\n",
            "OnlineSecurity --- 3 --- ['No' 'Yes' 'No internet service']\n",
            "OnlineBackup --- 3 --- ['Yes' 'No' 'No internet service']\n",
            "DeviceProtection --- 3 --- ['No' 'Yes' 'No internet service']\n",
            "TechSupport --- 3 --- ['No' 'Yes' 'No internet service']\n",
            "StreamingTV --- 3 --- ['No' 'Yes' 'No internet service']\n",
            "StreamingMovies --- 3 --- ['No' 'Yes' 'No internet service']\n",
            "Contract --- 3 --- ['Month-to-month' 'One year' 'Two year']\n",
            "PaperlessBilling --- 2 --- ['Yes' 'No']\n",
            "PaymentMethod --- 4 --- ['Electronic check' 'Mailed check' 'Bank transfer (automatic)'\n",
            " 'Credit card (automatic)']\n",
            "MonthlyCharges --- 1585 --- [29.85 56.95 53.85 ... 63.1  44.2  78.7 ]\n",
            "TotalCharges --- 6531 --- ['29.85' '1889.5' '108.15' ... '346.45' '306.6' '6844.5']\n",
            "Churn --- 2 --- ['No' 'Yes']\n"
          ],
          "name": "stdout"
        }
      ]
    },
    {
      "cell_type": "markdown",
      "metadata": {
        "id": "yRuRxAaFIy0j",
        "colab_type": "text"
      },
      "source": [
        "Looking at the data, it seems that SeniorCitizen should not be a numerical values (only 0 or 1) and TotalCharges should be numerical values!"
      ]
    },
    {
      "cell_type": "markdown",
      "metadata": {
        "id": "9riDqOuJN0B4",
        "colab_type": "text"
      },
      "source": [
        "### Q1.3"
      ]
    },
    {
      "cell_type": "markdown",
      "metadata": {
        "id": "4JRaRmNJJH_u",
        "colab_type": "text"
      },
      "source": [
        "saya ingin melompat ke jawaban point ke-3 terlebih dahulu, dimana saya akan drop kolom \"customerID\", yang tidak akan digunakan dalam melakukan modeling machine learning dikarenakan tidak memberikan info apapun yang berguna sebagai suatu fitur"
      ]
    },
    {
      "cell_type": "code",
      "metadata": {
        "id": "27jpclZMI7mE",
        "colab_type": "code",
        "colab": {}
      },
      "source": [
        "df.drop(\"customerID\", axis=1, inplace=True)"
      ],
      "execution_count": 178,
      "outputs": []
    },
    {
      "cell_type": "code",
      "metadata": {
        "id": "K5HhaO5QI4JH",
        "colab_type": "code",
        "colab": {}
      },
      "source": [
        "df_num=df[[\"MonthlyCharges\",\"tenure\",\"TotalCharges\"]]\n",
        "df_cat=df.drop([\"MonthlyCharges\",\"tenure\",\"TotalCharges\"], axis=1)"
      ],
      "execution_count": 31,
      "outputs": []
    },
    {
      "cell_type": "markdown",
      "metadata": {
        "id": "au8t6gl7J1aT",
        "colab_type": "text"
      },
      "source": [
        "data kategorik akan diubah dengan menggunakan one hot encoder, dimulai dengan listing kolom data mana saja yang kategorik"
      ]
    },
    {
      "cell_type": "code",
      "metadata": {
        "id": "3CuyaFR2JzDq",
        "colab_type": "code",
        "colab": {
          "base_uri": "https://localhost:8080/",
          "height": 100
        },
        "outputId": "605165fe-759a-411c-a70f-eaa435a50fa2"
      },
      "source": [
        "df_cat.columns"
      ],
      "execution_count": 32,
      "outputs": [
        {
          "output_type": "execute_result",
          "data": {
            "text/plain": [
              "Index(['gender', 'SeniorCitizen', 'Partner', 'Dependents', 'PhoneService',\n",
              "       'MultipleLines', 'InternetService', 'OnlineSecurity', 'OnlineBackup',\n",
              "       'DeviceProtection', 'TechSupport', 'StreamingTV', 'StreamingMovies',\n",
              "       'Contract', 'PaperlessBilling', 'PaymentMethod', 'Churn'],\n",
              "      dtype='object')"
            ]
          },
          "metadata": {
            "tags": []
          },
          "execution_count": 32
        }
      ]
    },
    {
      "cell_type": "markdown",
      "metadata": {
        "id": "1dMQAkucKHd_",
        "colab_type": "text"
      },
      "source": [
        "Churn sebagai kolom target tidak diikutsertakan dalam one hot encoding"
      ]
    },
    {
      "cell_type": "code",
      "metadata": {
        "id": "M-wTD3_VJb70",
        "colab_type": "code",
        "colab": {}
      },
      "source": [
        "df = pd.get_dummies(df,columns=['gender', 'SeniorCitizen', 'Partner', 'Dependents', 'PhoneService',\n",
        "       'MultipleLines', 'InternetService', 'OnlineSecurity', 'OnlineBackup',\n",
        "       'DeviceProtection', 'TechSupport', 'StreamingTV', 'StreamingMovies',\n",
        "       'Contract', 'PaperlessBilling', 'PaymentMethod'],drop_first=True)"
      ],
      "execution_count": 33,
      "outputs": []
    },
    {
      "cell_type": "markdown",
      "metadata": {
        "id": "ypecRn4xKNeQ",
        "colab_type": "text"
      },
      "source": [
        "cek apakah masih ada data yang tidak numerik "
      ]
    },
    {
      "cell_type": "code",
      "metadata": {
        "id": "MnEila1nKMQd",
        "colab_type": "code",
        "colab": {
          "base_uri": "https://localhost:8080/",
          "height": 650
        },
        "outputId": "c9101d3d-d460-4ce1-a4d2-62a7c766568d"
      },
      "source": [
        "df.info()"
      ],
      "execution_count": 34,
      "outputs": [
        {
          "output_type": "stream",
          "text": [
            "<class 'pandas.core.frame.DataFrame'>\n",
            "RangeIndex: 7043 entries, 0 to 7042\n",
            "Data columns (total 31 columns):\n",
            " #   Column                                 Non-Null Count  Dtype  \n",
            "---  ------                                 --------------  -----  \n",
            " 0   tenure                                 7043 non-null   int64  \n",
            " 1   MonthlyCharges                         7043 non-null   float64\n",
            " 2   TotalCharges                           7043 non-null   object \n",
            " 3   Churn                                  7043 non-null   object \n",
            " 4   gender_Male                            7043 non-null   uint8  \n",
            " 5   SeniorCitizen_1                        7043 non-null   uint8  \n",
            " 6   Partner_Yes                            7043 non-null   uint8  \n",
            " 7   Dependents_Yes                         7043 non-null   uint8  \n",
            " 8   PhoneService_Yes                       7043 non-null   uint8  \n",
            " 9   MultipleLines_No phone service         7043 non-null   uint8  \n",
            " 10  MultipleLines_Yes                      7043 non-null   uint8  \n",
            " 11  InternetService_Fiber optic            7043 non-null   uint8  \n",
            " 12  InternetService_No                     7043 non-null   uint8  \n",
            " 13  OnlineSecurity_No internet service     7043 non-null   uint8  \n",
            " 14  OnlineSecurity_Yes                     7043 non-null   uint8  \n",
            " 15  OnlineBackup_No internet service       7043 non-null   uint8  \n",
            " 16  OnlineBackup_Yes                       7043 non-null   uint8  \n",
            " 17  DeviceProtection_No internet service   7043 non-null   uint8  \n",
            " 18  DeviceProtection_Yes                   7043 non-null   uint8  \n",
            " 19  TechSupport_No internet service        7043 non-null   uint8  \n",
            " 20  TechSupport_Yes                        7043 non-null   uint8  \n",
            " 21  StreamingTV_No internet service        7043 non-null   uint8  \n",
            " 22  StreamingTV_Yes                        7043 non-null   uint8  \n",
            " 23  StreamingMovies_No internet service    7043 non-null   uint8  \n",
            " 24  StreamingMovies_Yes                    7043 non-null   uint8  \n",
            " 25  Contract_One year                      7043 non-null   uint8  \n",
            " 26  Contract_Two year                      7043 non-null   uint8  \n",
            " 27  PaperlessBilling_Yes                   7043 non-null   uint8  \n",
            " 28  PaymentMethod_Credit card (automatic)  7043 non-null   uint8  \n",
            " 29  PaymentMethod_Electronic check         7043 non-null   uint8  \n",
            " 30  PaymentMethod_Mailed check             7043 non-null   uint8  \n",
            "dtypes: float64(1), int64(1), object(2), uint8(27)\n",
            "memory usage: 405.9+ KB\n"
          ],
          "name": "stdout"
        }
      ]
    },
    {
      "cell_type": "markdown",
      "metadata": {
        "id": "hm1c8BtYKXB1",
        "colab_type": "text"
      },
      "source": [
        "hanya tersisa Total Charges dan Churn yang belum berupa data numerik, maka akan diubah berikut ini"
      ]
    },
    {
      "cell_type": "markdown",
      "metadata": {
        "id": "hwMtHhEZKjVo",
        "colab_type": "text"
      },
      "source": [
        "pertama-tama mengubah data churn terlebih dahulu"
      ]
    },
    {
      "cell_type": "code",
      "metadata": {
        "id": "ebAmiX08LG3s",
        "colab_type": "code",
        "colab": {
          "base_uri": "https://localhost:8080/",
          "height": 217
        },
        "outputId": "f4880b65-a3dd-457f-c2c3-0a2360f351db"
      },
      "source": [
        "df[\"Churn\"]"
      ],
      "execution_count": 37,
      "outputs": [
        {
          "output_type": "execute_result",
          "data": {
            "text/plain": [
              "0        No\n",
              "1        No\n",
              "2       Yes\n",
              "3        No\n",
              "4       Yes\n",
              "       ... \n",
              "7038     No\n",
              "7039     No\n",
              "7040     No\n",
              "7041    Yes\n",
              "7042     No\n",
              "Name: Churn, Length: 7043, dtype: object"
            ]
          },
          "metadata": {
            "tags": []
          },
          "execution_count": 37
        }
      ]
    },
    {
      "cell_type": "code",
      "metadata": {
        "id": "2AdrJQxoKmKt",
        "colab_type": "code",
        "colab": {
          "base_uri": "https://localhost:8080/",
          "height": 33
        },
        "outputId": "8f0031db-8cbc-4284-b81d-f13268ddcb99"
      },
      "source": [
        "df[\"Churn\"].unique()"
      ],
      "execution_count": 35,
      "outputs": [
        {
          "output_type": "execute_result",
          "data": {
            "text/plain": [
              "array(['No', 'Yes'], dtype=object)"
            ]
          },
          "metadata": {
            "tags": []
          },
          "execution_count": 35
        }
      ]
    },
    {
      "cell_type": "markdown",
      "metadata": {
        "id": "yeKHr1ILKqly",
        "colab_type": "text"
      },
      "source": [
        "saat ini masih berupa Yes dan No harus diubah menjadi 0 dan 1.\n",
        "0: TIDAK CHURN, 1: CHURN"
      ]
    },
    {
      "cell_type": "code",
      "metadata": {
        "id": "6mLBbZJwKwPA",
        "colab_type": "code",
        "colab": {
          "base_uri": "https://localhost:8080/",
          "height": 217
        },
        "outputId": "89ef9527-b260-4a0a-f8ef-f172d819e9da"
      },
      "source": [
        "labelencoder=LabelEncoder()\n",
        "df[\"Churn\"]=labelencoder.fit_transform(df[\"Churn\"])\n",
        "df[\"Churn\"]"
      ],
      "execution_count": 179,
      "outputs": [
        {
          "output_type": "execute_result",
          "data": {
            "text/plain": [
              "0       0\n",
              "1       0\n",
              "2       1\n",
              "3       0\n",
              "4       1\n",
              "       ..\n",
              "7038    0\n",
              "7039    0\n",
              "7040    0\n",
              "7041    1\n",
              "7042    0\n",
              "Name: Churn, Length: 7043, dtype: int64"
            ]
          },
          "metadata": {
            "tags": []
          },
          "execution_count": 179
        }
      ]
    },
    {
      "cell_type": "markdown",
      "metadata": {
        "id": "O88lZT7lLWDh",
        "colab_type": "text"
      },
      "source": [
        "selanjutnya mengubah datatype TotalCharges"
      ]
    },
    {
      "cell_type": "code",
      "metadata": {
        "id": "--i270dTKeYd",
        "colab_type": "code",
        "colab": {
          "base_uri": "https://localhost:8080/",
          "height": 302
        },
        "outputId": "aab96ace-8e06-4d51-bffb-d97009d03857"
      },
      "source": [
        "df[\"TotalCharges\"]=df[\"TotalCharges\"].astype(\"float\")"
      ],
      "execution_count": 39,
      "outputs": [
        {
          "output_type": "error",
          "ename": "ValueError",
          "evalue": "ignored",
          "traceback": [
            "\u001b[0;31m---------------------------------------------------------------------------\u001b[0m",
            "\u001b[0;31mValueError\u001b[0m                                Traceback (most recent call last)",
            "\u001b[0;32m<ipython-input-39-ef9a5c09ef04>\u001b[0m in \u001b[0;36m<module>\u001b[0;34m()\u001b[0m\n\u001b[0;32m----> 1\u001b[0;31m \u001b[0mdf\u001b[0m\u001b[0;34m[\u001b[0m\u001b[0;34m\"TotalCharges\"\u001b[0m\u001b[0;34m]\u001b[0m\u001b[0;34m=\u001b[0m\u001b[0mdf\u001b[0m\u001b[0;34m[\u001b[0m\u001b[0;34m\"TotalCharges\"\u001b[0m\u001b[0;34m]\u001b[0m\u001b[0;34m.\u001b[0m\u001b[0mastype\u001b[0m\u001b[0;34m(\u001b[0m\u001b[0;34m\"float\"\u001b[0m\u001b[0;34m)\u001b[0m\u001b[0;34m\u001b[0m\u001b[0;34m\u001b[0m\u001b[0m\n\u001b[0m",
            "\u001b[0;32m/usr/local/lib/python3.6/dist-packages/pandas/core/generic.py\u001b[0m in \u001b[0;36mastype\u001b[0;34m(self, dtype, copy, errors)\u001b[0m\n\u001b[1;32m   5696\u001b[0m         \u001b[0;32melse\u001b[0m\u001b[0;34m:\u001b[0m\u001b[0;34m\u001b[0m\u001b[0;34m\u001b[0m\u001b[0m\n\u001b[1;32m   5697\u001b[0m             \u001b[0;31m# else, only a single dtype is given\u001b[0m\u001b[0;34m\u001b[0m\u001b[0;34m\u001b[0m\u001b[0;34m\u001b[0m\u001b[0m\n\u001b[0;32m-> 5698\u001b[0;31m             \u001b[0mnew_data\u001b[0m \u001b[0;34m=\u001b[0m \u001b[0mself\u001b[0m\u001b[0;34m.\u001b[0m\u001b[0m_data\u001b[0m\u001b[0;34m.\u001b[0m\u001b[0mastype\u001b[0m\u001b[0;34m(\u001b[0m\u001b[0mdtype\u001b[0m\u001b[0;34m=\u001b[0m\u001b[0mdtype\u001b[0m\u001b[0;34m,\u001b[0m \u001b[0mcopy\u001b[0m\u001b[0;34m=\u001b[0m\u001b[0mcopy\u001b[0m\u001b[0;34m,\u001b[0m \u001b[0merrors\u001b[0m\u001b[0;34m=\u001b[0m\u001b[0merrors\u001b[0m\u001b[0;34m)\u001b[0m\u001b[0;34m\u001b[0m\u001b[0;34m\u001b[0m\u001b[0m\n\u001b[0m\u001b[1;32m   5699\u001b[0m             \u001b[0;32mreturn\u001b[0m \u001b[0mself\u001b[0m\u001b[0;34m.\u001b[0m\u001b[0m_constructor\u001b[0m\u001b[0;34m(\u001b[0m\u001b[0mnew_data\u001b[0m\u001b[0;34m)\u001b[0m\u001b[0;34m.\u001b[0m\u001b[0m__finalize__\u001b[0m\u001b[0;34m(\u001b[0m\u001b[0mself\u001b[0m\u001b[0;34m)\u001b[0m\u001b[0;34m\u001b[0m\u001b[0;34m\u001b[0m\u001b[0m\n\u001b[1;32m   5700\u001b[0m \u001b[0;34m\u001b[0m\u001b[0m\n",
            "\u001b[0;32m/usr/local/lib/python3.6/dist-packages/pandas/core/internals/managers.py\u001b[0m in \u001b[0;36mastype\u001b[0;34m(self, dtype, copy, errors)\u001b[0m\n\u001b[1;32m    580\u001b[0m \u001b[0;34m\u001b[0m\u001b[0m\n\u001b[1;32m    581\u001b[0m     \u001b[0;32mdef\u001b[0m \u001b[0mastype\u001b[0m\u001b[0;34m(\u001b[0m\u001b[0mself\u001b[0m\u001b[0;34m,\u001b[0m \u001b[0mdtype\u001b[0m\u001b[0;34m,\u001b[0m \u001b[0mcopy\u001b[0m\u001b[0;34m:\u001b[0m \u001b[0mbool\u001b[0m \u001b[0;34m=\u001b[0m \u001b[0;32mFalse\u001b[0m\u001b[0;34m,\u001b[0m \u001b[0merrors\u001b[0m\u001b[0;34m:\u001b[0m \u001b[0mstr\u001b[0m \u001b[0;34m=\u001b[0m \u001b[0;34m\"raise\"\u001b[0m\u001b[0;34m)\u001b[0m\u001b[0;34m:\u001b[0m\u001b[0;34m\u001b[0m\u001b[0;34m\u001b[0m\u001b[0m\n\u001b[0;32m--> 582\u001b[0;31m         \u001b[0;32mreturn\u001b[0m \u001b[0mself\u001b[0m\u001b[0;34m.\u001b[0m\u001b[0mapply\u001b[0m\u001b[0;34m(\u001b[0m\u001b[0;34m\"astype\"\u001b[0m\u001b[0;34m,\u001b[0m \u001b[0mdtype\u001b[0m\u001b[0;34m=\u001b[0m\u001b[0mdtype\u001b[0m\u001b[0;34m,\u001b[0m \u001b[0mcopy\u001b[0m\u001b[0;34m=\u001b[0m\u001b[0mcopy\u001b[0m\u001b[0;34m,\u001b[0m \u001b[0merrors\u001b[0m\u001b[0;34m=\u001b[0m\u001b[0merrors\u001b[0m\u001b[0;34m)\u001b[0m\u001b[0;34m\u001b[0m\u001b[0;34m\u001b[0m\u001b[0m\n\u001b[0m\u001b[1;32m    583\u001b[0m \u001b[0;34m\u001b[0m\u001b[0m\n\u001b[1;32m    584\u001b[0m     \u001b[0;32mdef\u001b[0m \u001b[0mconvert\u001b[0m\u001b[0;34m(\u001b[0m\u001b[0mself\u001b[0m\u001b[0;34m,\u001b[0m \u001b[0;34m**\u001b[0m\u001b[0mkwargs\u001b[0m\u001b[0;34m)\u001b[0m\u001b[0;34m:\u001b[0m\u001b[0;34m\u001b[0m\u001b[0;34m\u001b[0m\u001b[0m\n",
            "\u001b[0;32m/usr/local/lib/python3.6/dist-packages/pandas/core/internals/managers.py\u001b[0m in \u001b[0;36mapply\u001b[0;34m(self, f, filter, **kwargs)\u001b[0m\n\u001b[1;32m    440\u001b[0m                 \u001b[0mapplied\u001b[0m \u001b[0;34m=\u001b[0m \u001b[0mb\u001b[0m\u001b[0;34m.\u001b[0m\u001b[0mapply\u001b[0m\u001b[0;34m(\u001b[0m\u001b[0mf\u001b[0m\u001b[0;34m,\u001b[0m \u001b[0;34m**\u001b[0m\u001b[0mkwargs\u001b[0m\u001b[0;34m)\u001b[0m\u001b[0;34m\u001b[0m\u001b[0;34m\u001b[0m\u001b[0m\n\u001b[1;32m    441\u001b[0m             \u001b[0;32melse\u001b[0m\u001b[0;34m:\u001b[0m\u001b[0;34m\u001b[0m\u001b[0;34m\u001b[0m\u001b[0m\n\u001b[0;32m--> 442\u001b[0;31m                 \u001b[0mapplied\u001b[0m \u001b[0;34m=\u001b[0m \u001b[0mgetattr\u001b[0m\u001b[0;34m(\u001b[0m\u001b[0mb\u001b[0m\u001b[0;34m,\u001b[0m \u001b[0mf\u001b[0m\u001b[0;34m)\u001b[0m\u001b[0;34m(\u001b[0m\u001b[0;34m**\u001b[0m\u001b[0mkwargs\u001b[0m\u001b[0;34m)\u001b[0m\u001b[0;34m\u001b[0m\u001b[0;34m\u001b[0m\u001b[0m\n\u001b[0m\u001b[1;32m    443\u001b[0m             \u001b[0mresult_blocks\u001b[0m \u001b[0;34m=\u001b[0m \u001b[0m_extend_blocks\u001b[0m\u001b[0;34m(\u001b[0m\u001b[0mapplied\u001b[0m\u001b[0;34m,\u001b[0m \u001b[0mresult_blocks\u001b[0m\u001b[0;34m)\u001b[0m\u001b[0;34m\u001b[0m\u001b[0;34m\u001b[0m\u001b[0m\n\u001b[1;32m    444\u001b[0m \u001b[0;34m\u001b[0m\u001b[0m\n",
            "\u001b[0;32m/usr/local/lib/python3.6/dist-packages/pandas/core/internals/blocks.py\u001b[0m in \u001b[0;36mastype\u001b[0;34m(self, dtype, copy, errors)\u001b[0m\n\u001b[1;32m    623\u001b[0m             \u001b[0mvals1d\u001b[0m \u001b[0;34m=\u001b[0m \u001b[0mvalues\u001b[0m\u001b[0;34m.\u001b[0m\u001b[0mravel\u001b[0m\u001b[0;34m(\u001b[0m\u001b[0;34m)\u001b[0m\u001b[0;34m\u001b[0m\u001b[0;34m\u001b[0m\u001b[0m\n\u001b[1;32m    624\u001b[0m             \u001b[0;32mtry\u001b[0m\u001b[0;34m:\u001b[0m\u001b[0;34m\u001b[0m\u001b[0;34m\u001b[0m\u001b[0m\n\u001b[0;32m--> 625\u001b[0;31m                 \u001b[0mvalues\u001b[0m \u001b[0;34m=\u001b[0m \u001b[0mastype_nansafe\u001b[0m\u001b[0;34m(\u001b[0m\u001b[0mvals1d\u001b[0m\u001b[0;34m,\u001b[0m \u001b[0mdtype\u001b[0m\u001b[0;34m,\u001b[0m \u001b[0mcopy\u001b[0m\u001b[0;34m=\u001b[0m\u001b[0;32mTrue\u001b[0m\u001b[0;34m)\u001b[0m\u001b[0;34m\u001b[0m\u001b[0;34m\u001b[0m\u001b[0m\n\u001b[0m\u001b[1;32m    626\u001b[0m             \u001b[0;32mexcept\u001b[0m \u001b[0;34m(\u001b[0m\u001b[0mValueError\u001b[0m\u001b[0;34m,\u001b[0m \u001b[0mTypeError\u001b[0m\u001b[0;34m)\u001b[0m\u001b[0;34m:\u001b[0m\u001b[0;34m\u001b[0m\u001b[0;34m\u001b[0m\u001b[0m\n\u001b[1;32m    627\u001b[0m                 \u001b[0;31m# e.g. astype_nansafe can fail on object-dtype of strings\u001b[0m\u001b[0;34m\u001b[0m\u001b[0;34m\u001b[0m\u001b[0;34m\u001b[0m\u001b[0m\n",
            "\u001b[0;32m/usr/local/lib/python3.6/dist-packages/pandas/core/dtypes/cast.py\u001b[0m in \u001b[0;36mastype_nansafe\u001b[0;34m(arr, dtype, copy, skipna)\u001b[0m\n\u001b[1;32m    895\u001b[0m     \u001b[0;32mif\u001b[0m \u001b[0mcopy\u001b[0m \u001b[0;32mor\u001b[0m \u001b[0mis_object_dtype\u001b[0m\u001b[0;34m(\u001b[0m\u001b[0marr\u001b[0m\u001b[0;34m)\u001b[0m \u001b[0;32mor\u001b[0m \u001b[0mis_object_dtype\u001b[0m\u001b[0;34m(\u001b[0m\u001b[0mdtype\u001b[0m\u001b[0;34m)\u001b[0m\u001b[0;34m:\u001b[0m\u001b[0;34m\u001b[0m\u001b[0;34m\u001b[0m\u001b[0m\n\u001b[1;32m    896\u001b[0m         \u001b[0;31m# Explicit copy, or required since NumPy can't view from / to object.\u001b[0m\u001b[0;34m\u001b[0m\u001b[0;34m\u001b[0m\u001b[0;34m\u001b[0m\u001b[0m\n\u001b[0;32m--> 897\u001b[0;31m         \u001b[0;32mreturn\u001b[0m \u001b[0marr\u001b[0m\u001b[0;34m.\u001b[0m\u001b[0mastype\u001b[0m\u001b[0;34m(\u001b[0m\u001b[0mdtype\u001b[0m\u001b[0;34m,\u001b[0m \u001b[0mcopy\u001b[0m\u001b[0;34m=\u001b[0m\u001b[0;32mTrue\u001b[0m\u001b[0;34m)\u001b[0m\u001b[0;34m\u001b[0m\u001b[0;34m\u001b[0m\u001b[0m\n\u001b[0m\u001b[1;32m    898\u001b[0m \u001b[0;34m\u001b[0m\u001b[0m\n\u001b[1;32m    899\u001b[0m     \u001b[0;32mreturn\u001b[0m \u001b[0marr\u001b[0m\u001b[0;34m.\u001b[0m\u001b[0mview\u001b[0m\u001b[0;34m(\u001b[0m\u001b[0mdtype\u001b[0m\u001b[0;34m)\u001b[0m\u001b[0;34m\u001b[0m\u001b[0;34m\u001b[0m\u001b[0m\n",
            "\u001b[0;31mValueError\u001b[0m: could not convert string to float: "
          ]
        }
      ]
    },
    {
      "cell_type": "markdown",
      "metadata": {
        "id": "KUkFsj_2Lawc",
        "colab_type": "text"
      },
      "source": [
        "terlihat adanya data string kosong sehingga terjadi error, maka harus disesuaikan terlebih dahulu"
      ]
    },
    {
      "cell_type": "markdown",
      "metadata": {
        "id": "NejDD7Y_Nv7v",
        "colab_type": "text"
      },
      "source": [
        "### Q1.2"
      ]
    },
    {
      "cell_type": "markdown",
      "metadata": {
        "id": "49K0rreYLyzm",
        "colab_type": "text"
      },
      "source": [
        "hanya ada 11 data kosong, tidak terlalu signifikan, maka saya putuskan untuk drop saja"
      ]
    },
    {
      "cell_type": "code",
      "metadata": {
        "id": "ELVvE4C3KejH",
        "colab_type": "code",
        "colab": {}
      },
      "source": [
        "df.drop(df[df[\"TotalCharges\"]==\" \"].index, inplace=True)"
      ],
      "execution_count": 180,
      "outputs": []
    },
    {
      "cell_type": "code",
      "metadata": {
        "id": "ucW_KrS2MgAT",
        "colab_type": "code",
        "colab": {
          "base_uri": "https://localhost:8080/",
          "height": 560
        },
        "outputId": "835b711c-d340-4cf1-d54f-1af9fee5fe55"
      },
      "source": [
        "df"
      ],
      "execution_count": 181,
      "outputs": [
        {
          "output_type": "execute_result",
          "data": {
            "text/html": [
              "<div>\n",
              "<style scoped>\n",
              "    .dataframe tbody tr th:only-of-type {\n",
              "        vertical-align: middle;\n",
              "    }\n",
              "\n",
              "    .dataframe tbody tr th {\n",
              "        vertical-align: top;\n",
              "    }\n",
              "\n",
              "    .dataframe thead th {\n",
              "        text-align: right;\n",
              "    }\n",
              "</style>\n",
              "<table border=\"1\" class=\"dataframe\">\n",
              "  <thead>\n",
              "    <tr style=\"text-align: right;\">\n",
              "      <th></th>\n",
              "      <th>gender</th>\n",
              "      <th>SeniorCitizen</th>\n",
              "      <th>Partner</th>\n",
              "      <th>Dependents</th>\n",
              "      <th>tenure</th>\n",
              "      <th>PhoneService</th>\n",
              "      <th>MultipleLines</th>\n",
              "      <th>InternetService</th>\n",
              "      <th>OnlineSecurity</th>\n",
              "      <th>OnlineBackup</th>\n",
              "      <th>DeviceProtection</th>\n",
              "      <th>TechSupport</th>\n",
              "      <th>StreamingTV</th>\n",
              "      <th>StreamingMovies</th>\n",
              "      <th>Contract</th>\n",
              "      <th>PaperlessBilling</th>\n",
              "      <th>PaymentMethod</th>\n",
              "      <th>MonthlyCharges</th>\n",
              "      <th>TotalCharges</th>\n",
              "      <th>Churn</th>\n",
              "    </tr>\n",
              "  </thead>\n",
              "  <tbody>\n",
              "    <tr>\n",
              "      <th>0</th>\n",
              "      <td>Female</td>\n",
              "      <td>0</td>\n",
              "      <td>Yes</td>\n",
              "      <td>No</td>\n",
              "      <td>1</td>\n",
              "      <td>No</td>\n",
              "      <td>No phone service</td>\n",
              "      <td>DSL</td>\n",
              "      <td>No</td>\n",
              "      <td>Yes</td>\n",
              "      <td>No</td>\n",
              "      <td>No</td>\n",
              "      <td>No</td>\n",
              "      <td>No</td>\n",
              "      <td>Month-to-month</td>\n",
              "      <td>Yes</td>\n",
              "      <td>Electronic check</td>\n",
              "      <td>29.85</td>\n",
              "      <td>29.85</td>\n",
              "      <td>0</td>\n",
              "    </tr>\n",
              "    <tr>\n",
              "      <th>1</th>\n",
              "      <td>Male</td>\n",
              "      <td>0</td>\n",
              "      <td>No</td>\n",
              "      <td>No</td>\n",
              "      <td>34</td>\n",
              "      <td>Yes</td>\n",
              "      <td>No</td>\n",
              "      <td>DSL</td>\n",
              "      <td>Yes</td>\n",
              "      <td>No</td>\n",
              "      <td>Yes</td>\n",
              "      <td>No</td>\n",
              "      <td>No</td>\n",
              "      <td>No</td>\n",
              "      <td>One year</td>\n",
              "      <td>No</td>\n",
              "      <td>Mailed check</td>\n",
              "      <td>56.95</td>\n",
              "      <td>1889.5</td>\n",
              "      <td>0</td>\n",
              "    </tr>\n",
              "    <tr>\n",
              "      <th>2</th>\n",
              "      <td>Male</td>\n",
              "      <td>0</td>\n",
              "      <td>No</td>\n",
              "      <td>No</td>\n",
              "      <td>2</td>\n",
              "      <td>Yes</td>\n",
              "      <td>No</td>\n",
              "      <td>DSL</td>\n",
              "      <td>Yes</td>\n",
              "      <td>Yes</td>\n",
              "      <td>No</td>\n",
              "      <td>No</td>\n",
              "      <td>No</td>\n",
              "      <td>No</td>\n",
              "      <td>Month-to-month</td>\n",
              "      <td>Yes</td>\n",
              "      <td>Mailed check</td>\n",
              "      <td>53.85</td>\n",
              "      <td>108.15</td>\n",
              "      <td>1</td>\n",
              "    </tr>\n",
              "    <tr>\n",
              "      <th>3</th>\n",
              "      <td>Male</td>\n",
              "      <td>0</td>\n",
              "      <td>No</td>\n",
              "      <td>No</td>\n",
              "      <td>45</td>\n",
              "      <td>No</td>\n",
              "      <td>No phone service</td>\n",
              "      <td>DSL</td>\n",
              "      <td>Yes</td>\n",
              "      <td>No</td>\n",
              "      <td>Yes</td>\n",
              "      <td>Yes</td>\n",
              "      <td>No</td>\n",
              "      <td>No</td>\n",
              "      <td>One year</td>\n",
              "      <td>No</td>\n",
              "      <td>Bank transfer (automatic)</td>\n",
              "      <td>42.30</td>\n",
              "      <td>1840.75</td>\n",
              "      <td>0</td>\n",
              "    </tr>\n",
              "    <tr>\n",
              "      <th>4</th>\n",
              "      <td>Female</td>\n",
              "      <td>0</td>\n",
              "      <td>No</td>\n",
              "      <td>No</td>\n",
              "      <td>2</td>\n",
              "      <td>Yes</td>\n",
              "      <td>No</td>\n",
              "      <td>Fiber optic</td>\n",
              "      <td>No</td>\n",
              "      <td>No</td>\n",
              "      <td>No</td>\n",
              "      <td>No</td>\n",
              "      <td>No</td>\n",
              "      <td>No</td>\n",
              "      <td>Month-to-month</td>\n",
              "      <td>Yes</td>\n",
              "      <td>Electronic check</td>\n",
              "      <td>70.70</td>\n",
              "      <td>151.65</td>\n",
              "      <td>1</td>\n",
              "    </tr>\n",
              "    <tr>\n",
              "      <th>...</th>\n",
              "      <td>...</td>\n",
              "      <td>...</td>\n",
              "      <td>...</td>\n",
              "      <td>...</td>\n",
              "      <td>...</td>\n",
              "      <td>...</td>\n",
              "      <td>...</td>\n",
              "      <td>...</td>\n",
              "      <td>...</td>\n",
              "      <td>...</td>\n",
              "      <td>...</td>\n",
              "      <td>...</td>\n",
              "      <td>...</td>\n",
              "      <td>...</td>\n",
              "      <td>...</td>\n",
              "      <td>...</td>\n",
              "      <td>...</td>\n",
              "      <td>...</td>\n",
              "      <td>...</td>\n",
              "      <td>...</td>\n",
              "    </tr>\n",
              "    <tr>\n",
              "      <th>7038</th>\n",
              "      <td>Male</td>\n",
              "      <td>0</td>\n",
              "      <td>Yes</td>\n",
              "      <td>Yes</td>\n",
              "      <td>24</td>\n",
              "      <td>Yes</td>\n",
              "      <td>Yes</td>\n",
              "      <td>DSL</td>\n",
              "      <td>Yes</td>\n",
              "      <td>No</td>\n",
              "      <td>Yes</td>\n",
              "      <td>Yes</td>\n",
              "      <td>Yes</td>\n",
              "      <td>Yes</td>\n",
              "      <td>One year</td>\n",
              "      <td>Yes</td>\n",
              "      <td>Mailed check</td>\n",
              "      <td>84.80</td>\n",
              "      <td>1990.5</td>\n",
              "      <td>0</td>\n",
              "    </tr>\n",
              "    <tr>\n",
              "      <th>7039</th>\n",
              "      <td>Female</td>\n",
              "      <td>0</td>\n",
              "      <td>Yes</td>\n",
              "      <td>Yes</td>\n",
              "      <td>72</td>\n",
              "      <td>Yes</td>\n",
              "      <td>Yes</td>\n",
              "      <td>Fiber optic</td>\n",
              "      <td>No</td>\n",
              "      <td>Yes</td>\n",
              "      <td>Yes</td>\n",
              "      <td>No</td>\n",
              "      <td>Yes</td>\n",
              "      <td>Yes</td>\n",
              "      <td>One year</td>\n",
              "      <td>Yes</td>\n",
              "      <td>Credit card (automatic)</td>\n",
              "      <td>103.20</td>\n",
              "      <td>7362.9</td>\n",
              "      <td>0</td>\n",
              "    </tr>\n",
              "    <tr>\n",
              "      <th>7040</th>\n",
              "      <td>Female</td>\n",
              "      <td>0</td>\n",
              "      <td>Yes</td>\n",
              "      <td>Yes</td>\n",
              "      <td>11</td>\n",
              "      <td>No</td>\n",
              "      <td>No phone service</td>\n",
              "      <td>DSL</td>\n",
              "      <td>Yes</td>\n",
              "      <td>No</td>\n",
              "      <td>No</td>\n",
              "      <td>No</td>\n",
              "      <td>No</td>\n",
              "      <td>No</td>\n",
              "      <td>Month-to-month</td>\n",
              "      <td>Yes</td>\n",
              "      <td>Electronic check</td>\n",
              "      <td>29.60</td>\n",
              "      <td>346.45</td>\n",
              "      <td>0</td>\n",
              "    </tr>\n",
              "    <tr>\n",
              "      <th>7041</th>\n",
              "      <td>Male</td>\n",
              "      <td>1</td>\n",
              "      <td>Yes</td>\n",
              "      <td>No</td>\n",
              "      <td>4</td>\n",
              "      <td>Yes</td>\n",
              "      <td>Yes</td>\n",
              "      <td>Fiber optic</td>\n",
              "      <td>No</td>\n",
              "      <td>No</td>\n",
              "      <td>No</td>\n",
              "      <td>No</td>\n",
              "      <td>No</td>\n",
              "      <td>No</td>\n",
              "      <td>Month-to-month</td>\n",
              "      <td>Yes</td>\n",
              "      <td>Mailed check</td>\n",
              "      <td>74.40</td>\n",
              "      <td>306.6</td>\n",
              "      <td>1</td>\n",
              "    </tr>\n",
              "    <tr>\n",
              "      <th>7042</th>\n",
              "      <td>Male</td>\n",
              "      <td>0</td>\n",
              "      <td>No</td>\n",
              "      <td>No</td>\n",
              "      <td>66</td>\n",
              "      <td>Yes</td>\n",
              "      <td>No</td>\n",
              "      <td>Fiber optic</td>\n",
              "      <td>Yes</td>\n",
              "      <td>No</td>\n",
              "      <td>Yes</td>\n",
              "      <td>Yes</td>\n",
              "      <td>Yes</td>\n",
              "      <td>Yes</td>\n",
              "      <td>Two year</td>\n",
              "      <td>Yes</td>\n",
              "      <td>Bank transfer (automatic)</td>\n",
              "      <td>105.65</td>\n",
              "      <td>6844.5</td>\n",
              "      <td>0</td>\n",
              "    </tr>\n",
              "  </tbody>\n",
              "</table>\n",
              "<p>7032 rows × 20 columns</p>\n",
              "</div>"
            ],
            "text/plain": [
              "      gender  SeniorCitizen Partner  ... MonthlyCharges  TotalCharges Churn\n",
              "0     Female              0     Yes  ...          29.85         29.85     0\n",
              "1       Male              0      No  ...          56.95        1889.5     0\n",
              "2       Male              0      No  ...          53.85        108.15     1\n",
              "3       Male              0      No  ...          42.30       1840.75     0\n",
              "4     Female              0      No  ...          70.70        151.65     1\n",
              "...      ...            ...     ...  ...            ...           ...   ...\n",
              "7038    Male              0     Yes  ...          84.80        1990.5     0\n",
              "7039  Female              0     Yes  ...         103.20        7362.9     0\n",
              "7040  Female              0     Yes  ...          29.60        346.45     0\n",
              "7041    Male              1     Yes  ...          74.40         306.6     1\n",
              "7042    Male              0      No  ...         105.65        6844.5     0\n",
              "\n",
              "[7032 rows x 20 columns]"
            ]
          },
          "metadata": {
            "tags": []
          },
          "execution_count": 181
        }
      ]
    },
    {
      "cell_type": "code",
      "metadata": {
        "id": "KnV16XOZKenv",
        "colab_type": "code",
        "colab": {}
      },
      "source": [
        "df[\"TotalCharges\"]=df[\"TotalCharges\"].astype(\"float\")"
      ],
      "execution_count": 182,
      "outputs": []
    },
    {
      "cell_type": "code",
      "metadata": {
        "id": "Qv2etOWJKefu",
        "colab_type": "code",
        "colab": {
          "base_uri": "https://localhost:8080/",
          "height": 650
        },
        "outputId": "a4eaf667-363f-49ca-eb31-91c572d8d927"
      },
      "source": [
        "df.info()"
      ],
      "execution_count": 56,
      "outputs": [
        {
          "output_type": "stream",
          "text": [
            "<class 'pandas.core.frame.DataFrame'>\n",
            "Int64Index: 7032 entries, 0 to 7042\n",
            "Data columns (total 31 columns):\n",
            " #   Column                                 Non-Null Count  Dtype  \n",
            "---  ------                                 --------------  -----  \n",
            " 0   tenure                                 7032 non-null   int64  \n",
            " 1   MonthlyCharges                         7032 non-null   float64\n",
            " 2   TotalCharges                           7032 non-null   float64\n",
            " 3   Churn                                  7032 non-null   int64  \n",
            " 4   gender_Male                            7032 non-null   uint8  \n",
            " 5   SeniorCitizen_1                        7032 non-null   uint8  \n",
            " 6   Partner_Yes                            7032 non-null   uint8  \n",
            " 7   Dependents_Yes                         7032 non-null   uint8  \n",
            " 8   PhoneService_Yes                       7032 non-null   uint8  \n",
            " 9   MultipleLines_No phone service         7032 non-null   uint8  \n",
            " 10  MultipleLines_Yes                      7032 non-null   uint8  \n",
            " 11  InternetService_Fiber optic            7032 non-null   uint8  \n",
            " 12  InternetService_No                     7032 non-null   uint8  \n",
            " 13  OnlineSecurity_No internet service     7032 non-null   uint8  \n",
            " 14  OnlineSecurity_Yes                     7032 non-null   uint8  \n",
            " 15  OnlineBackup_No internet service       7032 non-null   uint8  \n",
            " 16  OnlineBackup_Yes                       7032 non-null   uint8  \n",
            " 17  DeviceProtection_No internet service   7032 non-null   uint8  \n",
            " 18  DeviceProtection_Yes                   7032 non-null   uint8  \n",
            " 19  TechSupport_No internet service        7032 non-null   uint8  \n",
            " 20  TechSupport_Yes                        7032 non-null   uint8  \n",
            " 21  StreamingTV_No internet service        7032 non-null   uint8  \n",
            " 22  StreamingTV_Yes                        7032 non-null   uint8  \n",
            " 23  StreamingMovies_No internet service    7032 non-null   uint8  \n",
            " 24  StreamingMovies_Yes                    7032 non-null   uint8  \n",
            " 25  Contract_One year                      7032 non-null   uint8  \n",
            " 26  Contract_Two year                      7032 non-null   uint8  \n",
            " 27  PaperlessBilling_Yes                   7032 non-null   uint8  \n",
            " 28  PaymentMethod_Credit card (automatic)  7032 non-null   uint8  \n",
            " 29  PaymentMethod_Electronic check         7032 non-null   uint8  \n",
            " 30  PaymentMethod_Mailed check             7032 non-null   uint8  \n",
            "dtypes: float64(2), int64(2), uint8(27)\n",
            "memory usage: 460.1 KB\n"
          ],
          "name": "stdout"
        }
      ]
    },
    {
      "cell_type": "markdown",
      "metadata": {
        "id": "ks6yy3goPLtU",
        "colab_type": "text"
      },
      "source": [
        "### Q1.3 : cek multikol untuk variabel yang memang numerik, bukan kategorik yg dijadiin numerik"
      ]
    },
    {
      "cell_type": "code",
      "metadata": {
        "id": "SEl2Mc9qPeRy",
        "colab_type": "code",
        "colab": {}
      },
      "source": [
        "df_num=df[[\"MonthlyCharges\",\"tenure\",\"TotalCharges\"]]"
      ],
      "execution_count": 65,
      "outputs": []
    },
    {
      "cell_type": "code",
      "metadata": {
        "id": "tmEr6O3oPRFP",
        "colab_type": "code",
        "colab": {
          "base_uri": "https://localhost:8080/",
          "height": 137
        },
        "outputId": "30b26efd-ff40-4c08-f583-57f8951e9fc6"
      },
      "source": [
        "df_num.corr()"
      ],
      "execution_count": 66,
      "outputs": [
        {
          "output_type": "execute_result",
          "data": {
            "text/html": [
              "<div>\n",
              "<style scoped>\n",
              "    .dataframe tbody tr th:only-of-type {\n",
              "        vertical-align: middle;\n",
              "    }\n",
              "\n",
              "    .dataframe tbody tr th {\n",
              "        vertical-align: top;\n",
              "    }\n",
              "\n",
              "    .dataframe thead th {\n",
              "        text-align: right;\n",
              "    }\n",
              "</style>\n",
              "<table border=\"1\" class=\"dataframe\">\n",
              "  <thead>\n",
              "    <tr style=\"text-align: right;\">\n",
              "      <th></th>\n",
              "      <th>MonthlyCharges</th>\n",
              "      <th>tenure</th>\n",
              "      <th>TotalCharges</th>\n",
              "    </tr>\n",
              "  </thead>\n",
              "  <tbody>\n",
              "    <tr>\n",
              "      <th>MonthlyCharges</th>\n",
              "      <td>1.000000</td>\n",
              "      <td>0.246862</td>\n",
              "      <td>0.651065</td>\n",
              "    </tr>\n",
              "    <tr>\n",
              "      <th>tenure</th>\n",
              "      <td>0.246862</td>\n",
              "      <td>1.000000</td>\n",
              "      <td>0.825880</td>\n",
              "    </tr>\n",
              "    <tr>\n",
              "      <th>TotalCharges</th>\n",
              "      <td>0.651065</td>\n",
              "      <td>0.825880</td>\n",
              "      <td>1.000000</td>\n",
              "    </tr>\n",
              "  </tbody>\n",
              "</table>\n",
              "</div>"
            ],
            "text/plain": [
              "                MonthlyCharges    tenure  TotalCharges\n",
              "MonthlyCharges        1.000000  0.246862      0.651065\n",
              "tenure                0.246862  1.000000      0.825880\n",
              "TotalCharges          0.651065  0.825880      1.000000"
            ]
          },
          "metadata": {
            "tags": []
          },
          "execution_count": 66
        }
      ]
    },
    {
      "cell_type": "markdown",
      "metadata": {
        "id": "9Zmh-QcsPhZN",
        "colab_type": "text"
      },
      "source": [
        "terlihat multikol yang kuat antara total charges dengan variabel lain. selain itu, masuk akal bahwa total charges adalah tenure x monthly charges,sehingga dapat didrop saja."
      ]
    },
    {
      "cell_type": "code",
      "metadata": {
        "id": "QnBhOkkEPwkT",
        "colab_type": "code",
        "colab": {}
      },
      "source": [
        "df.drop(\"TotalCharges\", axis=1, inplace=True)"
      ],
      "execution_count": 67,
      "outputs": []
    },
    {
      "cell_type": "markdown",
      "metadata": {
        "id": "wtRtc6xRiZRG",
        "colab_type": "text"
      },
      "source": [
        "#Q2: Data Visualization (35 point)\n",
        "\n",
        "##1. Tampilkan visualisasi LINE CHART variabel apapun yang kamu inginkan. Lalu, analisis hasilnya.\n",
        "\n",
        "##2. Tampilkan visualisasi BOX PLOT dari variabel apapun yang kamu inginkan TERHADAP target variabel \"Churn Or Not Churn\". Lalu, analisis hasilnya. CONTOH GAMBARANNYA SEPERTI DI BAWAH INI.\n",
        "![image.png](data:image/png;base64,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)\n",
        "\n",
        "##3. Tampilkan visualisasi HISTOGRAM dengan variabel apapun yang kamu inginkan TERHADAP target variabel \"Churn Or Not Churn\". CONTOH GAMBAR SEBAGAI BERIKUT.\n",
        "\n",
        "![image.png](data:image/png;base64,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)\n"
      ]
    },
    {
      "cell_type": "code",
      "metadata": {
        "id": "8KpygBAmkXpw",
        "colab_type": "code",
        "colab": {}
      },
      "source": [
        "# Tulis jawaban Q2 di cell ini. TIDAK TERBATAS HANYA 1 CELL SAJA. Jika kurang, silahkan tambah cell sesuai kebutuhan."
      ],
      "execution_count": null,
      "outputs": []
    },
    {
      "cell_type": "markdown",
      "metadata": {
        "id": "ZwvuBp2MOI--",
        "colab_type": "text"
      },
      "source": [
        "### Q2.1"
      ]
    },
    {
      "cell_type": "code",
      "metadata": {
        "id": "RAfdJnICkbBB",
        "colab_type": "code",
        "colab": {
          "base_uri": "https://localhost:8080/",
          "height": 296
        },
        "outputId": "4df54d30-6983-4677-bb5f-58e8b11f286b"
      },
      "source": [
        "sns.lineplot(x=\"tenure\", y=\"MonthlyCharges\", data=df)"
      ],
      "execution_count": 69,
      "outputs": [
        {
          "output_type": "execute_result",
          "data": {
            "text/plain": [
              "<matplotlib.axes._subplots.AxesSubplot at 0x7f10929a9860>"
            ]
          },
          "metadata": {
            "tags": []
          },
          "execution_count": 69
        },
        {
          "output_type": "display_data",
          "data": {
            "image/png": "[encoded data removed]",
            "text/plain": [
              "<Figure size 432x288 with 1 Axes>"
            ]
          },
          "metadata": {
            "tags": [],
            "needs_background": "light"
          }
        }
      ]
    },
    {
      "cell_type": "markdown",
      "metadata": {
        "id": "M6Tx22LYRbWI",
        "colab_type": "text"
      },
      "source": [
        "terlihat bahwa semakin panjang tenure, semakin besar rata-rata biaya bulanan yang harus dibayarkan. hal ini mungkin dikarenakan adanya promo-promo yang diberikan untuk pengguna baru sementara pengguna lama sudah membayar dengan biaya non-promo. "
      ]
    },
    {
      "cell_type": "markdown",
      "metadata": {
        "id": "pxV2AtXlOK7m",
        "colab_type": "text"
      },
      "source": [
        "### Q2.2"
      ]
    },
    {
      "cell_type": "code",
      "metadata": {
        "id": "28nMo73VOENz",
        "colab_type": "code",
        "colab": {
          "base_uri": "https://localhost:8080/",
          "height": 296
        },
        "outputId": "52b106b8-7ad6-4c7b-92bc-f844c3be1932"
      },
      "source": [
        "sns.boxplot(x=\"Churn\", y=\"MonthlyCharges\", data=df)"
      ],
      "execution_count": 61,
      "outputs": [
        {
          "output_type": "execute_result",
          "data": {
            "text/plain": [
              "<matplotlib.axes._subplots.AxesSubplot at 0x7f1096541160>"
            ]
          },
          "metadata": {
            "tags": []
          },
          "execution_count": 61
        },
        {
          "output_type": "display_data",
          "data": {
            "image/png": "[encoded data removed]",
            "text/plain": [
              "<Figure size 432x288 with 1 Axes>"
            ]
          },
          "metadata": {
            "tags": [],
            "needs_background": "light"
          }
        }
      ]
    },
    {
      "cell_type": "markdown",
      "metadata": {
        "id": "7TE2m9eNQeLQ",
        "colab_type": "text"
      },
      "source": [
        "dari boxplot di atas, terlihat bahwa adanya kecenderungan customer untuk beralih (churn) seiring semakin besarnya Monthly Charges (rata-rata biaya per bulan). persebaran datanya pun untuk customer yang beralih lebih banyak di area atas (yaitu, rata-rata biaya per bulan yang tinggi) dibandingkan dengan customer yang tidak beralih). Maka, dapat dipertimbangkan bahwa besarnya biaya per bulan yang dikenakan kepada customer dapat mempengaruhi kesetiaan customer terhadap service yang kita berikan."
      ]
    },
    {
      "cell_type": "markdown",
      "metadata": {
        "id": "C9BKMUzOOMq1",
        "colab_type": "text"
      },
      "source": [
        "### Q2.3"
      ]
    },
    {
      "cell_type": "code",
      "metadata": {
        "id": "-b4uZEKPOETm",
        "colab_type": "code",
        "colab": {
          "base_uri": "https://localhost:8080/",
          "height": 300
        },
        "outputId": "b8d40f95-b690-4199-f6f6-1ce1320767a6"
      },
      "source": [
        "sns.distplot(df[df[\"Churn\"]==0][\"tenure\"], label=\"Not Churn\")\n",
        "sns.distplot(df[df[\"Churn\"]==1][\"tenure\"], label=\"Churn\")\n",
        "plt.legend()"
      ],
      "execution_count": 79,
      "outputs": [
        {
          "output_type": "execute_result",
          "data": {
            "text/plain": [
              "<matplotlib.legend.Legend at 0x7f10924100b8>"
            ]
          },
          "metadata": {
            "tags": []
          },
          "execution_count": 79
        },
        {
          "output_type": "display_data",
          "data": {
            "image/png": "[encoded data removed]",
            "text/plain": [
              "<Figure size 432x288 with 1 Axes>"
            ]
          },
          "metadata": {
            "tags": [],
            "needs_background": "light"
          }
        }
      ]
    },
    {
      "cell_type": "markdown",
      "metadata": {
        "id": "wCFEzWOxT8Rl",
        "colab_type": "text"
      },
      "source": [
        "melalui histogram di atas, dapat kita lihat bahwa secara signifikan lebih banyak customer yang beralih di awal penggunaan service daripada mereka yang telah lama menggunakannya. "
      ]
    },
    {
      "cell_type": "markdown",
      "metadata": {
        "id": "tMHXdqeCkbR-",
        "colab_type": "text"
      },
      "source": [
        "#Q3: Classification Modelling (20 point)\n",
        "\n",
        "## **Tujuan**: Memprediksi apakah customer akan churn atau tidak churn. Kolom target variabel berjudul \"Churn\".\n",
        "\n",
        "## **Metric evaluation**: Tergantung pembuat modelling, yaitu kamu. Gunakan alasan yang tepat mengapa memilih metric evaluation tersebut. Beberapa contoh metric evaluation -> Accuracy, Precision, Recall, etc.\n",
        "\n",
        "## **Algoritma**: Buatlah modelling dengan minimal 2 algoritma yang berbeda. Contoh: Logistic regression & random forest. Semakin banyak algoritma yang digunakan, maka semakin bisa membandingkan kebaikan model tersebut.\n",
        "\n",
        "## **Expected Output**: Modelling & metric evaluation.\n",
        "\n"
      ]
    },
    {
      "cell_type": "code",
      "metadata": {
        "id": "d93FGfHhmJEf",
        "colab_type": "code",
        "colab": {}
      },
      "source": [
        "# Tulis jawaban Q3 di cell ini. TIDAK TERBATAS HANYA 1 CELL SAJA. Jika kurang, silahkan tambah cell sesuai kebutuhan."
      ],
      "execution_count": null,
      "outputs": []
    },
    {
      "cell_type": "code",
      "metadata": {
        "id": "LfnKrUp9mLh6",
        "colab_type": "code",
        "colab": {}
      },
      "source": [
        "x=df.drop(\"Churn\", axis=1)\n",
        "y=df[\"Churn\"]"
      ],
      "execution_count": 80,
      "outputs": []
    },
    {
      "cell_type": "code",
      "metadata": {
        "id": "iQ598pXZUZVU",
        "colab_type": "code",
        "colab": {
          "base_uri": "https://localhost:8080/",
          "height": 460
        },
        "outputId": "310898cf-6438-42c7-867d-79b8760fae5f"
      },
      "source": [
        "x"
      ],
      "execution_count": 81,
      "outputs": [
        {
          "output_type": "execute_result",
          "data": {
            "text/html": [
              "<div>\n",
              "<style scoped>\n",
              "    .dataframe tbody tr th:only-of-type {\n",
              "        vertical-align: middle;\n",
              "    }\n",
              "\n",
              "    .dataframe tbody tr th {\n",
              "        vertical-align: top;\n",
              "    }\n",
              "\n",
              "    .dataframe thead th {\n",
              "        text-align: right;\n",
              "    }\n",
              "</style>\n",
              "<table border=\"1\" class=\"dataframe\">\n",
              "  <thead>\n",
              "    <tr style=\"text-align: right;\">\n",
              "      <th></th>\n",
              "      <th>tenure</th>\n",
              "      <th>MonthlyCharges</th>\n",
              "      <th>gender_Male</th>\n",
              "      <th>SeniorCitizen_1</th>\n",
              "      <th>Partner_Yes</th>\n",
              "      <th>Dependents_Yes</th>\n",
              "      <th>PhoneService_Yes</th>\n",
              "      <th>MultipleLines_No phone service</th>\n",
              "      <th>MultipleLines_Yes</th>\n",
              "      <th>InternetService_Fiber optic</th>\n",
              "      <th>InternetService_No</th>\n",
              "      <th>OnlineSecurity_No internet service</th>\n",
              "      <th>OnlineSecurity_Yes</th>\n",
              "      <th>OnlineBackup_No internet service</th>\n",
              "      <th>OnlineBackup_Yes</th>\n",
              "      <th>DeviceProtection_No internet service</th>\n",
              "      <th>DeviceProtection_Yes</th>\n",
              "      <th>TechSupport_No internet service</th>\n",
              "      <th>TechSupport_Yes</th>\n",
              "      <th>StreamingTV_No internet service</th>\n",
              "      <th>StreamingTV_Yes</th>\n",
              "      <th>StreamingMovies_No internet service</th>\n",
              "      <th>StreamingMovies_Yes</th>\n",
              "      <th>Contract_One year</th>\n",
              "      <th>Contract_Two year</th>\n",
              "      <th>PaperlessBilling_Yes</th>\n",
              "      <th>PaymentMethod_Credit card (automatic)</th>\n",
              "      <th>PaymentMethod_Electronic check</th>\n",
              "      <th>PaymentMethod_Mailed check</th>\n",
              "    </tr>\n",
              "  </thead>\n",
              "  <tbody>\n",
              "    <tr>\n",
              "      <th>0</th>\n",
              "      <td>1</td>\n",
              "      <td>29.85</td>\n",
              "      <td>0</td>\n",
              "      <td>0</td>\n",
              "      <td>1</td>\n",
              "      <td>0</td>\n",
              "      <td>0</td>\n",
              "      <td>1</td>\n",
              "      <td>0</td>\n",
              "      <td>0</td>\n",
              "      <td>0</td>\n",
              "      <td>0</td>\n",
              "      <td>0</td>\n",
              "      <td>0</td>\n",
              "      <td>1</td>\n",
              "      <td>0</td>\n",
              "      <td>0</td>\n",
              "      <td>0</td>\n",
              "      <td>0</td>\n",
              "      <td>0</td>\n",
              "      <td>0</td>\n",
              "      <td>0</td>\n",
              "      <td>0</td>\n",
              "      <td>0</td>\n",
              "      <td>0</td>\n",
              "      <td>1</td>\n",
              "      <td>0</td>\n",
              "      <td>1</td>\n",
              "      <td>0</td>\n",
              "    </tr>\n",
              "    <tr>\n",
              "      <th>1</th>\n",
              "      <td>34</td>\n",
              "      <td>56.95</td>\n",
              "      <td>1</td>\n",
              "      <td>0</td>\n",
              "      <td>0</td>\n",
              "      <td>0</td>\n",
              "      <td>1</td>\n",
              "      <td>0</td>\n",
              "      <td>0</td>\n",
              "      <td>0</td>\n",
              "      <td>0</td>\n",
              "      <td>0</td>\n",
              "      <td>1</td>\n",
              "      <td>0</td>\n",
              "      <td>0</td>\n",
              "      <td>0</td>\n",
              "      <td>1</td>\n",
              "      <td>0</td>\n",
              "      <td>0</td>\n",
              "      <td>0</td>\n",
              "      <td>0</td>\n",
              "      <td>0</td>\n",
              "      <td>0</td>\n",
              "      <td>1</td>\n",
              "      <td>0</td>\n",
              "      <td>0</td>\n",
              "      <td>0</td>\n",
              "      <td>0</td>\n",
              "      <td>1</td>\n",
              "    </tr>\n",
              "    <tr>\n",
              "      <th>2</th>\n",
              "      <td>2</td>\n",
              "      <td>53.85</td>\n",
              "      <td>1</td>\n",
              "      <td>0</td>\n",
              "      <td>0</td>\n",
              "      <td>0</td>\n",
              "      <td>1</td>\n",
              "      <td>0</td>\n",
              "      <td>0</td>\n",
              "      <td>0</td>\n",
              "      <td>0</td>\n",
              "      <td>0</td>\n",
              "      <td>1</td>\n",
              "      <td>0</td>\n",
              "      <td>1</td>\n",
              "      <td>0</td>\n",
              "      <td>0</td>\n",
              "      <td>0</td>\n",
              "      <td>0</td>\n",
              "      <td>0</td>\n",
              "      <td>0</td>\n",
              "      <td>0</td>\n",
              "      <td>0</td>\n",
              "      <td>0</td>\n",
              "      <td>0</td>\n",
              "      <td>1</td>\n",
              "      <td>0</td>\n",
              "      <td>0</td>\n",
              "      <td>1</td>\n",
              "    </tr>\n",
              "    <tr>\n",
              "      <th>3</th>\n",
              "      <td>45</td>\n",
              "      <td>42.30</td>\n",
              "      <td>1</td>\n",
              "      <td>0</td>\n",
              "      <td>0</td>\n",
              "      <td>0</td>\n",
              "      <td>0</td>\n",
              "      <td>1</td>\n",
              "      <td>0</td>\n",
              "      <td>0</td>\n",
              "      <td>0</td>\n",
              "      <td>0</td>\n",
              "      <td>1</td>\n",
              "      <td>0</td>\n",
              "      <td>0</td>\n",
              "      <td>0</td>\n",
              "      <td>1</td>\n",
              "      <td>0</td>\n",
              "      <td>1</td>\n",
              "      <td>0</td>\n",
              "      <td>0</td>\n",
              "      <td>0</td>\n",
              "      <td>0</td>\n",
              "      <td>1</td>\n",
              "      <td>0</td>\n",
              "      <td>0</td>\n",
              "      <td>0</td>\n",
              "      <td>0</td>\n",
              "      <td>0</td>\n",
              "    </tr>\n",
              "    <tr>\n",
              "      <th>4</th>\n",
              "      <td>2</td>\n",
              "      <td>70.70</td>\n",
              "      <td>0</td>\n",
              "      <td>0</td>\n",
              "      <td>0</td>\n",
              "      <td>0</td>\n",
              "      <td>1</td>\n",
              "      <td>0</td>\n",
              "      <td>0</td>\n",
              "      <td>1</td>\n",
              "      <td>0</td>\n",
              "      <td>0</td>\n",
              "      <td>0</td>\n",
              "      <td>0</td>\n",
              "      <td>0</td>\n",
              "      <td>0</td>\n",
              "      <td>0</td>\n",
              "      <td>0</td>\n",
              "      <td>0</td>\n",
              "      <td>0</td>\n",
              "      <td>0</td>\n",
              "      <td>0</td>\n",
              "      <td>0</td>\n",
              "      <td>0</td>\n",
              "      <td>0</td>\n",
              "      <td>1</td>\n",
              "      <td>0</td>\n",
              "      <td>1</td>\n",
              "      <td>0</td>\n",
              "    </tr>\n",
              "    <tr>\n",
              "      <th>...</th>\n",
              "      <td>...</td>\n",
              "      <td>...</td>\n",
              "      <td>...</td>\n",
              "      <td>...</td>\n",
              "      <td>...</td>\n",
              "      <td>...</td>\n",
              "      <td>...</td>\n",
              "      <td>...</td>\n",
              "      <td>...</td>\n",
              "      <td>...</td>\n",
              "      <td>...</td>\n",
              "      <td>...</td>\n",
              "      <td>...</td>\n",
              "      <td>...</td>\n",
              "      <td>...</td>\n",
              "      <td>...</td>\n",
              "      <td>...</td>\n",
              "      <td>...</td>\n",
              "      <td>...</td>\n",
              "      <td>...</td>\n",
              "      <td>...</td>\n",
              "      <td>...</td>\n",
              "      <td>...</td>\n",
              "      <td>...</td>\n",
              "      <td>...</td>\n",
              "      <td>...</td>\n",
              "      <td>...</td>\n",
              "      <td>...</td>\n",
              "      <td>...</td>\n",
              "    </tr>\n",
              "    <tr>\n",
              "      <th>7038</th>\n",
              "      <td>24</td>\n",
              "      <td>84.80</td>\n",
              "      <td>1</td>\n",
              "      <td>0</td>\n",
              "      <td>1</td>\n",
              "      <td>1</td>\n",
              "      <td>1</td>\n",
              "      <td>0</td>\n",
              "      <td>1</td>\n",
              "      <td>0</td>\n",
              "      <td>0</td>\n",
              "      <td>0</td>\n",
              "      <td>1</td>\n",
              "      <td>0</td>\n",
              "      <td>0</td>\n",
              "      <td>0</td>\n",
              "      <td>1</td>\n",
              "      <td>0</td>\n",
              "      <td>1</td>\n",
              "      <td>0</td>\n",
              "      <td>1</td>\n",
              "      <td>0</td>\n",
              "      <td>1</td>\n",
              "      <td>1</td>\n",
              "      <td>0</td>\n",
              "      <td>1</td>\n",
              "      <td>0</td>\n",
              "      <td>0</td>\n",
              "      <td>1</td>\n",
              "    </tr>\n",
              "    <tr>\n",
              "      <th>7039</th>\n",
              "      <td>72</td>\n",
              "      <td>103.20</td>\n",
              "      <td>0</td>\n",
              "      <td>0</td>\n",
              "      <td>1</td>\n",
              "      <td>1</td>\n",
              "      <td>1</td>\n",
              "      <td>0</td>\n",
              "      <td>1</td>\n",
              "      <td>1</td>\n",
              "      <td>0</td>\n",
              "      <td>0</td>\n",
              "      <td>0</td>\n",
              "      <td>0</td>\n",
              "      <td>1</td>\n",
              "      <td>0</td>\n",
              "      <td>1</td>\n",
              "      <td>0</td>\n",
              "      <td>0</td>\n",
              "      <td>0</td>\n",
              "      <td>1</td>\n",
              "      <td>0</td>\n",
              "      <td>1</td>\n",
              "      <td>1</td>\n",
              "      <td>0</td>\n",
              "      <td>1</td>\n",
              "      <td>1</td>\n",
              "      <td>0</td>\n",
              "      <td>0</td>\n",
              "    </tr>\n",
              "    <tr>\n",
              "      <th>7040</th>\n",
              "      <td>11</td>\n",
              "      <td>29.60</td>\n",
              "      <td>0</td>\n",
              "      <td>0</td>\n",
              "      <td>1</td>\n",
              "      <td>1</td>\n",
              "      <td>0</td>\n",
              "      <td>1</td>\n",
              "      <td>0</td>\n",
              "      <td>0</td>\n",
              "      <td>0</td>\n",
              "      <td>0</td>\n",
              "      <td>1</td>\n",
              "      <td>0</td>\n",
              "      <td>0</td>\n",
              "      <td>0</td>\n",
              "      <td>0</td>\n",
              "      <td>0</td>\n",
              "      <td>0</td>\n",
              "      <td>0</td>\n",
              "      <td>0</td>\n",
              "      <td>0</td>\n",
              "      <td>0</td>\n",
              "      <td>0</td>\n",
              "      <td>0</td>\n",
              "      <td>1</td>\n",
              "      <td>0</td>\n",
              "      <td>1</td>\n",
              "      <td>0</td>\n",
              "    </tr>\n",
              "    <tr>\n",
              "      <th>7041</th>\n",
              "      <td>4</td>\n",
              "      <td>74.40</td>\n",
              "      <td>1</td>\n",
              "      <td>1</td>\n",
              "      <td>1</td>\n",
              "      <td>0</td>\n",
              "      <td>1</td>\n",
              "      <td>0</td>\n",
              "      <td>1</td>\n",
              "      <td>1</td>\n",
              "      <td>0</td>\n",
              "      <td>0</td>\n",
              "      <td>0</td>\n",
              "      <td>0</td>\n",
              "      <td>0</td>\n",
              "      <td>0</td>\n",
              "      <td>0</td>\n",
              "      <td>0</td>\n",
              "      <td>0</td>\n",
              "      <td>0</td>\n",
              "      <td>0</td>\n",
              "      <td>0</td>\n",
              "      <td>0</td>\n",
              "      <td>0</td>\n",
              "      <td>0</td>\n",
              "      <td>1</td>\n",
              "      <td>0</td>\n",
              "      <td>0</td>\n",
              "      <td>1</td>\n",
              "    </tr>\n",
              "    <tr>\n",
              "      <th>7042</th>\n",
              "      <td>66</td>\n",
              "      <td>105.65</td>\n",
              "      <td>1</td>\n",
              "      <td>0</td>\n",
              "      <td>0</td>\n",
              "      <td>0</td>\n",
              "      <td>1</td>\n",
              "      <td>0</td>\n",
              "      <td>0</td>\n",
              "      <td>1</td>\n",
              "      <td>0</td>\n",
              "      <td>0</td>\n",
              "      <td>1</td>\n",
              "      <td>0</td>\n",
              "      <td>0</td>\n",
              "      <td>0</td>\n",
              "      <td>1</td>\n",
              "      <td>0</td>\n",
              "      <td>1</td>\n",
              "      <td>0</td>\n",
              "      <td>1</td>\n",
              "      <td>0</td>\n",
              "      <td>1</td>\n",
              "      <td>0</td>\n",
              "      <td>1</td>\n",
              "      <td>1</td>\n",
              "      <td>0</td>\n",
              "      <td>0</td>\n",
              "      <td>0</td>\n",
              "    </tr>\n",
              "  </tbody>\n",
              "</table>\n",
              "<p>7032 rows × 29 columns</p>\n",
              "</div>"
            ],
            "text/plain": [
              "      tenure  ...  PaymentMethod_Mailed check\n",
              "0          1  ...                           0\n",
              "1         34  ...                           1\n",
              "2          2  ...                           1\n",
              "3         45  ...                           0\n",
              "4          2  ...                           0\n",
              "...      ...  ...                         ...\n",
              "7038      24  ...                           1\n",
              "7039      72  ...                           0\n",
              "7040      11  ...                           0\n",
              "7041       4  ...                           1\n",
              "7042      66  ...                           0\n",
              "\n",
              "[7032 rows x 29 columns]"
            ]
          },
          "metadata": {
            "tags": []
          },
          "execution_count": 81
        }
      ]
    },
    {
      "cell_type": "code",
      "metadata": {
        "id": "NqpoW_eLUZfT",
        "colab_type": "code",
        "colab": {
          "base_uri": "https://localhost:8080/",
          "height": 217
        },
        "outputId": "2b97741a-4229-482b-cfd6-e468eb490e41"
      },
      "source": [
        "y"
      ],
      "execution_count": 82,
      "outputs": [
        {
          "output_type": "execute_result",
          "data": {
            "text/plain": [
              "0       0\n",
              "1       0\n",
              "2       1\n",
              "3       0\n",
              "4       1\n",
              "       ..\n",
              "7038    0\n",
              "7039    0\n",
              "7040    0\n",
              "7041    1\n",
              "7042    0\n",
              "Name: Churn, Length: 7032, dtype: int64"
            ]
          },
          "metadata": {
            "tags": []
          },
          "execution_count": 82
        }
      ]
    },
    {
      "cell_type": "markdown",
      "metadata": {
        "id": "ofAuiDLVVML-",
        "colab_type": "text"
      },
      "source": [
        "membagi data menjadi train dan test"
      ]
    },
    {
      "cell_type": "code",
      "metadata": {
        "id": "UgHW4A_YVPkK",
        "colab_type": "code",
        "colab": {}
      },
      "source": [
        "x_train, x_test, y_train, y_test= train_test_split(x,y,stratify=y, random_state=101, test_size=0.2)"
      ],
      "execution_count": 83,
      "outputs": []
    },
    {
      "cell_type": "markdown",
      "metadata": {
        "id": "e-DKIrGCVv6c",
        "colab_type": "text"
      },
      "source": [
        "metric evaluation yang akan saya gunakan di sini adalah akurasi, dengan pertimbangan bahwa jika terlalu banyak False Negative (terdapat banyak cust yang kita duga akan setia, ternyata churn), maka cost yang terjadi adalah berkurangnya customer dan menurunnya income. Sebaliknya, jika terlalu banyak False Positive (terdapat banyak cust yang kita duga akan churn, ternyata tetap setia), maka biaya marketing yang telah dikeluarkan menjadi percuma. Untuk itu, Recall/Precision tidak begitu cocok menurut saya dalam kasus ini. (walaupun, mungkin nantinya bisa dibahas lebih lanjut dengan tim, apabila ada salah satu cost yang lebih signifikan)."
      ]
    },
    {
      "cell_type": "markdown",
      "metadata": {
        "id": "JyM4DV-EU-rL",
        "colab_type": "text"
      },
      "source": [
        "untuk percobaan awal, maka dapat menggunakan baseline modeling terlebih dahulu. saya akan menggunakan :\n",
        "1. Logistic Regression (linear)\n",
        "2. Random Forest (bagging)\n",
        "3. Gradient Boosting (boosting)"
      ]
    },
    {
      "cell_type": "markdown",
      "metadata": {
        "id": "oLGI24C4Y_M9",
        "colab_type": "text"
      },
      "source": [
        "#### LOGISTIC REGRESSION - BASELINE MODEL"
      ]
    },
    {
      "cell_type": "code",
      "metadata": {
        "id": "GmpM-BzVUZb1",
        "colab_type": "code",
        "colab": {
          "base_uri": "https://localhost:8080/",
          "height": 300
        },
        "outputId": "2958cdc3-ef4e-44a0-a9e1-913995d18b3d"
      },
      "source": [
        "logreg_base=LogisticRegression(random_state=101)\n",
        "logreg_base.fit(x_train,y_train)\n",
        "logreg_base_pred=logreg_base.predict(x_test)\n",
        "\n",
        "logreg_base_acc=accuracy_score(y_test, logreg_base_pred)\n",
        "print(classification_report(y_test,logreg_base_pred))"
      ],
      "execution_count": 88,
      "outputs": [
        {
          "output_type": "stream",
          "text": [
            "              precision    recall  f1-score   support\n",
            "\n",
            "           0       0.84      0.91      0.87      1033\n",
            "           1       0.66      0.51      0.58       374\n",
            "\n",
            "    accuracy                           0.80      1407\n",
            "   macro avg       0.75      0.71      0.72      1407\n",
            "weighted avg       0.79      0.80      0.79      1407\n",
            "\n"
          ],
          "name": "stdout"
        },
        {
          "output_type": "stream",
          "text": [
            "/usr/local/lib/python3.6/dist-packages/sklearn/linear_model/_logistic.py:940: ConvergenceWarning: lbfgs failed to converge (status=1):\n",
            "STOP: TOTAL NO. of ITERATIONS REACHED LIMIT.\n",
            "\n",
            "Increase the number of iterations (max_iter) or scale the data as shown in:\n",
            "    https://scikit-learn.org/stable/modules/preprocessing.html\n",
            "Please also refer to the documentation for alternative solver options:\n",
            "    https://scikit-learn.org/stable/modules/linear_model.html#logistic-regression\n",
            "  extra_warning_msg=_LOGISTIC_SOLVER_CONVERGENCE_MSG)\n"
          ],
          "name": "stderr"
        }
      ]
    },
    {
      "cell_type": "code",
      "metadata": {
        "id": "LzGIcFx8UZab",
        "colab_type": "code",
        "colab": {
          "base_uri": "https://localhost:8080/",
          "height": 317
        },
        "outputId": "3acaa9ce-2073-4f88-8d19-4a56dc0c4d55"
      },
      "source": [
        "#cross-checking for over/under-fitting by predicting the train data\n",
        "logreg_base.fit(x_train,y_train)\n",
        "logreg_base_pred=logreg_base.predict(x_train)\n",
        "\n",
        "print(accuracy_score(y_train, logreg_base_pred))\n",
        "print(classification_report(y_train,logreg_base_pred))"
      ],
      "execution_count": 85,
      "outputs": [
        {
          "output_type": "stream",
          "text": [
            "0.8048\n",
            "              precision    recall  f1-score   support\n",
            "\n",
            "           0       0.85      0.90      0.87      4130\n",
            "           1       0.66      0.55      0.60      1495\n",
            "\n",
            "    accuracy                           0.80      5625\n",
            "   macro avg       0.75      0.72      0.74      5625\n",
            "weighted avg       0.80      0.80      0.80      5625\n",
            "\n"
          ],
          "name": "stdout"
        },
        {
          "output_type": "stream",
          "text": [
            "/usr/local/lib/python3.6/dist-packages/sklearn/linear_model/_logistic.py:940: ConvergenceWarning: lbfgs failed to converge (status=1):\n",
            "STOP: TOTAL NO. of ITERATIONS REACHED LIMIT.\n",
            "\n",
            "Increase the number of iterations (max_iter) or scale the data as shown in:\n",
            "    https://scikit-learn.org/stable/modules/preprocessing.html\n",
            "Please also refer to the documentation for alternative solver options:\n",
            "    https://scikit-learn.org/stable/modules/linear_model.html#logistic-regression\n",
            "  extra_warning_msg=_LOGISTIC_SOLVER_CONVERGENCE_MSG)\n"
          ],
          "name": "stderr"
        }
      ]
    },
    {
      "cell_type": "markdown",
      "metadata": {
        "id": "Yx_8y-kpYijE",
        "colab_type": "text"
      },
      "source": [
        "LOGISTIC REGRESSION - BASELINE MODEL TIDAK MENGALAMI OVER/UNDERFITTING BASED ON ACCURACY SCORE"
      ]
    },
    {
      "cell_type": "markdown",
      "metadata": {
        "id": "nQaLDkY_ZIbb",
        "colab_type": "text"
      },
      "source": [
        "#### Random Forest - Baseline Model"
      ]
    },
    {
      "cell_type": "code",
      "metadata": {
        "id": "u-ddfzLCUZSe",
        "colab_type": "code",
        "colab": {
          "base_uri": "https://localhost:8080/",
          "height": 167
        },
        "outputId": "0a67239b-81d0-4537-b747-540d9a0df211"
      },
      "source": [
        "rf_base=RandomForestClassifier(random_state=101)\n",
        "rf_base.fit(x_train,y_train)\n",
        "rf_base_pred=rf_base.predict(x_test)\n",
        "\n",
        "rf_base_acc=accuracy_score(y_test, rf_base_pred)\n",
        "print(classification_report(y_test,rf_base_pred))"
      ],
      "execution_count": 86,
      "outputs": [
        {
          "output_type": "stream",
          "text": [
            "              precision    recall  f1-score   support\n",
            "\n",
            "           0       0.83      0.91      0.87      1033\n",
            "           1       0.65      0.50      0.57       374\n",
            "\n",
            "    accuracy                           0.80      1407\n",
            "   macro avg       0.74      0.70      0.72      1407\n",
            "weighted avg       0.79      0.80      0.79      1407\n",
            "\n"
          ],
          "name": "stdout"
        }
      ]
    },
    {
      "cell_type": "code",
      "metadata": {
        "id": "ZryJn1NRUZQj",
        "colab_type": "code",
        "colab": {
          "base_uri": "https://localhost:8080/",
          "height": 183
        },
        "outputId": "dbec9a62-99a1-4de8-b49d-998d43492526"
      },
      "source": [
        "#cross-checking for over/under-fitting by predicting the train data\n",
        "rf_base.fit(x_train,y_train)\n",
        "rf_base_pred=rf_base.predict(x_train)\n",
        "\n",
        "print(accuracy_score(y_train, rf_base_pred))\n",
        "print(classification_report(y_train,rf_base_pred))"
      ],
      "execution_count": 87,
      "outputs": [
        {
          "output_type": "stream",
          "text": [
            "0.9969777777777777\n",
            "              precision    recall  f1-score   support\n",
            "\n",
            "           0       1.00      1.00      1.00      4130\n",
            "           1       1.00      0.99      0.99      1495\n",
            "\n",
            "    accuracy                           1.00      5625\n",
            "   macro avg       1.00      1.00      1.00      5625\n",
            "weighted avg       1.00      1.00      1.00      5625\n",
            "\n"
          ],
          "name": "stdout"
        }
      ]
    },
    {
      "cell_type": "markdown",
      "metadata": {
        "id": "f0GZYpcPYylT",
        "colab_type": "text"
      },
      "source": [
        "RF BASELINE MODEL MENGALAMI OVERFITTING, DITUNJUKKAN DENGAN ACCURACY SCORE 0.99 TERHADAP DATA TRAIN, SEMENTARA HANYA 0.80 UNTUK DATA TEST"
      ]
    },
    {
      "cell_type": "markdown",
      "metadata": {
        "id": "gmCt2K3qZQ1k",
        "colab_type": "text"
      },
      "source": [
        "#### Gradient Boosting - Baseline Model"
      ]
    },
    {
      "cell_type": "code",
      "metadata": {
        "id": "5PBJ0xEKYxzs",
        "colab_type": "code",
        "colab": {
          "base_uri": "https://localhost:8080/",
          "height": 167
        },
        "outputId": "5d4f6ee9-853c-4fd8-fd64-ffaad35edce0"
      },
      "source": [
        "gboost_base=GradientBoostingClassifier(random_state=101)\n",
        "gboost_base.fit(x_train,y_train)\n",
        "gboost_base_pred=gboost_base.predict(x_test)\n",
        "\n",
        "gboost_base_acc=accuracy_score(y_test, gboost_base_pred)\n",
        "print(classification_report(y_test,gboost_base_pred))"
      ],
      "execution_count": 90,
      "outputs": [
        {
          "output_type": "stream",
          "text": [
            "              precision    recall  f1-score   support\n",
            "\n",
            "           0       0.84      0.92      0.88      1033\n",
            "           1       0.70      0.53      0.61       374\n",
            "\n",
            "    accuracy                           0.82      1407\n",
            "   macro avg       0.77      0.73      0.74      1407\n",
            "weighted avg       0.81      0.82      0.81      1407\n",
            "\n"
          ],
          "name": "stdout"
        }
      ]
    },
    {
      "cell_type": "code",
      "metadata": {
        "id": "QfuknSdjYx-V",
        "colab_type": "code",
        "colab": {
          "base_uri": "https://localhost:8080/",
          "height": 183
        },
        "outputId": "ec558947-a64f-437a-ca6a-2d17ada4c768"
      },
      "source": [
        "#cross-checking for over/under-fitting by predicting the train data\n",
        "gboost_base.fit(x_train,y_train)\n",
        "gboost_base_pred=gboost_base.predict(x_train)\n",
        "\n",
        "print(accuracy_score(y_train, gboost_base_pred))\n",
        "print(classification_report(y_train,gboost_base_pred))"
      ],
      "execution_count": 91,
      "outputs": [
        {
          "output_type": "stream",
          "text": [
            "0.8202666666666667\n",
            "              precision    recall  f1-score   support\n",
            "\n",
            "           0       0.85      0.91      0.88      4130\n",
            "           1       0.70      0.57      0.63      1495\n",
            "\n",
            "    accuracy                           0.82      5625\n",
            "   macro avg       0.78      0.74      0.75      5625\n",
            "weighted avg       0.81      0.82      0.81      5625\n",
            "\n"
          ],
          "name": "stdout"
        }
      ]
    },
    {
      "cell_type": "markdown",
      "metadata": {
        "id": "YQdG7BF6ZXxN",
        "colab_type": "text"
      },
      "source": [
        "GRADIENT BOOSTING - BASELINE MODEL TIDAK MENGALAMI OVERFITTING/UNDERFITTING BASED ON ACCURACY SCORE"
      ]
    },
    {
      "cell_type": "markdown",
      "metadata": {
        "id": "AHJBx8LNmL82",
        "colab_type": "text"
      },
      "source": [
        "#Q4: Perbaikan Model (30 point)\n",
        "\n",
        "## Pada question 4 ini, perbaiki model yang sudah kalian buat pada Q3 di atas.\n",
        "## Clue: Bisa dilakukan:\n",
        "##- hyperparameter tuning\n",
        "##- memasukkan hanya feature yang paling penting ke dalam model (feature importance)\n",
        "##- check imbalanced target\n",
        "##- scaling\n",
        "##- encoding\n",
        "\n",
        "#HAPPY TUNING :)"
      ]
    },
    {
      "cell_type": "code",
      "metadata": {
        "id": "yZFd3EL0m1LO",
        "colab_type": "code",
        "colab": {}
      },
      "source": [
        "# Tulis jawaban Q3 di cell ini. TIDAK TERBATAS HANYA 1 CELL SAJA. Jika kurang, silahkan tambah cell sesuai kebutuhan."
      ],
      "execution_count": null,
      "outputs": []
    },
    {
      "cell_type": "markdown",
      "metadata": {
        "id": "hbC7Iz8QcZhS",
        "colab_type": "text"
      },
      "source": [
        "### HYPERPARAMETER TUNING"
      ]
    },
    {
      "cell_type": "code",
      "metadata": {
        "id": "wDAi2ANacWy7",
        "colab_type": "code",
        "colab": {}
      },
      "source": [
        "### HYPERPARAMETER TUNING"
      ],
      "execution_count": null,
      "outputs": []
    },
    {
      "cell_type": "markdown",
      "metadata": {
        "id": "RSwhEd4ZZ0ck",
        "colab_type": "text"
      },
      "source": [
        "#### Logistic Regression - Tuning"
      ]
    },
    {
      "cell_type": "code",
      "metadata": {
        "id": "dziclofkZ2Pd",
        "colab_type": "code",
        "colab": {
          "base_uri": "https://localhost:8080/",
          "height": 33
        },
        "outputId": "5cd2821d-dea5-4d3b-f38c-e03df8fad017"
      },
      "source": [
        "param={\"penalty\":[\"l1\",\"l2\"],\n",
        "       \"max_iter\":[3000,5000],\n",
        "       \"solver\": ['newton-cg', 'lbfgs', 'sag', 'saga']\n",
        "                        }\n",
        "\n",
        "gridsearch= GridSearchCV(estimator=logreg_base,\n",
        "                        param_grid=param,\n",
        "                         scoring=\"accuracy\",\n",
        "                         cv=5,\n",
        "                         n_jobs=-1\n",
        "                        )\n",
        "\n",
        "gridsearch.fit(x_train,y_train)\n",
        "\n",
        "gridsearch.best_params_"
      ],
      "execution_count": 92,
      "outputs": [
        {
          "output_type": "execute_result",
          "data": {
            "text/plain": [
              "{'max_iter': 3000, 'penalty': 'l1', 'solver': 'saga'}"
            ]
          },
          "metadata": {
            "tags": []
          },
          "execution_count": 92
        }
      ]
    },
    {
      "cell_type": "code",
      "metadata": {
        "id": "HneQOdg-aFK5",
        "colab_type": "code",
        "colab": {
          "base_uri": "https://localhost:8080/",
          "height": 167
        },
        "outputId": "eaa125a1-9d71-45d6-f3d3-13e699d1b83e"
      },
      "source": [
        "logreg_tuned=LogisticRegression(max_iter=3000,solver=\"saga\",penalty=\"l1\",random_state=101)\n",
        "logreg_tuned.fit(x_train,y_train)\n",
        "logreg_tuned_pred=logreg_tuned.predict(x_test)\n",
        "\n",
        "logreg_tuned_acc=accuracy_score(y_test, logreg_tuned_pred)\n",
        "print(classification_report(y_test,logreg_tuned_pred))"
      ],
      "execution_count": 93,
      "outputs": [
        {
          "output_type": "stream",
          "text": [
            "              precision    recall  f1-score   support\n",
            "\n",
            "           0       0.84      0.91      0.87      1033\n",
            "           1       0.66      0.51      0.57       374\n",
            "\n",
            "    accuracy                           0.80      1407\n",
            "   macro avg       0.75      0.71      0.72      1407\n",
            "weighted avg       0.79      0.80      0.79      1407\n",
            "\n"
          ],
          "name": "stdout"
        }
      ]
    },
    {
      "cell_type": "code",
      "metadata": {
        "id": "5X9fEKlyaGDe",
        "colab_type": "code",
        "colab": {
          "base_uri": "https://localhost:8080/",
          "height": 183
        },
        "outputId": "880248a7-490f-4525-c54d-f856b580f122"
      },
      "source": [
        "logreg_tuned.fit(x_train,y_train)\n",
        "logreg_tuned_pred=logreg_tuned.predict(x_train)\n",
        "\n",
        "print(accuracy_score(y_train, logreg_tuned_pred))\n",
        "print(classification_report(y_train,logreg_tuned_pred))"
      ],
      "execution_count": 94,
      "outputs": [
        {
          "output_type": "stream",
          "text": [
            "0.8044444444444444\n",
            "              precision    recall  f1-score   support\n",
            "\n",
            "           0       0.85      0.90      0.87      4130\n",
            "           1       0.66      0.55      0.60      1495\n",
            "\n",
            "    accuracy                           0.80      5625\n",
            "   macro avg       0.75      0.72      0.74      5625\n",
            "weighted avg       0.80      0.80      0.80      5625\n",
            "\n"
          ],
          "name": "stdout"
        }
      ]
    },
    {
      "cell_type": "markdown",
      "metadata": {
        "id": "pp0nwmk2a2bB",
        "colab_type": "text"
      },
      "source": [
        "LOGISTIC REGRESSION - TUNED TIDAK OVER/UNDERFITTING, NAMUN JUGA TIDAK LEBIH BAIK DARIIPADA BASELINE MODEL DARI SISI AKURASI (TETAP 0.80). NAMUN, DI BASELINE MODEL, LOGREG BELUM KONVERGEN, SEHINGGA UNTUK SELANJUTNYA DAPAT MENGGUNAKAN LOGREG HASIL TUNING INI."
      ]
    },
    {
      "cell_type": "markdown",
      "metadata": {
        "id": "SYjFJfmuZsrl",
        "colab_type": "text"
      },
      "source": [
        "#### Random Forest - Tuning\n",
        "\n"
      ]
    },
    {
      "cell_type": "code",
      "metadata": {
        "id": "nfV4u5FAm3Iz",
        "colab_type": "code",
        "colab": {
          "base_uri": "https://localhost:8080/",
          "height": 100
        },
        "outputId": "d11975bb-f332-442e-c944-9876b732113c"
      },
      "source": [
        "param={\"max_depth\":[int(x) for x in np.linspace(start=1, stop=30, num=5)],\n",
        "       \"n_estimators\":[int(x) for x in np.linspace(start=1, stop=200, num=5)]\n",
        "      }\n",
        "\n",
        "randomsearch=RandomizedSearchCV(estimator=rf_base,\n",
        "                             param_distributions=param,\n",
        "                             cv=5,\n",
        "                             scoring=\"accuracy\", \n",
        "                              verbose=1,\n",
        "                             n_jobs=-1)\n",
        "\n",
        "randomsearch.fit(x_train,y_train)\n",
        "\n",
        "randomsearch.best_params_"
      ],
      "execution_count": 95,
      "outputs": [
        {
          "output_type": "stream",
          "text": [
            "Fitting 5 folds for each of 10 candidates, totalling 50 fits\n"
          ],
          "name": "stdout"
        },
        {
          "output_type": "stream",
          "text": [
            "[Parallel(n_jobs=-1)]: Using backend LokyBackend with 2 concurrent workers.\n",
            "[Parallel(n_jobs=-1)]: Done  46 tasks      | elapsed:   14.6s\n",
            "[Parallel(n_jobs=-1)]: Done  50 out of  50 | elapsed:   14.7s finished\n"
          ],
          "name": "stderr"
        },
        {
          "output_type": "execute_result",
          "data": {
            "text/plain": [
              "{'max_depth': 8, 'n_estimators': 150}"
            ]
          },
          "metadata": {
            "tags": []
          },
          "execution_count": 95
        }
      ]
    },
    {
      "cell_type": "code",
      "metadata": {
        "id": "SB6ucdCDbXHL",
        "colab_type": "code",
        "colab": {
          "base_uri": "https://localhost:8080/",
          "height": 167
        },
        "outputId": "1d97b057-935a-4578-b6bb-6d94b8b57600"
      },
      "source": [
        "rf_tuned=RandomForestClassifier(max_depth=8, n_estimators=150, random_state=101)\n",
        "rf_tuned.fit(x_train,y_train)\n",
        "rf_tuned_pred=rf_tuned.predict(x_test)\n",
        "\n",
        "rf_tuned_acc=accuracy_score(y_test, rf_tuned_pred)\n",
        "print(classification_report(y_test,rf_tuned_pred))"
      ],
      "execution_count": 96,
      "outputs": [
        {
          "output_type": "stream",
          "text": [
            "              precision    recall  f1-score   support\n",
            "\n",
            "           0       0.83      0.93      0.88      1033\n",
            "           1       0.72      0.47      0.57       374\n",
            "\n",
            "    accuracy                           0.81      1407\n",
            "   macro avg       0.77      0.70      0.72      1407\n",
            "weighted avg       0.80      0.81      0.80      1407\n",
            "\n"
          ],
          "name": "stdout"
        }
      ]
    },
    {
      "cell_type": "code",
      "metadata": {
        "id": "9XT8nWM-bajO",
        "colab_type": "code",
        "colab": {
          "base_uri": "https://localhost:8080/",
          "height": 183
        },
        "outputId": "d4d50553-322a-4ab5-893d-7940bee0aeaa"
      },
      "source": [
        "#cross-checking for over/under-fitting by predicting the train data\n",
        "rf_tuned.fit(x_train,y_train)\n",
        "rf_tuned_pred=rf_tuned.predict(x_train)\n",
        "\n",
        "print(accuracy_score(y_train, rf_tuned_pred))\n",
        "print(classification_report(y_train,rf_tuned_pred))"
      ],
      "execution_count": 97,
      "outputs": [
        {
          "output_type": "stream",
          "text": [
            "0.8232888888888888\n",
            "              precision    recall  f1-score   support\n",
            "\n",
            "           0       0.85      0.93      0.88      4130\n",
            "           1       0.72      0.54      0.62      1495\n",
            "\n",
            "    accuracy                           0.82      5625\n",
            "   macro avg       0.79      0.73      0.75      5625\n",
            "weighted avg       0.81      0.82      0.81      5625\n",
            "\n"
          ],
          "name": "stdout"
        }
      ]
    },
    {
      "cell_type": "markdown",
      "metadata": {
        "id": "AaU02Rs-bgck",
        "colab_type": "text"
      },
      "source": [
        "RF - TUNED MENDAPATKAN HASIL YANG LEBIH BAIK DARIPADA BASELINE MODEL YANG MENGALAMI OVERFITTING. AKURASINYA PUN CUKUP BAIK 0.81 TERHADAP DATA TEST/0.82 TERHADAP DATA TRAIN"
      ]
    },
    {
      "cell_type": "markdown",
      "metadata": {
        "id": "yRvaKw35b0fn",
        "colab_type": "text"
      },
      "source": [
        "#### Gradient Boosting - Tuning"
      ]
    },
    {
      "cell_type": "code",
      "metadata": {
        "id": "zOiojelubfAn",
        "colab_type": "code",
        "colab": {
          "base_uri": "https://localhost:8080/",
          "height": 100
        },
        "outputId": "63fb270c-6b38-4cc4-9dd1-19a68d985789"
      },
      "source": [
        "param={\"learning_rate\":[int(x) for x in np.linspace(start=0.01, stop=1, num=3)],\n",
        "       \"n_estimators\":[int(x) for x in np.linspace(start=100, stop=1000, num=3)],\n",
        "       \"max_depth\":[int(x) for x in np.linspace(start=1, stop=30, num=3)]}\n",
        "\n",
        "randomsearch=RandomizedSearchCV(estimator=gboost_base,\n",
        "                             param_distributions=param,\n",
        "                             cv=5,\n",
        "                             scoring=\"accuracy\", \n",
        "                              verbose=1,\n",
        "                             n_jobs=-1)\n",
        "\n",
        "randomsearch.fit(x_train,y_train)\n",
        "\n",
        "randomsearch.best_params_"
      ],
      "execution_count": 99,
      "outputs": [
        {
          "output_type": "stream",
          "text": [
            "Fitting 5 folds for each of 10 candidates, totalling 50 fits\n"
          ],
          "name": "stdout"
        },
        {
          "output_type": "stream",
          "text": [
            "[Parallel(n_jobs=-1)]: Using backend LokyBackend with 2 concurrent workers.\n",
            "[Parallel(n_jobs=-1)]: Done  46 tasks      | elapsed:  1.8min\n",
            "[Parallel(n_jobs=-1)]: Done  50 out of  50 | elapsed:  2.1min finished\n"
          ],
          "name": "stderr"
        },
        {
          "output_type": "execute_result",
          "data": {
            "text/plain": [
              "{'learning_rate': 1, 'max_depth': 1, 'n_estimators': 550}"
            ]
          },
          "metadata": {
            "tags": []
          },
          "execution_count": 99
        }
      ]
    },
    {
      "cell_type": "code",
      "metadata": {
        "id": "75uXPNkWcL9V",
        "colab_type": "code",
        "colab": {
          "base_uri": "https://localhost:8080/",
          "height": 167
        },
        "outputId": "a67c0f7b-72a8-466d-d39e-1348e9526d5b"
      },
      "source": [
        "gboost_tuned=GradientBoostingClassifier(n_estimators=550, learning_rate=1, max_depth=1, random_state=101)\n",
        "gboost_tuned.fit(x_train,y_train)\n",
        "gboost_tuned_pred=gboost_tuned.predict(x_test)\n",
        "\n",
        "gboost_tuned_acc=accuracy_score(y_test, gboost_tuned_pred)\n",
        "print(classification_report(y_test,gboost_tuned_pred))"
      ],
      "execution_count": 100,
      "outputs": [
        {
          "output_type": "stream",
          "text": [
            "              precision    recall  f1-score   support\n",
            "\n",
            "           0       0.84      0.91      0.87      1033\n",
            "           1       0.66      0.51      0.57       374\n",
            "\n",
            "    accuracy                           0.80      1407\n",
            "   macro avg       0.75      0.71      0.72      1407\n",
            "weighted avg       0.79      0.80      0.79      1407\n",
            "\n"
          ],
          "name": "stdout"
        }
      ]
    },
    {
      "cell_type": "code",
      "metadata": {
        "id": "4KnKi1CZcQLh",
        "colab_type": "code",
        "colab": {
          "base_uri": "https://localhost:8080/",
          "height": 183
        },
        "outputId": "ce2b66c7-e85d-473e-8d93-67ed35755457"
      },
      "source": [
        "#cross-checking for over/under-fitting by predicting the train data\n",
        "gboost_tuned.fit(x_train,y_train)\n",
        "gboost_tuned_pred=gboost_tuned.predict(x_train)\n",
        "\n",
        "print(accuracy_score(y_train, gboost_tuned_pred))\n",
        "print(classification_report(y_train,gboost_tuned_pred))"
      ],
      "execution_count": 101,
      "outputs": [
        {
          "output_type": "stream",
          "text": [
            "0.8096\n",
            "              precision    recall  f1-score   support\n",
            "\n",
            "           0       0.85      0.91      0.87      4130\n",
            "           1       0.68      0.55      0.60      1495\n",
            "\n",
            "    accuracy                           0.81      5625\n",
            "   macro avg       0.76      0.73      0.74      5625\n",
            "weighted avg       0.80      0.81      0.80      5625\n",
            "\n"
          ],
          "name": "stdout"
        }
      ]
    },
    {
      "cell_type": "markdown",
      "metadata": {
        "id": "CtSCgzx0feSa",
        "colab_type": "text"
      },
      "source": [
        "UNTUK GRADIENT BOOSTING JUGA TIDAK MENGALAMI OVER/UNDER FITTING SETELAH TUNING, NAMUN AKURASINYA MENURUN DIBANDINGKAN MENGGUNAKAN BASELINE MODEL"
      ]
    },
    {
      "cell_type": "markdown",
      "metadata": {
        "id": "lkSmtummd2U4",
        "colab_type": "text"
      },
      "source": [
        "### Feature Importance"
      ]
    },
    {
      "cell_type": "markdown",
      "metadata": {
        "id": "h0Z8U0EFheq8",
        "colab_type": "text"
      },
      "source": [
        "#### Random Forest - FI"
      ]
    },
    {
      "cell_type": "code",
      "metadata": {
        "id": "VRNchyjDf74d",
        "colab_type": "code",
        "colab": {
          "base_uri": "https://localhost:8080/",
          "height": 917
        },
        "outputId": "f8df5e9e-25c0-416f-a68c-ce85e567a4bf"
      },
      "source": [
        "rf_features=pd.concat([pd.DataFrame(rf_tuned.feature_importances_),pd.DataFrame(x_train.columns)], axis=1)\n",
        "rf_features.columns=[\"Weight\",\"Feature\"]\n",
        "rf_features.sort_values(by=\"Weight\", ascending=False)"
      ],
      "execution_count": 105,
      "outputs": [
        {
          "output_type": "execute_result",
          "data": {
            "text/html": [
              "<div>\n",
              "<style scoped>\n",
              "    .dataframe tbody tr th:only-of-type {\n",
              "        vertical-align: middle;\n",
              "    }\n",
              "\n",
              "    .dataframe tbody tr th {\n",
              "        vertical-align: top;\n",
              "    }\n",
              "\n",
              "    .dataframe thead th {\n",
              "        text-align: right;\n",
              "    }\n",
              "</style>\n",
              "<table border=\"1\" class=\"dataframe\">\n",
              "  <thead>\n",
              "    <tr style=\"text-align: right;\">\n",
              "      <th></th>\n",
              "      <th>Weight</th>\n",
              "      <th>Feature</th>\n",
              "    </tr>\n",
              "  </thead>\n",
              "  <tbody>\n",
              "    <tr>\n",
              "      <th>0</th>\n",
              "      <td>0.283032</td>\n",
              "      <td>tenure</td>\n",
              "    </tr>\n",
              "    <tr>\n",
              "      <th>1</th>\n",
              "      <td>0.109800</td>\n",
              "      <td>MonthlyCharges</td>\n",
              "    </tr>\n",
              "    <tr>\n",
              "      <th>9</th>\n",
              "      <td>0.102674</td>\n",
              "      <td>InternetService_Fiber optic</td>\n",
              "    </tr>\n",
              "    <tr>\n",
              "      <th>24</th>\n",
              "      <td>0.083553</td>\n",
              "      <td>Contract_Two year</td>\n",
              "    </tr>\n",
              "    <tr>\n",
              "      <th>27</th>\n",
              "      <td>0.067520</td>\n",
              "      <td>PaymentMethod_Electronic check</td>\n",
              "    </tr>\n",
              "    <tr>\n",
              "      <th>23</th>\n",
              "      <td>0.045157</td>\n",
              "      <td>Contract_One year</td>\n",
              "    </tr>\n",
              "    <tr>\n",
              "      <th>12</th>\n",
              "      <td>0.039578</td>\n",
              "      <td>OnlineSecurity_Yes</td>\n",
              "    </tr>\n",
              "    <tr>\n",
              "      <th>18</th>\n",
              "      <td>0.035661</td>\n",
              "      <td>TechSupport_Yes</td>\n",
              "    </tr>\n",
              "    <tr>\n",
              "      <th>17</th>\n",
              "      <td>0.017690</td>\n",
              "      <td>TechSupport_No internet service</td>\n",
              "    </tr>\n",
              "    <tr>\n",
              "      <th>25</th>\n",
              "      <td>0.017050</td>\n",
              "      <td>PaperlessBilling_Yes</td>\n",
              "    </tr>\n",
              "    <tr>\n",
              "      <th>14</th>\n",
              "      <td>0.016968</td>\n",
              "      <td>OnlineBackup_Yes</td>\n",
              "    </tr>\n",
              "    <tr>\n",
              "      <th>13</th>\n",
              "      <td>0.015822</td>\n",
              "      <td>OnlineBackup_No internet service</td>\n",
              "    </tr>\n",
              "    <tr>\n",
              "      <th>11</th>\n",
              "      <td>0.013740</td>\n",
              "      <td>OnlineSecurity_No internet service</td>\n",
              "    </tr>\n",
              "    <tr>\n",
              "      <th>4</th>\n",
              "      <td>0.012987</td>\n",
              "      <td>Partner_Yes</td>\n",
              "    </tr>\n",
              "    <tr>\n",
              "      <th>5</th>\n",
              "      <td>0.012935</td>\n",
              "      <td>Dependents_Yes</td>\n",
              "    </tr>\n",
              "    <tr>\n",
              "      <th>3</th>\n",
              "      <td>0.012221</td>\n",
              "      <td>SeniorCitizen_1</td>\n",
              "    </tr>\n",
              "    <tr>\n",
              "      <th>15</th>\n",
              "      <td>0.011641</td>\n",
              "      <td>DeviceProtection_No internet service</td>\n",
              "    </tr>\n",
              "    <tr>\n",
              "      <th>10</th>\n",
              "      <td>0.011237</td>\n",
              "      <td>InternetService_No</td>\n",
              "    </tr>\n",
              "    <tr>\n",
              "      <th>21</th>\n",
              "      <td>0.010922</td>\n",
              "      <td>StreamingMovies_No internet service</td>\n",
              "    </tr>\n",
              "    <tr>\n",
              "      <th>26</th>\n",
              "      <td>0.009855</td>\n",
              "      <td>PaymentMethod_Credit card (automatic)</td>\n",
              "    </tr>\n",
              "    <tr>\n",
              "      <th>16</th>\n",
              "      <td>0.009651</td>\n",
              "      <td>DeviceProtection_Yes</td>\n",
              "    </tr>\n",
              "    <tr>\n",
              "      <th>8</th>\n",
              "      <td>0.009629</td>\n",
              "      <td>MultipleLines_Yes</td>\n",
              "    </tr>\n",
              "    <tr>\n",
              "      <th>2</th>\n",
              "      <td>0.009564</td>\n",
              "      <td>gender_Male</td>\n",
              "    </tr>\n",
              "    <tr>\n",
              "      <th>22</th>\n",
              "      <td>0.008816</td>\n",
              "      <td>StreamingMovies_Yes</td>\n",
              "    </tr>\n",
              "    <tr>\n",
              "      <th>20</th>\n",
              "      <td>0.008699</td>\n",
              "      <td>StreamingTV_Yes</td>\n",
              "    </tr>\n",
              "    <tr>\n",
              "      <th>19</th>\n",
              "      <td>0.008521</td>\n",
              "      <td>StreamingTV_No internet service</td>\n",
              "    </tr>\n",
              "    <tr>\n",
              "      <th>28</th>\n",
              "      <td>0.007323</td>\n",
              "      <td>PaymentMethod_Mailed check</td>\n",
              "    </tr>\n",
              "    <tr>\n",
              "      <th>6</th>\n",
              "      <td>0.003989</td>\n",
              "      <td>PhoneService_Yes</td>\n",
              "    </tr>\n",
              "    <tr>\n",
              "      <th>7</th>\n",
              "      <td>0.003768</td>\n",
              "      <td>MultipleLines_No phone service</td>\n",
              "    </tr>\n",
              "  </tbody>\n",
              "</table>\n",
              "</div>"
            ],
            "text/plain": [
              "      Weight                                Feature\n",
              "0   0.283032                                 tenure\n",
              "1   0.109800                         MonthlyCharges\n",
              "9   0.102674            InternetService_Fiber optic\n",
              "24  0.083553                      Contract_Two year\n",
              "27  0.067520         PaymentMethod_Electronic check\n",
              "23  0.045157                      Contract_One year\n",
              "12  0.039578                     OnlineSecurity_Yes\n",
              "18  0.035661                        TechSupport_Yes\n",
              "17  0.017690        TechSupport_No internet service\n",
              "25  0.017050                   PaperlessBilling_Yes\n",
              "14  0.016968                       OnlineBackup_Yes\n",
              "13  0.015822       OnlineBackup_No internet service\n",
              "11  0.013740     OnlineSecurity_No internet service\n",
              "4   0.012987                            Partner_Yes\n",
              "5   0.012935                         Dependents_Yes\n",
              "3   0.012221                        SeniorCitizen_1\n",
              "15  0.011641   DeviceProtection_No internet service\n",
              "10  0.011237                     InternetService_No\n",
              "21  0.010922    StreamingMovies_No internet service\n",
              "26  0.009855  PaymentMethod_Credit card (automatic)\n",
              "16  0.009651                   DeviceProtection_Yes\n",
              "8   0.009629                      MultipleLines_Yes\n",
              "2   0.009564                            gender_Male\n",
              "22  0.008816                    StreamingMovies_Yes\n",
              "20  0.008699                        StreamingTV_Yes\n",
              "19  0.008521        StreamingTV_No internet service\n",
              "28  0.007323             PaymentMethod_Mailed check\n",
              "6   0.003989                       PhoneService_Yes\n",
              "7   0.003768         MultipleLines_No phone service"
            ]
          },
          "metadata": {
            "tags": []
          },
          "execution_count": 105
        }
      ]
    },
    {
      "cell_type": "markdown",
      "metadata": {
        "id": "JLgVccqagVZy",
        "colab_type": "text"
      },
      "source": [
        "saya akan mencoba untuk hanya menggunakan 10 fitur dari 29 fitur yang ada berdasarkan FI-nya"
      ]
    },
    {
      "cell_type": "code",
      "metadata": {
        "id": "ElDV9pE5gayl",
        "colab_type": "code",
        "colab": {
          "base_uri": "https://localhost:8080/",
          "height": 70
        },
        "outputId": "c73427b0-6da0-493f-d778-72442b904a55"
      },
      "source": [
        "rf_fi=[]\n",
        "\n",
        "for i in (rf_features.sort_values(by=\"Weight\", ascending=False).head(10)[\"Feature\"]):\n",
        "    rf_fi.append(i)\n",
        "\n",
        "print(rf_fi)\n",
        "len(rf_fi)"
      ],
      "execution_count": 107,
      "outputs": [
        {
          "output_type": "stream",
          "text": [
            "['tenure', 'MonthlyCharges', 'InternetService_Fiber optic', 'Contract_Two year', 'PaymentMethod_Electronic check', 'Contract_One year', 'OnlineSecurity_Yes', 'TechSupport_Yes', 'TechSupport_No internet service', 'PaperlessBilling_Yes']\n"
          ],
          "name": "stdout"
        },
        {
          "output_type": "execute_result",
          "data": {
            "text/plain": [
              "10"
            ]
          },
          "metadata": {
            "tags": []
          },
          "execution_count": 107
        }
      ]
    },
    {
      "cell_type": "code",
      "metadata": {
        "id": "wWbzYPTzgweJ",
        "colab_type": "code",
        "colab": {}
      },
      "source": [
        "x_train_rffi=x_train[rf_fi]\n",
        "x_test_rffi=x_test[rf_fi]"
      ],
      "execution_count": 108,
      "outputs": []
    },
    {
      "cell_type": "code",
      "metadata": {
        "colab_type": "code",
        "id": "ep0uzbSCg91g",
        "colab": {
          "base_uri": "https://localhost:8080/",
          "height": 167
        },
        "outputId": "456a34f7-30e3-401f-b0e9-c3e44507a814"
      },
      "source": [
        "rf_tuned=RandomForestClassifier(max_depth=8, n_estimators=150, random_state=101)\n",
        "rf_tuned.fit(x_train_rffi,y_train)\n",
        "rf_tuned_pred=rf_tuned.predict(x_test_rffi)\n",
        "\n",
        "rf_fi_acc=accuracy_score(y_test, rf_tuned_pred)\n",
        "print(classification_report(y_test,rf_tuned_pred))"
      ],
      "execution_count": 109,
      "outputs": [
        {
          "output_type": "stream",
          "text": [
            "              precision    recall  f1-score   support\n",
            "\n",
            "           0       0.83      0.92      0.87      1033\n",
            "           1       0.68      0.49      0.57       374\n",
            "\n",
            "    accuracy                           0.80      1407\n",
            "   macro avg       0.76      0.71      0.72      1407\n",
            "weighted avg       0.79      0.80      0.79      1407\n",
            "\n"
          ],
          "name": "stdout"
        }
      ]
    },
    {
      "cell_type": "code",
      "metadata": {
        "colab_type": "code",
        "id": "ua2tXvRGg91j",
        "colab": {
          "base_uri": "https://localhost:8080/",
          "height": 183
        },
        "outputId": "af7e6daa-4e80-4c86-940a-77f51bc91d22"
      },
      "source": [
        "#cross-checking for over/under-fitting by predicting the train data\n",
        "rf_tuned.fit(x_train_rffi,y_train)\n",
        "rf_tuned_pred=rf_tuned.predict(x_train_rffi)\n",
        "\n",
        "print(accuracy_score(y_train, rf_tuned_pred))\n",
        "print(classification_report(y_train,rf_tuned_pred))"
      ],
      "execution_count": 112,
      "outputs": [
        {
          "output_type": "stream",
          "text": [
            "0.8252444444444444\n",
            "              precision    recall  f1-score   support\n",
            "\n",
            "           0       0.86      0.91      0.88      4130\n",
            "           1       0.71      0.58      0.64      1495\n",
            "\n",
            "    accuracy                           0.83      5625\n",
            "   macro avg       0.78      0.75      0.76      5625\n",
            "weighted avg       0.82      0.83      0.82      5625\n",
            "\n"
          ],
          "name": "stdout"
        }
      ]
    },
    {
      "cell_type": "markdown",
      "metadata": {
        "id": "WEK7E0mphPqV",
        "colab_type": "text"
      },
      "source": [
        "RF menjadi lebih overfitting daripada tanpa pertimbangan FI, walaupun masih cukup baik"
      ]
    },
    {
      "cell_type": "markdown",
      "metadata": {
        "id": "ogCjDzDRhhtp",
        "colab_type": "text"
      },
      "source": [
        "#### Gradient Boosting - FI"
      ]
    },
    {
      "cell_type": "code",
      "metadata": {
        "id": "rJRQNqGhgvPF",
        "colab_type": "code",
        "colab": {
          "base_uri": "https://localhost:8080/",
          "height": 917
        },
        "outputId": "2ed05595-a7de-447b-88df-b1b5ff1c02e7"
      },
      "source": [
        "gboost_features=pd.concat([pd.DataFrame(gboost_base.feature_importances_),pd.DataFrame(x_train.columns)], axis=1)\n",
        "gboost_features.columns=[\"Weight\",\"Feature\"]\n",
        "gboost_features.sort_values(by=\"Weight\", ascending=False)"
      ],
      "execution_count": 113,
      "outputs": [
        {
          "output_type": "execute_result",
          "data": {
            "text/html": [
              "<div>\n",
              "<style scoped>\n",
              "    .dataframe tbody tr th:only-of-type {\n",
              "        vertical-align: middle;\n",
              "    }\n",
              "\n",
              "    .dataframe tbody tr th {\n",
              "        vertical-align: top;\n",
              "    }\n",
              "\n",
              "    .dataframe thead th {\n",
              "        text-align: right;\n",
              "    }\n",
              "</style>\n",
              "<table border=\"1\" class=\"dataframe\">\n",
              "  <thead>\n",
              "    <tr style=\"text-align: right;\">\n",
              "      <th></th>\n",
              "      <th>Weight</th>\n",
              "      <th>Feature</th>\n",
              "    </tr>\n",
              "  </thead>\n",
              "  <tbody>\n",
              "    <tr>\n",
              "      <th>0</th>\n",
              "      <td>0.381467</td>\n",
              "      <td>tenure</td>\n",
              "    </tr>\n",
              "    <tr>\n",
              "      <th>9</th>\n",
              "      <td>0.219309</td>\n",
              "      <td>InternetService_Fiber optic</td>\n",
              "    </tr>\n",
              "    <tr>\n",
              "      <th>1</th>\n",
              "      <td>0.101876</td>\n",
              "      <td>MonthlyCharges</td>\n",
              "    </tr>\n",
              "    <tr>\n",
              "      <th>27</th>\n",
              "      <td>0.087255</td>\n",
              "      <td>PaymentMethod_Electronic check</td>\n",
              "    </tr>\n",
              "    <tr>\n",
              "      <th>24</th>\n",
              "      <td>0.049789</td>\n",
              "      <td>Contract_Two year</td>\n",
              "    </tr>\n",
              "    <tr>\n",
              "      <th>23</th>\n",
              "      <td>0.043251</td>\n",
              "      <td>Contract_One year</td>\n",
              "    </tr>\n",
              "    <tr>\n",
              "      <th>18</th>\n",
              "      <td>0.018760</td>\n",
              "      <td>TechSupport_Yes</td>\n",
              "    </tr>\n",
              "    <tr>\n",
              "      <th>21</th>\n",
              "      <td>0.018300</td>\n",
              "      <td>StreamingMovies_No internet service</td>\n",
              "    </tr>\n",
              "    <tr>\n",
              "      <th>25</th>\n",
              "      <td>0.015602</td>\n",
              "      <td>PaperlessBilling_Yes</td>\n",
              "    </tr>\n",
              "    <tr>\n",
              "      <th>12</th>\n",
              "      <td>0.014609</td>\n",
              "      <td>OnlineSecurity_Yes</td>\n",
              "    </tr>\n",
              "    <tr>\n",
              "      <th>3</th>\n",
              "      <td>0.008806</td>\n",
              "      <td>SeniorCitizen_1</td>\n",
              "    </tr>\n",
              "    <tr>\n",
              "      <th>20</th>\n",
              "      <td>0.006327</td>\n",
              "      <td>StreamingTV_Yes</td>\n",
              "    </tr>\n",
              "    <tr>\n",
              "      <th>22</th>\n",
              "      <td>0.006259</td>\n",
              "      <td>StreamingMovies_Yes</td>\n",
              "    </tr>\n",
              "    <tr>\n",
              "      <th>19</th>\n",
              "      <td>0.005410</td>\n",
              "      <td>StreamingTV_No internet service</td>\n",
              "    </tr>\n",
              "    <tr>\n",
              "      <th>7</th>\n",
              "      <td>0.004466</td>\n",
              "      <td>MultipleLines_No phone service</td>\n",
              "    </tr>\n",
              "    <tr>\n",
              "      <th>8</th>\n",
              "      <td>0.002502</td>\n",
              "      <td>MultipleLines_Yes</td>\n",
              "    </tr>\n",
              "    <tr>\n",
              "      <th>6</th>\n",
              "      <td>0.002433</td>\n",
              "      <td>PhoneService_Yes</td>\n",
              "    </tr>\n",
              "    <tr>\n",
              "      <th>14</th>\n",
              "      <td>0.002315</td>\n",
              "      <td>OnlineBackup_Yes</td>\n",
              "    </tr>\n",
              "    <tr>\n",
              "      <th>5</th>\n",
              "      <td>0.002245</td>\n",
              "      <td>Dependents_Yes</td>\n",
              "    </tr>\n",
              "    <tr>\n",
              "      <th>16</th>\n",
              "      <td>0.001933</td>\n",
              "      <td>DeviceProtection_Yes</td>\n",
              "    </tr>\n",
              "    <tr>\n",
              "      <th>13</th>\n",
              "      <td>0.001576</td>\n",
              "      <td>OnlineBackup_No internet service</td>\n",
              "    </tr>\n",
              "    <tr>\n",
              "      <th>2</th>\n",
              "      <td>0.001301</td>\n",
              "      <td>gender_Male</td>\n",
              "    </tr>\n",
              "    <tr>\n",
              "      <th>11</th>\n",
              "      <td>0.001244</td>\n",
              "      <td>OnlineSecurity_No internet service</td>\n",
              "    </tr>\n",
              "    <tr>\n",
              "      <th>17</th>\n",
              "      <td>0.000945</td>\n",
              "      <td>TechSupport_No internet service</td>\n",
              "    </tr>\n",
              "    <tr>\n",
              "      <th>4</th>\n",
              "      <td>0.000822</td>\n",
              "      <td>Partner_Yes</td>\n",
              "    </tr>\n",
              "    <tr>\n",
              "      <th>26</th>\n",
              "      <td>0.000776</td>\n",
              "      <td>PaymentMethod_Credit card (automatic)</td>\n",
              "    </tr>\n",
              "    <tr>\n",
              "      <th>28</th>\n",
              "      <td>0.000423</td>\n",
              "      <td>PaymentMethod_Mailed check</td>\n",
              "    </tr>\n",
              "    <tr>\n",
              "      <th>15</th>\n",
              "      <td>0.000000</td>\n",
              "      <td>DeviceProtection_No internet service</td>\n",
              "    </tr>\n",
              "    <tr>\n",
              "      <th>10</th>\n",
              "      <td>0.000000</td>\n",
              "      <td>InternetService_No</td>\n",
              "    </tr>\n",
              "  </tbody>\n",
              "</table>\n",
              "</div>"
            ],
            "text/plain": [
              "      Weight                                Feature\n",
              "0   0.381467                                 tenure\n",
              "9   0.219309            InternetService_Fiber optic\n",
              "1   0.101876                         MonthlyCharges\n",
              "27  0.087255         PaymentMethod_Electronic check\n",
              "24  0.049789                      Contract_Two year\n",
              "23  0.043251                      Contract_One year\n",
              "18  0.018760                        TechSupport_Yes\n",
              "21  0.018300    StreamingMovies_No internet service\n",
              "25  0.015602                   PaperlessBilling_Yes\n",
              "12  0.014609                     OnlineSecurity_Yes\n",
              "3   0.008806                        SeniorCitizen_1\n",
              "20  0.006327                        StreamingTV_Yes\n",
              "22  0.006259                    StreamingMovies_Yes\n",
              "19  0.005410        StreamingTV_No internet service\n",
              "7   0.004466         MultipleLines_No phone service\n",
              "8   0.002502                      MultipleLines_Yes\n",
              "6   0.002433                       PhoneService_Yes\n",
              "14  0.002315                       OnlineBackup_Yes\n",
              "5   0.002245                         Dependents_Yes\n",
              "16  0.001933                   DeviceProtection_Yes\n",
              "13  0.001576       OnlineBackup_No internet service\n",
              "2   0.001301                            gender_Male\n",
              "11  0.001244     OnlineSecurity_No internet service\n",
              "17  0.000945        TechSupport_No internet service\n",
              "4   0.000822                            Partner_Yes\n",
              "26  0.000776  PaymentMethod_Credit card (automatic)\n",
              "28  0.000423             PaymentMethod_Mailed check\n",
              "15  0.000000   DeviceProtection_No internet service\n",
              "10  0.000000                     InternetService_No"
            ]
          },
          "metadata": {
            "tags": []
          },
          "execution_count": 113
        }
      ]
    },
    {
      "cell_type": "code",
      "metadata": {
        "id": "yG_yL0JJhw10",
        "colab_type": "code",
        "colab": {
          "base_uri": "https://localhost:8080/",
          "height": 70
        },
        "outputId": "ad3e9b9b-38ca-4724-92d9-3fb9abe2ea81"
      },
      "source": [
        "gboost_fi=[]\n",
        "\n",
        "for i in (gboost_features.sort_values(by=\"Weight\", ascending=False).head(10)[\"Feature\"]):\n",
        "    gboost_fi.append(i)\n",
        "\n",
        "print(gboost_fi)\n",
        "len(gboost_fi)"
      ],
      "execution_count": 114,
      "outputs": [
        {
          "output_type": "stream",
          "text": [
            "['tenure', 'InternetService_Fiber optic', 'MonthlyCharges', 'PaymentMethod_Electronic check', 'Contract_Two year', 'Contract_One year', 'TechSupport_Yes', 'StreamingMovies_No internet service', 'PaperlessBilling_Yes', 'OnlineSecurity_Yes']\n"
          ],
          "name": "stdout"
        },
        {
          "output_type": "execute_result",
          "data": {
            "text/plain": [
              "10"
            ]
          },
          "metadata": {
            "tags": []
          },
          "execution_count": 114
        }
      ]
    },
    {
      "cell_type": "code",
      "metadata": {
        "id": "DIGkH3MBiD_N",
        "colab_type": "code",
        "colab": {}
      },
      "source": [
        "x_train_gboostfi=x_train[gboost_fi]\n",
        "x_test_gboostfi=x_test[gboost_fi]"
      ],
      "execution_count": 115,
      "outputs": []
    },
    {
      "cell_type": "code",
      "metadata": {
        "colab_type": "code",
        "id": "Rmvlhu9xh_q1",
        "colab": {
          "base_uri": "https://localhost:8080/",
          "height": 167
        },
        "outputId": "ea545020-0390-4d35-e967-917764ca501c"
      },
      "source": [
        "gboost_base=GradientBoostingClassifier(random_state=101)\n",
        "gboost_base.fit(x_train_gboostfi,y_train)\n",
        "gboost_base_pred=gboost_base.predict(x_test_gboostfi)\n",
        "\n",
        "gboost_fi_acc=accuracy_score(y_test, gboost_base_pred)\n",
        "print(classification_report(y_test,gboost_base_pred))"
      ],
      "execution_count": 116,
      "outputs": [
        {
          "output_type": "stream",
          "text": [
            "              precision    recall  f1-score   support\n",
            "\n",
            "           0       0.84      0.91      0.87      1033\n",
            "           1       0.68      0.51      0.59       374\n",
            "\n",
            "    accuracy                           0.81      1407\n",
            "   macro avg       0.76      0.71      0.73      1407\n",
            "weighted avg       0.80      0.81      0.80      1407\n",
            "\n"
          ],
          "name": "stdout"
        }
      ]
    },
    {
      "cell_type": "code",
      "metadata": {
        "colab_type": "code",
        "id": "CXLSjm79h_q5",
        "colab": {
          "base_uri": "https://localhost:8080/",
          "height": 183
        },
        "outputId": "074ada83-885f-4ad0-aed7-d20d0db9fd3d"
      },
      "source": [
        "#cross-checking for over/under-fitting by predicting the train data\n",
        "gboost_base.fit(x_train_gboostfi,y_train)\n",
        "gboost_base_pred=gboost_base.predict(x_train_gboostfi)\n",
        "\n",
        "print(accuracy_score(y_train, gboost_base_pred))\n",
        "print(classification_report(y_train,gboost_base_pred))"
      ],
      "execution_count": 117,
      "outputs": [
        {
          "output_type": "stream",
          "text": [
            "0.8170666666666667\n",
            "              precision    recall  f1-score   support\n",
            "\n",
            "           0       0.85      0.91      0.88      4130\n",
            "           1       0.69      0.56      0.62      1495\n",
            "\n",
            "    accuracy                           0.82      5625\n",
            "   macro avg       0.77      0.74      0.75      5625\n",
            "weighted avg       0.81      0.82      0.81      5625\n",
            "\n"
          ],
          "name": "stdout"
        }
      ]
    },
    {
      "cell_type": "markdown",
      "metadata": {
        "id": "x8SrTOswiZJp",
        "colab_type": "text"
      },
      "source": [
        "Sepertinya penggunaan FI tidak terlalu berpengaruh terhadap hasil akurasi dari model, baik untuk RF maupun Gradient Boosting."
      ]
    },
    {
      "cell_type": "markdown",
      "metadata": {
        "id": "O29xjzG4d5K1",
        "colab_type": "text"
      },
      "source": [
        "### Check Imbalanced Target"
      ]
    },
    {
      "cell_type": "code",
      "metadata": {
        "id": "AKkksJPzfDUz",
        "colab_type": "code",
        "colab": {
          "base_uri": "https://localhost:8080/",
          "height": 67
        },
        "outputId": "c9dff845-908b-457d-e12e-07519d1507fb"
      },
      "source": [
        "y.value_counts()"
      ],
      "execution_count": 118,
      "outputs": [
        {
          "output_type": "execute_result",
          "data": {
            "text/plain": [
              "0    5163\n",
              "1    1869\n",
              "Name: Churn, dtype: int64"
            ]
          },
          "metadata": {
            "tags": []
          },
          "execution_count": 118
        }
      ]
    },
    {
      "cell_type": "code",
      "metadata": {
        "id": "omk5nAGifHmJ",
        "colab_type": "code",
        "colab": {
          "base_uri": "https://localhost:8080/",
          "height": 70
        },
        "outputId": "ebc9550a-4951-46b8-f840-b9b2aff97e9a"
      },
      "source": [
        "smote=SMOTE()\n",
        "x_smote, y_smote=smote.fit_sample(x_train,y_train)"
      ],
      "execution_count": 119,
      "outputs": [
        {
          "output_type": "stream",
          "text": [
            "/usr/local/lib/python3.6/dist-packages/sklearn/utils/deprecation.py:87: FutureWarning: Function safe_indexing is deprecated; safe_indexing is deprecated in version 0.22 and will be removed in version 0.24.\n",
            "  warnings.warn(msg, category=FutureWarning)\n"
          ],
          "name": "stderr"
        }
      ]
    },
    {
      "cell_type": "code",
      "metadata": {
        "id": "FhenohjWjFui",
        "colab_type": "code",
        "colab": {
          "base_uri": "https://localhost:8080/",
          "height": 67
        },
        "outputId": "1a4aa3d7-b9c9-4876-ed5e-9f6ca385c7da"
      },
      "source": [
        "#cek apakah sudah berhasil SMOTE\n",
        "pd.DataFrame(y_smote)[0].value_counts()"
      ],
      "execution_count": 130,
      "outputs": [
        {
          "output_type": "execute_result",
          "data": {
            "text/plain": [
              "1    4130\n",
              "0    4130\n",
              "Name: 0, dtype: int64"
            ]
          },
          "metadata": {
            "tags": []
          },
          "execution_count": 130
        }
      ]
    },
    {
      "cell_type": "markdown",
      "metadata": {
        "id": "x7nx2aPWjTQ0",
        "colab_type": "text"
      },
      "source": [
        "### Logistic Regression - Tuned - SMOTE"
      ]
    },
    {
      "cell_type": "code",
      "metadata": {
        "id": "7-TUEg_kkIRI",
        "colab_type": "code",
        "colab": {
          "base_uri": "https://localhost:8080/",
          "height": 33
        },
        "outputId": "ff7c3162-72b6-4a29-d7d9-e187b7cc14c7"
      },
      "source": [
        "param={\"penalty\":[\"l1\",\"l2\"],\n",
        "       \"max_iter\":[3000,5000],\n",
        "       \"solver\": ['newton-cg', 'lbfgs', 'sag', 'saga']\n",
        "                        }\n",
        "\n",
        "gridsearch= GridSearchCV(estimator=logreg_base,\n",
        "                        param_grid=param,\n",
        "                         scoring=\"accuracy\",\n",
        "                         cv=5,\n",
        "                         n_jobs=-1\n",
        "                        )\n",
        "\n",
        "gridsearch.fit(x_smote,y_smote)\n",
        "\n",
        "gridsearch.best_params_"
      ],
      "execution_count": 136,
      "outputs": [
        {
          "output_type": "execute_result",
          "data": {
            "text/plain": [
              "{'max_iter': 3000, 'penalty': 'l2', 'solver': 'saga'}"
            ]
          },
          "metadata": {
            "tags": []
          },
          "execution_count": 136
        }
      ]
    },
    {
      "cell_type": "code",
      "metadata": {
        "colab_type": "code",
        "id": "HufVfJi3jicb",
        "colab": {
          "base_uri": "https://localhost:8080/",
          "height": 167
        },
        "outputId": "ef180533-5b20-4556-f4d3-e6cfc26c9af1"
      },
      "source": [
        "logreg_tuned=LogisticRegression(max_iter=3000,solver=\"saga\",penalty=\"l2\",random_state=101)\n",
        "logreg_tuned.fit(x_smote,y_smote)\n",
        "logreg_tuned_pred=logreg_tuned.predict(x_test)\n",
        "\n",
        "logreg_tuned_smote_acc=accuracy_score(y_test, logreg_tuned_pred)\n",
        "print(classification_report(y_test,logreg_tuned_pred))"
      ],
      "execution_count": 138,
      "outputs": [
        {
          "output_type": "stream",
          "text": [
            "              precision    recall  f1-score   support\n",
            "\n",
            "           0       0.90      0.76      0.82      1033\n",
            "           1       0.53      0.76      0.63       374\n",
            "\n",
            "    accuracy                           0.76      1407\n",
            "   macro avg       0.72      0.76      0.73      1407\n",
            "weighted avg       0.80      0.76      0.77      1407\n",
            "\n"
          ],
          "name": "stdout"
        }
      ]
    },
    {
      "cell_type": "code",
      "metadata": {
        "colab_type": "code",
        "id": "Dg32oDcljicd",
        "colab": {
          "base_uri": "https://localhost:8080/",
          "height": 183
        },
        "outputId": "37ea7e78-1bf7-4fa4-ff85-eca67ca0b470"
      },
      "source": [
        "logreg_tuned.fit(x_smote,y_smote)\n",
        "logreg_tuned_pred=logreg_tuned.predict(x_smote)\n",
        "\n",
        "print(accuracy_score(y_smote, logreg_tuned_pred))\n",
        "print(classification_report(y_smote,logreg_tuned_pred))"
      ],
      "execution_count": 139,
      "outputs": [
        {
          "output_type": "stream",
          "text": [
            "0.7725181598062953\n",
            "              precision    recall  f1-score   support\n",
            "\n",
            "           0       0.79      0.75      0.77      4130\n",
            "           1       0.76      0.80      0.78      4130\n",
            "\n",
            "    accuracy                           0.77      8260\n",
            "   macro avg       0.77      0.77      0.77      8260\n",
            "weighted avg       0.77      0.77      0.77      8260\n",
            "\n"
          ],
          "name": "stdout"
        }
      ]
    },
    {
      "cell_type": "markdown",
      "metadata": {
        "id": "aMu6ACWEjw5n",
        "colab_type": "text"
      },
      "source": [
        "AKURASI UNTUK LOGREG MENURUN SETELAH MENGGUNAKAN SMOTE, WALAUPUN TIDAK OVER/UNDERFITTING"
      ]
    },
    {
      "cell_type": "markdown",
      "metadata": {
        "id": "pu3prSkWjXL-",
        "colab_type": "text"
      },
      "source": [
        "#### RF - Tuned - SMOTE"
      ]
    },
    {
      "cell_type": "code",
      "metadata": {
        "colab_type": "code",
        "id": "V4_lCqeFj89I",
        "colab": {
          "base_uri": "https://localhost:8080/",
          "height": 100
        },
        "outputId": "5393b7cb-1e65-4771-cf01-bf5f0d2a0e90"
      },
      "source": [
        "param={\"max_depth\":[int(x) for x in np.linspace(start=1, stop=30, num=5)],\n",
        "       \"n_estimators\":[int(x) for x in np.linspace(start=1, stop=200, num=5)]\n",
        "      }\n",
        "\n",
        "randomsearch=RandomizedSearchCV(estimator=rf_base,\n",
        "                             param_distributions=param,\n",
        "                             cv=5,\n",
        "                             scoring=\"accuracy\", \n",
        "                              verbose=1,\n",
        "                             n_jobs=-1)\n",
        "\n",
        "randomsearch.fit(x_smote,y_smote)\n",
        "\n",
        "randomsearch.best_params_"
      ],
      "execution_count": 133,
      "outputs": [
        {
          "output_type": "stream",
          "text": [
            "Fitting 5 folds for each of 10 candidates, totalling 50 fits\n"
          ],
          "name": "stdout"
        },
        {
          "output_type": "stream",
          "text": [
            "[Parallel(n_jobs=-1)]: Using backend LokyBackend with 2 concurrent workers.\n",
            "[Parallel(n_jobs=-1)]: Done  46 tasks      | elapsed:   26.9s\n",
            "[Parallel(n_jobs=-1)]: Done  50 out of  50 | elapsed:   28.4s finished\n"
          ],
          "name": "stderr"
        },
        {
          "output_type": "execute_result",
          "data": {
            "text/plain": [
              "{'max_depth': 15, 'n_estimators': 150}"
            ]
          },
          "metadata": {
            "tags": []
          },
          "execution_count": 133
        }
      ]
    },
    {
      "cell_type": "code",
      "metadata": {
        "colab_type": "code",
        "id": "87f2FBbVj89M",
        "colab": {
          "base_uri": "https://localhost:8080/",
          "height": 167
        },
        "outputId": "c3dce409-4562-476a-b146-d5e2efae571d"
      },
      "source": [
        "rf_tuned=RandomForestClassifier(max_depth=15, n_estimators=150, random_state=101)\n",
        "rf_tuned.fit(x_smote,y_smote)\n",
        "rf_tuned_pred=rf_tuned.predict(x_test)\n",
        "\n",
        "rf_tuned_smote_acc=accuracy_score(y_test, rf_tuned_pred)\n",
        "print(classification_report(y_test,rf_tuned_pred))"
      ],
      "execution_count": 140,
      "outputs": [
        {
          "output_type": "stream",
          "text": [
            "              precision    recall  f1-score   support\n",
            "\n",
            "           0       0.85      0.88      0.86      1033\n",
            "           1       0.63      0.56      0.59       374\n",
            "\n",
            "    accuracy                           0.79      1407\n",
            "   macro avg       0.74      0.72      0.73      1407\n",
            "weighted avg       0.79      0.79      0.79      1407\n",
            "\n"
          ],
          "name": "stdout"
        }
      ]
    },
    {
      "cell_type": "code",
      "metadata": {
        "colab_type": "code",
        "id": "ztGkco9Qj89O",
        "colab": {
          "base_uri": "https://localhost:8080/",
          "height": 183
        },
        "outputId": "4e2a3964-5323-41f5-cece-404460533a92"
      },
      "source": [
        "#cross-checking for over/under-fitting by predicting the train data\n",
        "rf_tuned.fit(x_smote,y_smote)\n",
        "rf_tuned_pred=rf_tuned.predict(x_smote)\n",
        "\n",
        "print(accuracy_score(y_smote, rf_tuned_pred))\n",
        "print(classification_report(y_smote,rf_tuned_pred))"
      ],
      "execution_count": 141,
      "outputs": [
        {
          "output_type": "stream",
          "text": [
            "0.9669491525423729\n",
            "              precision    recall  f1-score   support\n",
            "\n",
            "           0       0.99      0.94      0.97      4130\n",
            "           1       0.94      0.99      0.97      4130\n",
            "\n",
            "    accuracy                           0.97      8260\n",
            "   macro avg       0.97      0.97      0.97      8260\n",
            "weighted avg       0.97      0.97      0.97      8260\n",
            "\n"
          ],
          "name": "stdout"
        }
      ]
    },
    {
      "cell_type": "markdown",
      "metadata": {
        "id": "aJTDh9-mkUKm",
        "colab_type": "text"
      },
      "source": [
        "RF KEMBALI MENGALAMI OVERFITTING"
      ]
    },
    {
      "cell_type": "markdown",
      "metadata": {
        "id": "lWJTADFcjbLF",
        "colab_type": "text"
      },
      "source": [
        "#### Gradient Boosting - SMOTE"
      ]
    },
    {
      "cell_type": "code",
      "metadata": {
        "colab_type": "code",
        "id": "XK-dU9xcksno",
        "colab": {
          "base_uri": "https://localhost:8080/",
          "height": 167
        },
        "outputId": "6b3034ce-c148-4d62-d3e6-db9bf0056cb5"
      },
      "source": [
        "gboost_base=GradientBoostingClassifier(random_state=101)\n",
        "gboost_base.fit(x_smote,y_smote)\n",
        "gboost_base_pred=gboost_base.predict(x_test)\n",
        "\n",
        "gboost_base_acc=accuracy_score(y_test, gboost_base_pred)\n",
        "print(classification_report(y_test,gboost_base_pred))"
      ],
      "execution_count": 142,
      "outputs": [
        {
          "output_type": "stream",
          "text": [
            "              precision    recall  f1-score   support\n",
            "\n",
            "           0       0.86      0.87      0.86      1033\n",
            "           1       0.62      0.60      0.61       374\n",
            "\n",
            "    accuracy                           0.80      1407\n",
            "   macro avg       0.74      0.74      0.74      1407\n",
            "weighted avg       0.80      0.80      0.80      1407\n",
            "\n"
          ],
          "name": "stdout"
        }
      ]
    },
    {
      "cell_type": "code",
      "metadata": {
        "colab_type": "code",
        "id": "Fi9gyc5Zksns",
        "colab": {
          "base_uri": "https://localhost:8080/",
          "height": 183
        },
        "outputId": "e4ae0ac8-bc9c-4e91-dcc1-98fed8854602"
      },
      "source": [
        "#cross-checking for over/under-fitting by predicting the train data\n",
        "gboost_base.fit(x_smote,y_smote)\n",
        "gboost_base_pred=gboost_base.predict(x_smote)\n",
        "\n",
        "print(accuracy_score(y_smote, gboost_base_pred))\n",
        "print(classification_report(y_smote,gboost_base_pred))"
      ],
      "execution_count": 144,
      "outputs": [
        {
          "output_type": "stream",
          "text": [
            "0.8692493946731235\n",
            "              precision    recall  f1-score   support\n",
            "\n",
            "           0       0.87      0.87      0.87      4130\n",
            "           1       0.87      0.87      0.87      4130\n",
            "\n",
            "    accuracy                           0.87      8260\n",
            "   macro avg       0.87      0.87      0.87      8260\n",
            "weighted avg       0.87      0.87      0.87      8260\n",
            "\n"
          ],
          "name": "stdout"
        }
      ]
    },
    {
      "cell_type": "markdown",
      "metadata": {
        "id": "OHypaljClVAp",
        "colab_type": "text"
      },
      "source": [
        "GRADIENT BOOSTING - BASELINE MODEL MENGALAMI OVERFITTING DENGAN SMOTE."
      ]
    },
    {
      "cell_type": "markdown",
      "metadata": {
        "id": "tJlFezxblcra",
        "colab_type": "text"
      },
      "source": [
        "selanjutnya mencoba gradient boosting dengan tuning + smote"
      ]
    },
    {
      "cell_type": "code",
      "metadata": {
        "colab_type": "code",
        "id": "z-X5I8F5lksS",
        "colab": {
          "base_uri": "https://localhost:8080/",
          "height": 83
        },
        "outputId": "918efe3f-173e-4dcf-cc1a-a0870a58728e"
      },
      "source": [
        "param={\"learning_rate\":[int(x) for x in np.linspace(start=0.01, stop=1, num=3)],\n",
        "       \"n_estimators\":[int(x) for x in np.linspace(start=100, stop=1000, num=3)],\n",
        "       \"max_depth\":[int(x) for x in np.linspace(start=1, stop=30, num=3)]}\n",
        "\n",
        "randomsearch=RandomizedSearchCV(estimator=gboost_base,\n",
        "                             param_distributions=param,\n",
        "                             cv=5,\n",
        "                             scoring=\"accuracy\", \n",
        "                              verbose=1,\n",
        "                             n_jobs=-1)\n",
        "\n",
        "randomsearch.fit(x_smote,y_smote)\n",
        "\n",
        "randomsearch.best_params_"
      ],
      "execution_count": 145,
      "outputs": [
        {
          "output_type": "stream",
          "text": [
            "Fitting 5 folds for each of 10 candidates, totalling 50 fits\n"
          ],
          "name": "stdout"
        },
        {
          "output_type": "stream",
          "text": [
            "[Parallel(n_jobs=-1)]: Using backend LokyBackend with 2 concurrent workers.\n",
            "[Parallel(n_jobs=-1)]: Done  50 out of  50 | elapsed:  2.7min finished\n"
          ],
          "name": "stderr"
        },
        {
          "output_type": "execute_result",
          "data": {
            "text/plain": [
              "{'learning_rate': 1, 'max_depth': 1, 'n_estimators': 1000}"
            ]
          },
          "metadata": {
            "tags": []
          },
          "execution_count": 145
        }
      ]
    },
    {
      "cell_type": "code",
      "metadata": {
        "colab_type": "code",
        "id": "EJHH3dg8lksW",
        "colab": {
          "base_uri": "https://localhost:8080/",
          "height": 167
        },
        "outputId": "00f2b75d-25c6-4f72-e964-17f8541a3ad9"
      },
      "source": [
        "gboost_tuned=GradientBoostingClassifier(n_estimators=1000, learning_rate=1, max_depth=1, random_state=101)\n",
        "gboost_tuned.fit(x_smote,y_smote)\n",
        "gboost_tuned_pred=gboost_tuned.predict(x_test)\n",
        "\n",
        "gboost_tuned_smote_acc=accuracy_score(y_test, gboost_tuned_pred)\n",
        "print(classification_report(y_test,gboost_tuned_pred))"
      ],
      "execution_count": 146,
      "outputs": [
        {
          "output_type": "stream",
          "text": [
            "              precision    recall  f1-score   support\n",
            "\n",
            "           0       0.84      0.89      0.86      1033\n",
            "           1       0.63      0.55      0.59       374\n",
            "\n",
            "    accuracy                           0.80      1407\n",
            "   macro avg       0.74      0.72      0.73      1407\n",
            "weighted avg       0.79      0.80      0.79      1407\n",
            "\n"
          ],
          "name": "stdout"
        }
      ]
    },
    {
      "cell_type": "code",
      "metadata": {
        "colab_type": "code",
        "id": "xTS3JHg8lksX",
        "colab": {
          "base_uri": "https://localhost:8080/",
          "height": 183
        },
        "outputId": "168be91e-6a67-498a-ebc8-7626f0bacbac"
      },
      "source": [
        "#cross-checking for over/under-fitting by predicting the train data\n",
        "gboost_tuned.fit(x_smote,y_smote)\n",
        "gboost_tuned_pred=gboost_tuned.predict(x_smote)\n",
        "\n",
        "print(accuracy_score(y_smote, gboost_tuned_pred))\n",
        "print(classification_report(y_smote,gboost_tuned_pred))"
      ],
      "execution_count": 150,
      "outputs": [
        {
          "output_type": "stream",
          "text": [
            "0.8686440677966102\n",
            "              precision    recall  f1-score   support\n",
            "\n",
            "           0       0.85      0.89      0.87      4130\n",
            "           1       0.89      0.85      0.87      4130\n",
            "\n",
            "    accuracy                           0.87      8260\n",
            "   macro avg       0.87      0.87      0.87      8260\n",
            "weighted avg       0.87      0.87      0.87      8260\n",
            "\n"
          ],
          "name": "stdout"
        }
      ]
    },
    {
      "cell_type": "markdown",
      "metadata": {
        "id": "P4XHBClSm3gm",
        "colab_type": "text"
      },
      "source": [
        "TETAP OVERFITTING."
      ]
    },
    {
      "cell_type": "markdown",
      "metadata": {
        "id": "pu26zCQHd-I5",
        "colab_type": "text"
      },
      "source": [
        "### Scaling"
      ]
    },
    {
      "cell_type": "code",
      "metadata": {
        "id": "AAUHL9fQmQ14",
        "colab_type": "code",
        "colab": {
          "base_uri": "https://localhost:8080/",
          "height": 296
        },
        "outputId": "92049ff0-3762-4160-efce-2dd66ed3e900"
      },
      "source": [
        "sns.boxplot(x=\"Churn\", y=\"tenure\", data=df)"
      ],
      "execution_count": 147,
      "outputs": [
        {
          "output_type": "execute_result",
          "data": {
            "text/plain": [
              "<matplotlib.axes._subplots.AxesSubplot at 0x7f1091057358>"
            ]
          },
          "metadata": {
            "tags": []
          },
          "execution_count": 147
        },
        {
          "output_type": "display_data",
          "data": {
            "image/png": "[encoded data removed]",
            "text/plain": [
              "<Figure size 432x288 with 1 Axes>"
            ]
          },
          "metadata": {
            "tags": [],
            "needs_background": "light"
          }
        }
      ]
    },
    {
      "cell_type": "code",
      "metadata": {
        "id": "PboT50uPmj8C",
        "colab_type": "code",
        "colab": {
          "base_uri": "https://localhost:8080/",
          "height": 296
        },
        "outputId": "c932c1ae-b6af-4d58-d702-5efebd11e954"
      },
      "source": [
        "sns.boxplot(x=\"Churn\", y=\"MonthlyCharges\", data=df)"
      ],
      "execution_count": 149,
      "outputs": [
        {
          "output_type": "execute_result",
          "data": {
            "text/plain": [
              "<matplotlib.axes._subplots.AxesSubplot at 0x7f1092512c18>"
            ]
          },
          "metadata": {
            "tags": []
          },
          "execution_count": 149
        },
        {
          "output_type": "display_data",
          "data": {
            "image/png": "[encoded data removed]",
            "text/plain": [
              "<Figure size 432x288 with 1 Axes>"
            ]
          },
          "metadata": {
            "tags": [],
            "needs_background": "light"
          }
        }
      ]
    },
    {
      "cell_type": "markdown",
      "metadata": {
        "id": "rZ8dfB0Umwck",
        "colab_type": "text"
      },
      "source": [
        "Tidak terlalu banyak outlier, maka dapat menggunakan MinMaxScaler"
      ]
    },
    {
      "cell_type": "code",
      "metadata": {
        "id": "QEJQh-Txd4TM",
        "colab_type": "code",
        "colab": {
          "base_uri": "https://localhost:8080/",
          "height": 460
        },
        "outputId": "907a39dc-f636-47f7-e6df-9205514d485d"
      },
      "source": [
        "scaler=MinMaxScaler()\n",
        "scaler_transformer=scaler.fit(x)\n",
        "x_scaled=scaler_transformer.transform(x)\n",
        "x_scaled=pd.DataFrame(x_scaled,columns=x.columns)\n",
        "x_scaled"
      ],
      "execution_count": 151,
      "outputs": [
        {
          "output_type": "execute_result",
          "data": {
            "text/html": [
              "<div>\n",
              "<style scoped>\n",
              "    .dataframe tbody tr th:only-of-type {\n",
              "        vertical-align: middle;\n",
              "    }\n",
              "\n",
              "    .dataframe tbody tr th {\n",
              "        vertical-align: top;\n",
              "    }\n",
              "\n",
              "    .dataframe thead th {\n",
              "        text-align: right;\n",
              "    }\n",
              "</style>\n",
              "<table border=\"1\" class=\"dataframe\">\n",
              "  <thead>\n",
              "    <tr style=\"text-align: right;\">\n",
              "      <th></th>\n",
              "      <th>tenure</th>\n",
              "      <th>MonthlyCharges</th>\n",
              "      <th>gender_Male</th>\n",
              "      <th>SeniorCitizen_1</th>\n",
              "      <th>Partner_Yes</th>\n",
              "      <th>Dependents_Yes</th>\n",
              "      <th>PhoneService_Yes</th>\n",
              "      <th>MultipleLines_No phone service</th>\n",
              "      <th>MultipleLines_Yes</th>\n",
              "      <th>InternetService_Fiber optic</th>\n",
              "      <th>InternetService_No</th>\n",
              "      <th>OnlineSecurity_No internet service</th>\n",
              "      <th>OnlineSecurity_Yes</th>\n",
              "      <th>OnlineBackup_No internet service</th>\n",
              "      <th>OnlineBackup_Yes</th>\n",
              "      <th>DeviceProtection_No internet service</th>\n",
              "      <th>DeviceProtection_Yes</th>\n",
              "      <th>TechSupport_No internet service</th>\n",
              "      <th>TechSupport_Yes</th>\n",
              "      <th>StreamingTV_No internet service</th>\n",
              "      <th>StreamingTV_Yes</th>\n",
              "      <th>StreamingMovies_No internet service</th>\n",
              "      <th>StreamingMovies_Yes</th>\n",
              "      <th>Contract_One year</th>\n",
              "      <th>Contract_Two year</th>\n",
              "      <th>PaperlessBilling_Yes</th>\n",
              "      <th>PaymentMethod_Credit card (automatic)</th>\n",
              "      <th>PaymentMethod_Electronic check</th>\n",
              "      <th>PaymentMethod_Mailed check</th>\n",
              "    </tr>\n",
              "  </thead>\n",
              "  <tbody>\n",
              "    <tr>\n",
              "      <th>0</th>\n",
              "      <td>0.000000</td>\n",
              "      <td>0.115423</td>\n",
              "      <td>0.0</td>\n",
              "      <td>0.0</td>\n",
              "      <td>1.0</td>\n",
              "      <td>0.0</td>\n",
              "      <td>0.0</td>\n",
              "      <td>1.0</td>\n",
              "      <td>0.0</td>\n",
              "      <td>0.0</td>\n",
              "      <td>0.0</td>\n",
              "      <td>0.0</td>\n",
              "      <td>0.0</td>\n",
              "      <td>0.0</td>\n",
              "      <td>1.0</td>\n",
              "      <td>0.0</td>\n",
              "      <td>0.0</td>\n",
              "      <td>0.0</td>\n",
              "      <td>0.0</td>\n",
              "      <td>0.0</td>\n",
              "      <td>0.0</td>\n",
              "      <td>0.0</td>\n",
              "      <td>0.0</td>\n",
              "      <td>0.0</td>\n",
              "      <td>0.0</td>\n",
              "      <td>1.0</td>\n",
              "      <td>0.0</td>\n",
              "      <td>1.0</td>\n",
              "      <td>0.0</td>\n",
              "    </tr>\n",
              "    <tr>\n",
              "      <th>1</th>\n",
              "      <td>0.464789</td>\n",
              "      <td>0.385075</td>\n",
              "      <td>1.0</td>\n",
              "      <td>0.0</td>\n",
              "      <td>0.0</td>\n",
              "      <td>0.0</td>\n",
              "      <td>1.0</td>\n",
              "      <td>0.0</td>\n",
              "      <td>0.0</td>\n",
              "      <td>0.0</td>\n",
              "      <td>0.0</td>\n",
              "      <td>0.0</td>\n",
              "      <td>1.0</td>\n",
              "      <td>0.0</td>\n",
              "      <td>0.0</td>\n",
              "      <td>0.0</td>\n",
              "      <td>1.0</td>\n",
              "      <td>0.0</td>\n",
              "      <td>0.0</td>\n",
              "      <td>0.0</td>\n",
              "      <td>0.0</td>\n",
              "      <td>0.0</td>\n",
              "      <td>0.0</td>\n",
              "      <td>1.0</td>\n",
              "      <td>0.0</td>\n",
              "      <td>0.0</td>\n",
              "      <td>0.0</td>\n",
              "      <td>0.0</td>\n",
              "      <td>1.0</td>\n",
              "    </tr>\n",
              "    <tr>\n",
              "      <th>2</th>\n",
              "      <td>0.014085</td>\n",
              "      <td>0.354229</td>\n",
              "      <td>1.0</td>\n",
              "      <td>0.0</td>\n",
              "      <td>0.0</td>\n",
              "      <td>0.0</td>\n",
              "      <td>1.0</td>\n",
              "      <td>0.0</td>\n",
              "      <td>0.0</td>\n",
              "      <td>0.0</td>\n",
              "      <td>0.0</td>\n",
              "      <td>0.0</td>\n",
              "      <td>1.0</td>\n",
              "      <td>0.0</td>\n",
              "      <td>1.0</td>\n",
              "      <td>0.0</td>\n",
              "      <td>0.0</td>\n",
              "      <td>0.0</td>\n",
              "      <td>0.0</td>\n",
              "      <td>0.0</td>\n",
              "      <td>0.0</td>\n",
              "      <td>0.0</td>\n",
              "      <td>0.0</td>\n",
              "      <td>0.0</td>\n",
              "      <td>0.0</td>\n",
              "      <td>1.0</td>\n",
              "      <td>0.0</td>\n",
              "      <td>0.0</td>\n",
              "      <td>1.0</td>\n",
              "    </tr>\n",
              "    <tr>\n",
              "      <th>3</th>\n",
              "      <td>0.619718</td>\n",
              "      <td>0.239303</td>\n",
              "      <td>1.0</td>\n",
              "      <td>0.0</td>\n",
              "      <td>0.0</td>\n",
              "      <td>0.0</td>\n",
              "      <td>0.0</td>\n",
              "      <td>1.0</td>\n",
              "      <td>0.0</td>\n",
              "      <td>0.0</td>\n",
              "      <td>0.0</td>\n",
              "      <td>0.0</td>\n",
              "      <td>1.0</td>\n",
              "      <td>0.0</td>\n",
              "      <td>0.0</td>\n",
              "      <td>0.0</td>\n",
              "      <td>1.0</td>\n",
              "      <td>0.0</td>\n",
              "      <td>1.0</td>\n",
              "      <td>0.0</td>\n",
              "      <td>0.0</td>\n",
              "      <td>0.0</td>\n",
              "      <td>0.0</td>\n",
              "      <td>1.0</td>\n",
              "      <td>0.0</td>\n",
              "      <td>0.0</td>\n",
              "      <td>0.0</td>\n",
              "      <td>0.0</td>\n",
              "      <td>0.0</td>\n",
              "    </tr>\n",
              "    <tr>\n",
              "      <th>4</th>\n",
              "      <td>0.014085</td>\n",
              "      <td>0.521891</td>\n",
              "      <td>0.0</td>\n",
              "      <td>0.0</td>\n",
              "      <td>0.0</td>\n",
              "      <td>0.0</td>\n",
              "      <td>1.0</td>\n",
              "      <td>0.0</td>\n",
              "      <td>0.0</td>\n",
              "      <td>1.0</td>\n",
              "      <td>0.0</td>\n",
              "      <td>0.0</td>\n",
              "      <td>0.0</td>\n",
              "      <td>0.0</td>\n",
              "      <td>0.0</td>\n",
              "      <td>0.0</td>\n",
              "      <td>0.0</td>\n",
              "      <td>0.0</td>\n",
              "      <td>0.0</td>\n",
              "      <td>0.0</td>\n",
              "      <td>0.0</td>\n",
              "      <td>0.0</td>\n",
              "      <td>0.0</td>\n",
              "      <td>0.0</td>\n",
              "      <td>0.0</td>\n",
              "      <td>1.0</td>\n",
              "      <td>0.0</td>\n",
              "      <td>1.0</td>\n",
              "      <td>0.0</td>\n",
              "    </tr>\n",
              "    <tr>\n",
              "      <th>...</th>\n",
              "      <td>...</td>\n",
              "      <td>...</td>\n",
              "      <td>...</td>\n",
              "      <td>...</td>\n",
              "      <td>...</td>\n",
              "      <td>...</td>\n",
              "      <td>...</td>\n",
              "      <td>...</td>\n",
              "      <td>...</td>\n",
              "      <td>...</td>\n",
              "      <td>...</td>\n",
              "      <td>...</td>\n",
              "      <td>...</td>\n",
              "      <td>...</td>\n",
              "      <td>...</td>\n",
              "      <td>...</td>\n",
              "      <td>...</td>\n",
              "      <td>...</td>\n",
              "      <td>...</td>\n",
              "      <td>...</td>\n",
              "      <td>...</td>\n",
              "      <td>...</td>\n",
              "      <td>...</td>\n",
              "      <td>...</td>\n",
              "      <td>...</td>\n",
              "      <td>...</td>\n",
              "      <td>...</td>\n",
              "      <td>...</td>\n",
              "      <td>...</td>\n",
              "    </tr>\n",
              "    <tr>\n",
              "      <th>7027</th>\n",
              "      <td>0.323944</td>\n",
              "      <td>0.662189</td>\n",
              "      <td>1.0</td>\n",
              "      <td>0.0</td>\n",
              "      <td>1.0</td>\n",
              "      <td>1.0</td>\n",
              "      <td>1.0</td>\n",
              "      <td>0.0</td>\n",
              "      <td>1.0</td>\n",
              "      <td>0.0</td>\n",
              "      <td>0.0</td>\n",
              "      <td>0.0</td>\n",
              "      <td>1.0</td>\n",
              "      <td>0.0</td>\n",
              "      <td>0.0</td>\n",
              "      <td>0.0</td>\n",
              "      <td>1.0</td>\n",
              "      <td>0.0</td>\n",
              "      <td>1.0</td>\n",
              "      <td>0.0</td>\n",
              "      <td>1.0</td>\n",
              "      <td>0.0</td>\n",
              "      <td>1.0</td>\n",
              "      <td>1.0</td>\n",
              "      <td>0.0</td>\n",
              "      <td>1.0</td>\n",
              "      <td>0.0</td>\n",
              "      <td>0.0</td>\n",
              "      <td>1.0</td>\n",
              "    </tr>\n",
              "    <tr>\n",
              "      <th>7028</th>\n",
              "      <td>1.000000</td>\n",
              "      <td>0.845274</td>\n",
              "      <td>0.0</td>\n",
              "      <td>0.0</td>\n",
              "      <td>1.0</td>\n",
              "      <td>1.0</td>\n",
              "      <td>1.0</td>\n",
              "      <td>0.0</td>\n",
              "      <td>1.0</td>\n",
              "      <td>1.0</td>\n",
              "      <td>0.0</td>\n",
              "      <td>0.0</td>\n",
              "      <td>0.0</td>\n",
              "      <td>0.0</td>\n",
              "      <td>1.0</td>\n",
              "      <td>0.0</td>\n",
              "      <td>1.0</td>\n",
              "      <td>0.0</td>\n",
              "      <td>0.0</td>\n",
              "      <td>0.0</td>\n",
              "      <td>1.0</td>\n",
              "      <td>0.0</td>\n",
              "      <td>1.0</td>\n",
              "      <td>1.0</td>\n",
              "      <td>0.0</td>\n",
              "      <td>1.0</td>\n",
              "      <td>1.0</td>\n",
              "      <td>0.0</td>\n",
              "      <td>0.0</td>\n",
              "    </tr>\n",
              "    <tr>\n",
              "      <th>7029</th>\n",
              "      <td>0.140845</td>\n",
              "      <td>0.112935</td>\n",
              "      <td>0.0</td>\n",
              "      <td>0.0</td>\n",
              "      <td>1.0</td>\n",
              "      <td>1.0</td>\n",
              "      <td>0.0</td>\n",
              "      <td>1.0</td>\n",
              "      <td>0.0</td>\n",
              "      <td>0.0</td>\n",
              "      <td>0.0</td>\n",
              "      <td>0.0</td>\n",
              "      <td>1.0</td>\n",
              "      <td>0.0</td>\n",
              "      <td>0.0</td>\n",
              "      <td>0.0</td>\n",
              "      <td>0.0</td>\n",
              "      <td>0.0</td>\n",
              "      <td>0.0</td>\n",
              "      <td>0.0</td>\n",
              "      <td>0.0</td>\n",
              "      <td>0.0</td>\n",
              "      <td>0.0</td>\n",
              "      <td>0.0</td>\n",
              "      <td>0.0</td>\n",
              "      <td>1.0</td>\n",
              "      <td>0.0</td>\n",
              "      <td>1.0</td>\n",
              "      <td>0.0</td>\n",
              "    </tr>\n",
              "    <tr>\n",
              "      <th>7030</th>\n",
              "      <td>0.042254</td>\n",
              "      <td>0.558706</td>\n",
              "      <td>1.0</td>\n",
              "      <td>1.0</td>\n",
              "      <td>1.0</td>\n",
              "      <td>0.0</td>\n",
              "      <td>1.0</td>\n",
              "      <td>0.0</td>\n",
              "      <td>1.0</td>\n",
              "      <td>1.0</td>\n",
              "      <td>0.0</td>\n",
              "      <td>0.0</td>\n",
              "      <td>0.0</td>\n",
              "      <td>0.0</td>\n",
              "      <td>0.0</td>\n",
              "      <td>0.0</td>\n",
              "      <td>0.0</td>\n",
              "      <td>0.0</td>\n",
              "      <td>0.0</td>\n",
              "      <td>0.0</td>\n",
              "      <td>0.0</td>\n",
              "      <td>0.0</td>\n",
              "      <td>0.0</td>\n",
              "      <td>0.0</td>\n",
              "      <td>0.0</td>\n",
              "      <td>1.0</td>\n",
              "      <td>0.0</td>\n",
              "      <td>0.0</td>\n",
              "      <td>1.0</td>\n",
              "    </tr>\n",
              "    <tr>\n",
              "      <th>7031</th>\n",
              "      <td>0.915493</td>\n",
              "      <td>0.869652</td>\n",
              "      <td>1.0</td>\n",
              "      <td>0.0</td>\n",
              "      <td>0.0</td>\n",
              "      <td>0.0</td>\n",
              "      <td>1.0</td>\n",
              "      <td>0.0</td>\n",
              "      <td>0.0</td>\n",
              "      <td>1.0</td>\n",
              "      <td>0.0</td>\n",
              "      <td>0.0</td>\n",
              "      <td>1.0</td>\n",
              "      <td>0.0</td>\n",
              "      <td>0.0</td>\n",
              "      <td>0.0</td>\n",
              "      <td>1.0</td>\n",
              "      <td>0.0</td>\n",
              "      <td>1.0</td>\n",
              "      <td>0.0</td>\n",
              "      <td>1.0</td>\n",
              "      <td>0.0</td>\n",
              "      <td>1.0</td>\n",
              "      <td>0.0</td>\n",
              "      <td>1.0</td>\n",
              "      <td>1.0</td>\n",
              "      <td>0.0</td>\n",
              "      <td>0.0</td>\n",
              "      <td>0.0</td>\n",
              "    </tr>\n",
              "  </tbody>\n",
              "</table>\n",
              "<p>7032 rows × 29 columns</p>\n",
              "</div>"
            ],
            "text/plain": [
              "        tenure  ...  PaymentMethod_Mailed check\n",
              "0     0.000000  ...                         0.0\n",
              "1     0.464789  ...                         1.0\n",
              "2     0.014085  ...                         1.0\n",
              "3     0.619718  ...                         0.0\n",
              "4     0.014085  ...                         0.0\n",
              "...        ...  ...                         ...\n",
              "7027  0.323944  ...                         1.0\n",
              "7028  1.000000  ...                         0.0\n",
              "7029  0.140845  ...                         0.0\n",
              "7030  0.042254  ...                         1.0\n",
              "7031  0.915493  ...                         0.0\n",
              "\n",
              "[7032 rows x 29 columns]"
            ]
          },
          "metadata": {
            "tags": []
          },
          "execution_count": 151
        }
      ]
    },
    {
      "cell_type": "code",
      "metadata": {
        "id": "prIXPaqomJIO",
        "colab_type": "code",
        "colab": {}
      },
      "source": [
        "x_train, x_test, y_train, y_test= train_test_split(x_scaled,y,stratify=y, random_state=101, test_size=0.2)"
      ],
      "execution_count": 152,
      "outputs": []
    },
    {
      "cell_type": "markdown",
      "metadata": {
        "id": "r9Wjj5UKnIpE",
        "colab_type": "text"
      },
      "source": [
        "#### LOGISTIC REGRESSION - BASELINE - SCALED"
      ]
    },
    {
      "cell_type": "code",
      "metadata": {
        "colab_type": "code",
        "id": "is_A5Xl0nHIt",
        "colab": {
          "base_uri": "https://localhost:8080/",
          "height": 167
        },
        "outputId": "c7e6a2e9-d2b2-4e4c-b458-263059e752c3"
      },
      "source": [
        "logreg_base=LogisticRegression(random_state=101)\n",
        "logreg_base.fit(x_train,y_train)\n",
        "logreg_base_pred=logreg_base.predict(x_test)\n",
        "\n",
        "logreg_base__scaled_acc=accuracy_score(y_test, logreg_base_pred)\n",
        "print(classification_report(y_test,logreg_base_pred))"
      ],
      "execution_count": 154,
      "outputs": [
        {
          "output_type": "stream",
          "text": [
            "              precision    recall  f1-score   support\n",
            "\n",
            "           0       0.84      0.91      0.87      1033\n",
            "           1       0.67      0.51      0.58       374\n",
            "\n",
            "    accuracy                           0.80      1407\n",
            "   macro avg       0.75      0.71      0.72      1407\n",
            "weighted avg       0.79      0.80      0.79      1407\n",
            "\n"
          ],
          "name": "stdout"
        }
      ]
    },
    {
      "cell_type": "code",
      "metadata": {
        "colab_type": "code",
        "id": "tZcyYh5tnHIx",
        "colab": {
          "base_uri": "https://localhost:8080/",
          "height": 183
        },
        "outputId": "96b5a853-e68f-4531-f508-7c128bf226db"
      },
      "source": [
        "#cross-checking for over/under-fitting by predicting the train data\n",
        "logreg_base.fit(x_train,y_train)\n",
        "logreg_base_pred=logreg_base.predict(x_train)\n",
        "\n",
        "print(accuracy_score(y_train, logreg_base_pred))\n",
        "print(classification_report(y_train,logreg_base_pred))"
      ],
      "execution_count": 155,
      "outputs": [
        {
          "output_type": "stream",
          "text": [
            "0.8049777777777778\n",
            "              precision    recall  f1-score   support\n",
            "\n",
            "           0       0.85      0.90      0.87      4130\n",
            "           1       0.66      0.55      0.60      1495\n",
            "\n",
            "    accuracy                           0.80      5625\n",
            "   macro avg       0.75      0.72      0.74      5625\n",
            "weighted avg       0.80      0.80      0.80      5625\n",
            "\n"
          ],
          "name": "stdout"
        }
      ]
    },
    {
      "cell_type": "markdown",
      "metadata": {
        "colab_type": "text",
        "id": "D3mt6MIDnHI0"
      },
      "source": [
        "LOGISTIC REGRESSION - BASELINE MODEL TIDAK MENGALAMI OVER/UNDERFITTING BASED ON ACCURACY SCORE, NAMUN JUGA TIDAK BERBEDA DARI BASELINE MODEL TANPA SCALING"
      ]
    },
    {
      "cell_type": "markdown",
      "metadata": {
        "colab_type": "text",
        "id": "IxXYMBIjnHI0"
      },
      "source": [
        "#### Random Forest - Baseline Model"
      ]
    },
    {
      "cell_type": "code",
      "metadata": {
        "colab_type": "code",
        "id": "be7IZ_ySnHI1",
        "colab": {
          "base_uri": "https://localhost:8080/",
          "height": 167
        },
        "outputId": "2043a9cc-ceeb-469f-eac1-e905f6068629"
      },
      "source": [
        "rf_base=RandomForestClassifier(random_state=101)\n",
        "rf_base.fit(x_train,y_train)\n",
        "rf_base_pred=rf_base.predict(x_test)\n",
        "\n",
        "rf_base_scaled_acc=accuracy_score(y_test, rf_base_pred)\n",
        "print(classification_report(y_test,rf_base_pred))"
      ],
      "execution_count": 156,
      "outputs": [
        {
          "output_type": "stream",
          "text": [
            "              precision    recall  f1-score   support\n",
            "\n",
            "           0       0.83      0.91      0.87      1033\n",
            "           1       0.65      0.50      0.57       374\n",
            "\n",
            "    accuracy                           0.80      1407\n",
            "   macro avg       0.74      0.70      0.72      1407\n",
            "weighted avg       0.79      0.80      0.79      1407\n",
            "\n"
          ],
          "name": "stdout"
        }
      ]
    },
    {
      "cell_type": "code",
      "metadata": {
        "colab_type": "code",
        "id": "0CFGMprnnHI3",
        "colab": {
          "base_uri": "https://localhost:8080/",
          "height": 183
        },
        "outputId": "c4b246d5-023d-4aa9-f8ed-6001bbb72dc4"
      },
      "source": [
        "#cross-checking for over/under-fitting by predicting the train data\n",
        "rf_base.fit(x_train,y_train)\n",
        "rf_base_pred=rf_base.predict(x_train)\n",
        "\n",
        "print(accuracy_score(y_train, rf_base_pred))\n",
        "print(classification_report(y_train,rf_base_pred))"
      ],
      "execution_count": 157,
      "outputs": [
        {
          "output_type": "stream",
          "text": [
            "0.9969777777777777\n",
            "              precision    recall  f1-score   support\n",
            "\n",
            "           0       1.00      1.00      1.00      4130\n",
            "           1       1.00      0.99      0.99      1495\n",
            "\n",
            "    accuracy                           1.00      5625\n",
            "   macro avg       1.00      1.00      1.00      5625\n",
            "weighted avg       1.00      1.00      1.00      5625\n",
            "\n"
          ],
          "name": "stdout"
        }
      ]
    },
    {
      "cell_type": "markdown",
      "metadata": {
        "colab_type": "text",
        "id": "GsoNykxZnHI5"
      },
      "source": [
        "RF BASELINE MODEL MENGALAMI OVERFITTING, DITUNJUKKAN DENGAN ACCURACY SCORE 0.99 TERHADAP DATA TRAIN, SEMENTARA HANYA 0.80 UNTUK DATA TEST"
      ]
    },
    {
      "cell_type": "markdown",
      "metadata": {
        "colab_type": "text",
        "id": "OwTNOYQ_nHI5"
      },
      "source": [
        "#### Gradient Boosting - Baseline Model"
      ]
    },
    {
      "cell_type": "code",
      "metadata": {
        "colab_type": "code",
        "id": "49fE3g2xnHI6",
        "colab": {
          "base_uri": "https://localhost:8080/",
          "height": 167
        },
        "outputId": "22a8c471-4e08-4b5e-bfd2-acd588a83b9f"
      },
      "source": [
        "gboost_base=GradientBoostingClassifier(random_state=101)\n",
        "gboost_base.fit(x_train,y_train)\n",
        "gboost_base_pred=gboost_base.predict(x_test)\n",
        "\n",
        "gboost_base_scaled_acc=accuracy_score(y_test, gboost_base_pred)\n",
        "print(classification_report(y_test,gboost_base_pred))"
      ],
      "execution_count": 158,
      "outputs": [
        {
          "output_type": "stream",
          "text": [
            "              precision    recall  f1-score   support\n",
            "\n",
            "           0       0.84      0.92      0.88      1033\n",
            "           1       0.70      0.53      0.61       374\n",
            "\n",
            "    accuracy                           0.82      1407\n",
            "   macro avg       0.77      0.73      0.74      1407\n",
            "weighted avg       0.81      0.82      0.81      1407\n",
            "\n"
          ],
          "name": "stdout"
        }
      ]
    },
    {
      "cell_type": "code",
      "metadata": {
        "colab_type": "code",
        "id": "y-1AHPcEnHI8",
        "colab": {
          "base_uri": "https://localhost:8080/",
          "height": 183
        },
        "outputId": "4947c1e9-4cea-4016-d68d-1b608c383d1b"
      },
      "source": [
        "#cross-checking for over/under-fitting by predicting the train data\n",
        "gboost_base.fit(x_train,y_train)\n",
        "gboost_base_pred=gboost_base.predict(x_train)\n",
        "\n",
        "print(accuracy_score(y_train, gboost_base_pred))\n",
        "print(classification_report(y_train,gboost_base_pred))"
      ],
      "execution_count": 159,
      "outputs": [
        {
          "output_type": "stream",
          "text": [
            "0.8202666666666667\n",
            "              precision    recall  f1-score   support\n",
            "\n",
            "           0       0.85      0.91      0.88      4130\n",
            "           1       0.70      0.57      0.63      1495\n",
            "\n",
            "    accuracy                           0.82      5625\n",
            "   macro avg       0.78      0.74      0.75      5625\n",
            "weighted avg       0.81      0.82      0.81      5625\n",
            "\n"
          ],
          "name": "stdout"
        }
      ]
    },
    {
      "cell_type": "markdown",
      "metadata": {
        "id": "5VZn_FkpnoT3",
        "colab_type": "text"
      },
      "source": [
        "BERDASARKAN KETIGA MODEL DI ATAS, TERLIHAT BAHWA SCALING TIDAK TERLALU MENGUBAH HASIL AKURASI DARI MASING-MASING MODEL DIBANDINGKAN DENGAN BASELINE MODELNYA TANPA SCALING."
      ]
    },
    {
      "cell_type": "markdown",
      "metadata": {
        "id": "VWcdP2aKnwpg",
        "colab_type": "text"
      },
      "source": [
        "selanjutnya akan dicoba dengan menggunakakn hyperparameter tuning"
      ]
    },
    {
      "cell_type": "markdown",
      "metadata": {
        "id": "MfP5eZ6kn6KQ",
        "colab_type": "text"
      },
      "source": [
        "#### LOGISTIC REGRESSION - TUNING - SCALED"
      ]
    },
    {
      "cell_type": "code",
      "metadata": {
        "colab_type": "code",
        "id": "trWp2yg2n36p",
        "colab": {
          "base_uri": "https://localhost:8080/",
          "height": 33
        },
        "outputId": "7c30f9af-668b-4077-dd86-3ff293666dcb"
      },
      "source": [
        "param={\"penalty\":[\"l1\",\"l2\"],\n",
        "       \"max_iter\":[3000,5000],\n",
        "       \"solver\": ['newton-cg', 'lbfgs', 'sag', 'saga']\n",
        "                        }\n",
        "\n",
        "gridsearch= GridSearchCV(estimator=logreg_base,\n",
        "                        param_grid=param,\n",
        "                         scoring=\"accuracy\",\n",
        "                         cv=5,\n",
        "                         n_jobs=-1\n",
        "                        )\n",
        "\n",
        "gridsearch.fit(x_train,y_train)\n",
        "\n",
        "gridsearch.best_params_"
      ],
      "execution_count": 160,
      "outputs": [
        {
          "output_type": "execute_result",
          "data": {
            "text/plain": [
              "{'max_iter': 3000, 'penalty': 'l1', 'solver': 'saga'}"
            ]
          },
          "metadata": {
            "tags": []
          },
          "execution_count": 160
        }
      ]
    },
    {
      "cell_type": "code",
      "metadata": {
        "colab_type": "code",
        "id": "qozK0GkDn36s",
        "colab": {
          "base_uri": "https://localhost:8080/",
          "height": 167
        },
        "outputId": "00b20e11-45d6-4c3a-8402-384fc90564b9"
      },
      "source": [
        "logreg_tuned=LogisticRegression(max_iter=3000,solver=\"saga\",penalty=\"l1\",random_state=101)\n",
        "logreg_tuned.fit(x_train,y_train)\n",
        "logreg_tuned_pred=logreg_tuned.predict(x_test)\n",
        "\n",
        "logreg_tuned_scaled_acc=accuracy_score(y_test, logreg_tuned_pred)\n",
        "print(classification_report(y_test,logreg_tuned_pred))"
      ],
      "execution_count": 161,
      "outputs": [
        {
          "output_type": "stream",
          "text": [
            "              precision    recall  f1-score   support\n",
            "\n",
            "           0       0.84      0.91      0.87      1033\n",
            "           1       0.66      0.51      0.57       374\n",
            "\n",
            "    accuracy                           0.80      1407\n",
            "   macro avg       0.75      0.71      0.72      1407\n",
            "weighted avg       0.79      0.80      0.79      1407\n",
            "\n"
          ],
          "name": "stdout"
        }
      ]
    },
    {
      "cell_type": "code",
      "metadata": {
        "colab_type": "code",
        "id": "BqI6pSZ7n36u",
        "colab": {
          "base_uri": "https://localhost:8080/",
          "height": 183
        },
        "outputId": "f627ec3b-8520-4a3c-cbdf-39184834ae1a"
      },
      "source": [
        "logreg_tuned.fit(x_train,y_train)\n",
        "logreg_tuned_pred=logreg_tuned.predict(x_train)\n",
        "\n",
        "print(accuracy_score(y_train, logreg_tuned_pred))\n",
        "print(classification_report(y_train,logreg_tuned_pred))"
      ],
      "execution_count": 162,
      "outputs": [
        {
          "output_type": "stream",
          "text": [
            "0.8046222222222222\n",
            "              precision    recall  f1-score   support\n",
            "\n",
            "           0       0.85      0.90      0.87      4130\n",
            "           1       0.66      0.55      0.60      1495\n",
            "\n",
            "    accuracy                           0.80      5625\n",
            "   macro avg       0.75      0.72      0.74      5625\n",
            "weighted avg       0.80      0.80      0.80      5625\n",
            "\n"
          ],
          "name": "stdout"
        }
      ]
    },
    {
      "cell_type": "markdown",
      "metadata": {
        "colab_type": "text",
        "id": "nOUsWs-5n36y"
      },
      "source": [
        "#### Random Forest - Tuning\n",
        "\n"
      ]
    },
    {
      "cell_type": "code",
      "metadata": {
        "colab_type": "code",
        "id": "nUDvhGBZn36y",
        "colab": {
          "base_uri": "https://localhost:8080/",
          "height": 100
        },
        "outputId": "11da64d6-57f0-4200-bbce-20e6adea0ece"
      },
      "source": [
        "param={\"max_depth\":[int(x) for x in np.linspace(start=1, stop=30, num=5)],\n",
        "       \"n_estimators\":[int(x) for x in np.linspace(start=1, stop=200, num=5)]\n",
        "      }\n",
        "\n",
        "randomsearch=RandomizedSearchCV(estimator=rf_base,\n",
        "                             param_distributions=param,\n",
        "                             cv=5,\n",
        "                             scoring=\"accuracy\", \n",
        "                              verbose=1,\n",
        "                             n_jobs=-1)\n",
        "\n",
        "randomsearch.fit(x_train,y_train)\n",
        "\n",
        "randomsearch.best_params_"
      ],
      "execution_count": 163,
      "outputs": [
        {
          "output_type": "stream",
          "text": [
            "Fitting 5 folds for each of 10 candidates, totalling 50 fits\n"
          ],
          "name": "stdout"
        },
        {
          "output_type": "stream",
          "text": [
            "[Parallel(n_jobs=-1)]: Using backend LokyBackend with 2 concurrent workers.\n",
            "[Parallel(n_jobs=-1)]: Done  46 tasks      | elapsed:   15.0s\n",
            "[Parallel(n_jobs=-1)]: Done  50 out of  50 | elapsed:   16.8s finished\n"
          ],
          "name": "stderr"
        },
        {
          "output_type": "execute_result",
          "data": {
            "text/plain": [
              "{'max_depth': 8, 'n_estimators': 200}"
            ]
          },
          "metadata": {
            "tags": []
          },
          "execution_count": 163
        }
      ]
    },
    {
      "cell_type": "code",
      "metadata": {
        "colab_type": "code",
        "id": "0u-LQnlbn360",
        "colab": {
          "base_uri": "https://localhost:8080/",
          "height": 167
        },
        "outputId": "0923534a-b3e4-4e1d-f79d-68fc85091ea2"
      },
      "source": [
        "rf_tuned=RandomForestClassifier(max_depth=8, n_estimators=200, random_state=101)\n",
        "rf_tuned.fit(x_train,y_train)\n",
        "rf_tuned_pred=rf_tuned.predict(x_test)\n",
        "\n",
        "rf_tuned__scaled_acc=accuracy_score(y_test, rf_tuned_pred)\n",
        "print(classification_report(y_test,rf_tuned_pred))"
      ],
      "execution_count": 164,
      "outputs": [
        {
          "output_type": "stream",
          "text": [
            "              precision    recall  f1-score   support\n",
            "\n",
            "           0       0.83      0.93      0.88      1033\n",
            "           1       0.71      0.48      0.57       374\n",
            "\n",
            "    accuracy                           0.81      1407\n",
            "   macro avg       0.77      0.70      0.72      1407\n",
            "weighted avg       0.80      0.81      0.80      1407\n",
            "\n"
          ],
          "name": "stdout"
        }
      ]
    },
    {
      "cell_type": "code",
      "metadata": {
        "colab_type": "code",
        "id": "jYF57f6An362",
        "colab": {
          "base_uri": "https://localhost:8080/",
          "height": 183
        },
        "outputId": "ec275219-cc47-4ea9-b77b-9bf56aae0784"
      },
      "source": [
        "#cross-checking for over/under-fitting by predicting the train data\n",
        "rf_tuned.fit(x_train,y_train)\n",
        "rf_tuned_pred=rf_tuned.predict(x_train)\n",
        "\n",
        "print(accuracy_score(y_train, rf_tuned_pred))\n",
        "print(classification_report(y_train,rf_tuned_pred))"
      ],
      "execution_count": 165,
      "outputs": [
        {
          "output_type": "stream",
          "text": [
            "0.8241777777777778\n",
            "              precision    recall  f1-score   support\n",
            "\n",
            "           0       0.85      0.93      0.89      4130\n",
            "           1       0.73      0.54      0.62      1495\n",
            "\n",
            "    accuracy                           0.82      5625\n",
            "   macro avg       0.79      0.73      0.75      5625\n",
            "weighted avg       0.82      0.82      0.82      5625\n",
            "\n"
          ],
          "name": "stdout"
        }
      ]
    },
    {
      "cell_type": "markdown",
      "metadata": {
        "colab_type": "text",
        "id": "i816JO-Hn364"
      },
      "source": [
        "RF - TUNED MENDAPATKAN HASIL YANG SEDIKIT LEBIH BAIK NAMUN TIDAK SIGNIFIKAN"
      ]
    },
    {
      "cell_type": "markdown",
      "metadata": {
        "colab_type": "text",
        "id": "YiM227e4n364"
      },
      "source": [
        "#### Gradient Boosting - Tuning"
      ]
    },
    {
      "cell_type": "code",
      "metadata": {
        "colab_type": "code",
        "id": "rIeC5V4Qn365",
        "colab": {
          "base_uri": "https://localhost:8080/",
          "height": 83
        },
        "outputId": "1771c9b8-1113-4972-d100-958097459bef"
      },
      "source": [
        "param={\"learning_rate\":[int(x) for x in np.linspace(start=0.01, stop=1, num=3)],\n",
        "       \"n_estimators\":[int(x) for x in np.linspace(start=100, stop=1000, num=3)],\n",
        "       \"max_depth\":[int(x) for x in np.linspace(start=1, stop=30, num=3)]}\n",
        "\n",
        "randomsearch=RandomizedSearchCV(estimator=gboost_base,\n",
        "                             param_distributions=param,\n",
        "                             cv=5,\n",
        "                             scoring=\"accuracy\", \n",
        "                              verbose=1,\n",
        "                             n_jobs=-1)\n",
        "\n",
        "randomsearch.fit(x_train,y_train)\n",
        "\n",
        "randomsearch.best_params_"
      ],
      "execution_count": 166,
      "outputs": [
        {
          "output_type": "stream",
          "text": [
            "Fitting 5 folds for each of 10 candidates, totalling 50 fits\n"
          ],
          "name": "stdout"
        },
        {
          "output_type": "stream",
          "text": [
            "[Parallel(n_jobs=-1)]: Using backend LokyBackend with 2 concurrent workers.\n",
            "[Parallel(n_jobs=-1)]: Done  50 out of  50 | elapsed:   20.5s finished\n"
          ],
          "name": "stderr"
        },
        {
          "output_type": "execute_result",
          "data": {
            "text/plain": [
              "{'learning_rate': 1, 'max_depth': 1, 'n_estimators': 100}"
            ]
          },
          "metadata": {
            "tags": []
          },
          "execution_count": 166
        }
      ]
    },
    {
      "cell_type": "code",
      "metadata": {
        "colab_type": "code",
        "id": "vwKiZzISn368",
        "colab": {
          "base_uri": "https://localhost:8080/",
          "height": 167
        },
        "outputId": "e1be4650-9774-4181-dfbd-8c09c416cda4"
      },
      "source": [
        "gboost_tuned=GradientBoostingClassifier(n_estimators=100, learning_rate=1, max_depth=1, random_state=101)\n",
        "gboost_tuned.fit(x_train,y_train)\n",
        "gboost_tuned_pred=gboost_tuned.predict(x_test)\n",
        "\n",
        "gboost_tuned_scaled_acc=accuracy_score(y_test, gboost_tuned_pred)\n",
        "print(classification_report(y_test,gboost_tuned_pred))"
      ],
      "execution_count": 167,
      "outputs": [
        {
          "output_type": "stream",
          "text": [
            "              precision    recall  f1-score   support\n",
            "\n",
            "           0       0.84      0.91      0.87      1033\n",
            "           1       0.67      0.52      0.58       374\n",
            "\n",
            "    accuracy                           0.80      1407\n",
            "   macro avg       0.75      0.71      0.73      1407\n",
            "weighted avg       0.79      0.80      0.79      1407\n",
            "\n"
          ],
          "name": "stdout"
        }
      ]
    },
    {
      "cell_type": "code",
      "metadata": {
        "colab_type": "code",
        "id": "d7sYrhE2n36-",
        "colab": {
          "base_uri": "https://localhost:8080/",
          "height": 183
        },
        "outputId": "297b3b61-038d-4f03-ce59-fbd1b2b12167"
      },
      "source": [
        "#cross-checking for over/under-fitting by predicting the train data\n",
        "gboost_tuned.fit(x_train,y_train)\n",
        "gboost_tuned_pred=gboost_tuned.predict(x_train)\n",
        "\n",
        "print(accuracy_score(y_train, gboost_tuned_pred))\n",
        "print(classification_report(y_train,gboost_tuned_pred))"
      ],
      "execution_count": 168,
      "outputs": [
        {
          "output_type": "stream",
          "text": [
            "0.8104888888888889\n",
            "              precision    recall  f1-score   support\n",
            "\n",
            "           0       0.85      0.90      0.88      4130\n",
            "           1       0.68      0.55      0.61      1495\n",
            "\n",
            "    accuracy                           0.81      5625\n",
            "   macro avg       0.76      0.73      0.74      5625\n",
            "weighted avg       0.80      0.81      0.80      5625\n",
            "\n"
          ],
          "name": "stdout"
        }
      ]
    },
    {
      "cell_type": "markdown",
      "metadata": {
        "id": "adB0R4oToh7L",
        "colab_type": "text"
      },
      "source": [
        "TERLIHAT DILAKUKANNYA SCALING JUGA TIDAK TERLALU MERUBAH HASIL AKURASI DARI BERBAGAI MODEL INI, KECUALI UNTUK RANDOM FOREST YANG MENGALAMI SEDIKIT PENINGKATAN YANG TIDAK SIGNIFIKAN."
      ]
    },
    {
      "cell_type": "markdown",
      "metadata": {
        "id": "T2FU22eRo0Fe",
        "colab_type": "text"
      },
      "source": [
        "CONCLUSION: dari hasil percobaan berbagai model di atas, beberapa model yang terbaik adalah Gradien Boosting - Baseline Model dengan accuracy score 0.82, dimana model ini tidak mengalami overfitting setelah dicek terhadap data train maupun data test, serta tidak membutuhkan preprocessing lain (seperti pemilihan FI, SMOTE, maupun scaling)."
      ]
    }
  ]
}